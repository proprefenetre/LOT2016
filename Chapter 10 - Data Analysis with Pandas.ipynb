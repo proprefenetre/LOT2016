{
 "cells": [
  {
   "cell_type": "markdown",
   "metadata": {},
   "source": [
    "# Data Analysis with Python (Pandas)"
   ]
  },
  {
   "cell_type": "markdown",
   "metadata": {},
   "source": [
    "---"
   ]
  },
  {
   "cell_type": "markdown",
   "metadata": {},
   "source": [
    "<img src=\"https://viezeliedjes.files.wordpress.com/2014/09/kbmarskramersceptisch.jpg?w=982&h=760\" align=\"right\" width=250/>In the Data Science community, Python is well known for its excellent data manipulation capabilities (e.g. matrix handling). In this chapter, we will review a number of vital external libraries in this respect (numpy, pandas), which allow scholars to load, manipulate and analyze tabular data. As example data, we will work with data from the [Meertens Tune Collection](http://www.liederenbank.nl/mtc/). We will work with the MTC-FS dataset which consists of 4120 digitally encoded vocal folk songs both from *Onder de groene linde* (2503) and from various related written sources (1617).\n",
    "\n",
    "In this chapter, we will show you some of the basic plotting functionality available in Python. The plots can be embedded in the notebooks by executing the following cell:"
   ]
  },
  {
   "cell_type": "code",
   "execution_count": null,
   "metadata": {
    "collapsed": false
   },
   "outputs": [],
   "source": []
  },
  {
   "cell_type": "code",
   "execution_count": 1,
   "metadata": {
    "collapsed": false
   },
   "outputs": [],
   "source": [
    "%matplotlib inline"
   ]
  },
  {
   "cell_type": "markdown",
   "metadata": {},
   "source": [
    "The default colors of matplotlib are not the most pretty ones. We can change that using:"
   ]
  },
  {
   "cell_type": "code",
   "execution_count": 2,
   "metadata": {
    "collapsed": false
   },
   "outputs": [],
   "source": [
    "import matplotlib\n",
    "matplotlib.style.use('ggplot')"
   ]
  },
  {
   "cell_type": "markdown",
   "metadata": {},
   "source": [
    "This chapter will introduce you to the basics of the Python Data Analysis Library **Pandas**. The library is very well documented and contains about all the fuctionality you need to work with tabular data and time-indexed data. We begin with importing the library into the Python workspace:"
   ]
  },
  {
   "cell_type": "code",
   "execution_count": 3,
   "metadata": {
    "collapsed": true
   },
   "outputs": [],
   "source": [
    "import pandas as pd"
   ]
  },
  {
   "cell_type": "markdown",
   "metadata": {},
   "source": [
    "## Reading Data from a csv / excel file "
   ]
  },
  {
   "cell_type": "markdown",
   "metadata": {},
   "source": [
    "Pandas provides a simple method to read CSV files. To read the metadata file of the Meertens Tune Collection, execute the following cell:"
   ]
  },
  {
   "cell_type": "code",
   "execution_count": null,
   "metadata": {
    "collapsed": false
   },
   "outputs": [],
   "source": [
    "df = pandas.read_csv(\"data/MTC-FS.csv\")  # returns an (R-like) dataframe"
   ]
  },
  {
   "cell_type": "markdown",
   "metadata": {},
   "source": [
    "`pandas.read_csv` returns a `DataFrame` object, which is one of the most important data structures in Pandas. Let's have a look at this data structure:"
   ]
  },
  {
   "cell_type": "code",
   "execution_count": null,
   "metadata": {
    "collapsed": false
   },
   "outputs": [],
   "source": [
    "df"
   ]
  },
  {
   "cell_type": "markdown",
   "metadata": {},
   "source": [
    "The IPython notebooks work seamlessly with Pandas and display a nicely formatted HTML table. We can access the first, say, 5 rows of this table using a slicing operation:"
   ]
  },
  {
   "cell_type": "code",
   "execution_count": null,
   "metadata": {
    "collapsed": false
   },
   "outputs": [],
   "source": [
    "df[:5]"
   ]
  },
  {
   "cell_type": "markdown",
   "metadata": {},
   "source": [
    "An equivalent, yet slightly better understandable method is to use the `.head` method:"
   ]
  },
  {
   "cell_type": "code",
   "execution_count": null,
   "metadata": {
    "collapsed": false
   },
   "outputs": [],
   "source": [
    "y = 0\n",
    "for x in df.values:\n",
    "    while y < 10:\n",
    "        print(x)\n",
    "        y+=1"
   ]
  },
  {
   "cell_type": "markdown",
   "metadata": {},
   "source": [
    "By default `.head` returns the first 5 rows of a DataFrame. The method takes one optional argument `n` with which you can specify how many rows to show:"
   ]
  },
  {
   "cell_type": "code",
   "execution_count": null,
   "metadata": {
    "collapsed": true
   },
   "outputs": [],
   "source": [
    "df.head(n=10)"
   ]
  },
  {
   "cell_type": "markdown",
   "metadata": {},
   "source": [
    "The `pandas.read_csv` method takes many optional arguments that allow you to parse all kinds of CSV files (e.g. with different encodings, missing values, different separators etc.). One of the columns in our dataframe contains the date of the recordings. By default, Pandas will parse those columns as string objects. We can specify which columns should be parsed as dates using the following statement:"
   ]
  },
  {
   "cell_type": "code",
   "execution_count": 5,
   "metadata": {
    "collapsed": false
   },
   "outputs": [],
   "source": [
    "df = pd.read_csv(\"data/MTC-FS.csv\", parse_dates=['date_of_recording'])"
   ]
  },
  {
   "cell_type": "markdown",
   "metadata": {},
   "source": [
    "Remember, to quickly access the documentation of a method or function, you can use a question mark, as in:"
   ]
  },
  {
   "cell_type": "code",
   "execution_count": null,
   "metadata": {
    "collapsed": true
   },
   "outputs": [],
   "source": [
    "pandas.read_csv?"
   ]
  },
  {
   "cell_type": "markdown",
   "metadata": {},
   "source": [
    "Since we will be using many functions such as `.read_csv` it would be convenient not having to type `pandas` all the time. Python allows you to import libraries using an alias, as in:"
   ]
  },
  {
   "cell_type": "code",
   "execution_count": null,
   "metadata": {
    "collapsed": true
   },
   "outputs": [],
   "source": [
    "import pandas as pd"
   ]
  },
  {
   "cell_type": "markdown",
   "metadata": {},
   "source": [
    "Now we can use `pd.read_csv` instead of `pandas.read_csv`:"
   ]
  },
  {
   "cell_type": "code",
   "execution_count": 6,
   "metadata": {
    "collapsed": true
   },
   "outputs": [],
   "source": [
    "df = pd.read_csv(\"data/MTC-FS.csv\", parse_dates=['date_of_recording'])"
   ]
  },
  {
   "cell_type": "markdown",
   "metadata": {},
   "source": [
    "## Accessing Rows & Columns"
   ]
  },
  {
   "cell_type": "markdown",
   "metadata": {},
   "source": [
    "Pandas DataFrames work much like regular Python dictionaries. You can retrieve the contents of a column as follows:"
   ]
  },
  {
   "cell_type": "code",
   "execution_count": null,
   "metadata": {
    "collapsed": false,
    "scrolled": true
   },
   "outputs": [],
   "source": [
    "type(df['tunefamily']) # pandas.core.series.Series"
   ]
  },
  {
   "cell_type": "markdown",
   "metadata": {},
   "source": [
    "If the column name does not contain any spaces, Pandas will turn the column name into an attribute of the DataFrame which can be accessed as follows:"
   ]
  },
  {
   "cell_type": "code",
   "execution_count": null,
   "metadata": {
    "collapsed": false
   },
   "outputs": [],
   "source": [
    "type(df.tunefamily) # same"
   ]
  },
  {
   "cell_type": "markdown",
   "metadata": {},
   "source": [
    "To access a particular row of a DataFrame, Pandas specifies to use the method `.ix`, as in:"
   ]
  },
  {
   "cell_type": "code",
   "execution_count": null,
   "metadata": {
    "collapsed": true
   },
   "outputs": [],
   "source": [
    "df.ix[0]"
   ]
  },
  {
   "cell_type": "markdown",
   "metadata": {},
   "source": [
    "---"
   ]
  },
  {
   "cell_type": "markdown",
   "metadata": {},
   "source": [
    "#### Q1"
   ]
  },
  {
   "cell_type": "markdown",
   "metadata": {},
   "source": [
    "Write some code that shows the contents of another column. Tip: you can use `df.columns` to see which column names are available. "
   ]
  },
  {
   "cell_type": "code",
   "execution_count": null,
   "metadata": {
    "collapsed": false
   },
   "outputs": [],
   "source": [
    "# insert your code here\n",
    "df.columns\n",
    "#df['place_of_recording']\n",
    "df.place_of_recording\n",
    "#print('####')\n",
    "#df.ix[1] # row"
   ]
  },
  {
   "cell_type": "markdown",
   "metadata": {},
   "source": [
    "We have seen the method `.head`. What would be the equivalent method to show the *n* last rows of a DataFrame? Hint: think of a dog. Try printing the *n=20* last rows."
   ]
  },
  {
   "cell_type": "code",
   "execution_count": null,
   "metadata": {
    "collapsed": false
   },
   "outputs": [],
   "source": [
    "# insert your code here\n",
    "df.tail(n=5)"
   ]
  },
  {
   "cell_type": "markdown",
   "metadata": {},
   "source": [
    "---"
   ]
  },
  {
   "cell_type": "markdown",
   "metadata": {},
   "source": [
    "## Selecting Multiple Columns"
   ]
  },
  {
   "cell_type": "markdown",
   "metadata": {},
   "source": [
    "Pandas allows you to conveniently select multiple columns in a DataFrame. The syntax is the same as with a single column, but here we provide a list of the columns we want to retrieve:"
   ]
  },
  {
   "cell_type": "code",
   "execution_count": null,
   "metadata": {
    "collapsed": false
   },
   "outputs": [],
   "source": [
    "df[['tunefamily', 'title']] # new dataframe\n"
   ]
  },
  {
   "cell_type": "markdown",
   "metadata": {},
   "source": [
    "These objects are reduced DataFrames that behave exactly the same as the orginal DataFrame. We can slice them as follows:"
   ]
  },
  {
   "cell_type": "code",
   "execution_count": null,
   "metadata": {
    "collapsed": false
   },
   "outputs": [],
   "source": [
    "df[['tunefamily', 'title']].head()"
   ]
  },
  {
   "cell_type": "markdown",
   "metadata": {},
   "source": [
    "Or we first slice the DataFrame and then select the columns we're interested in:"
   ]
  },
  {
   "cell_type": "code",
   "execution_count": null,
   "metadata": {
    "collapsed": false
   },
   "outputs": [],
   "source": [
    "df[:5][['tunefamily', 'title']]"
   ]
  },
  {
   "cell_type": "markdown",
   "metadata": {},
   "source": [
    "## Counting discrete variables"
   ]
  },
  {
   "cell_type": "markdown",
   "metadata": {},
   "source": [
    "Most columns in the MTC dataset are categorical. Pandas provides the convenient method `.value_counts` which returns how often a particular value of a column occurs. Let's see that in action:"
   ]
  },
  {
   "cell_type": "code",
   "execution_count": null,
   "metadata": {
    "collapsed": false
   },
   "outputs": [],
   "source": [
    "df.tunefamily.head()"
   ]
  },
  {
   "cell_type": "markdown",
   "metadata": {},
   "source": [
    "As you can see, the column tunefamily contains many duplicates. We would like to obtain a frequency distribution of the tune families in the collection. This can be easily done using:"
   ]
  },
  {
   "cell_type": "code",
   "execution_count": null,
   "metadata": {
    "collapsed": false
   },
   "outputs": [],
   "source": [
    "df.tunefamily.value_counts()"
   ]
  },
  {
   "cell_type": "markdown",
   "metadata": {},
   "source": [
    "To print only the *n* most frequent tune families, we can use:"
   ]
  },
  {
   "cell_type": "code",
   "execution_count": null,
   "metadata": {
    "collapsed": false
   },
   "outputs": [],
   "source": [
    "df.tunefamily.value_counts()[:10]"
   ]
  },
  {
   "cell_type": "markdown",
   "metadata": {},
   "source": [
    "It gets even better. We can plot these frequency distributions by simply adding `.plot`!"
   ]
  },
  {
   "cell_type": "code",
   "execution_count": null,
   "metadata": {
    "collapsed": false
   },
   "outputs": [],
   "source": [
    "df.tunefamily.value_counts()[:10].plot(kind='bar')\n",
    "#df.tunefamily.value_counts()[:10].plot(kind='hist')\n"
   ]
  },
  {
   "cell_type": "code",
   "execution_count": null,
   "metadata": {
    "collapsed": false
   },
   "outputs": [],
   "source": [
    "df.tunefamily.value_counts()[:10].plot()"
   ]
  },
  {
   "cell_type": "markdown",
   "metadata": {},
   "source": [
    "---"
   ]
  },
  {
   "cell_type": "markdown",
   "metadata": {},
   "source": [
    "#### Q2"
   ]
  },
  {
   "cell_type": "markdown",
   "metadata": {},
   "source": [
    "Make a bar plot showing the 10 most frequent places where recordings have been made."
   ]
  },
  {
   "cell_type": "code",
   "execution_count": null,
   "metadata": {
    "collapsed": false
   },
   "outputs": [],
   "source": [
    "# insert your code here\n",
    "df.columns\n",
    "df.place_of_recording.value_counts().head(n=10).plot(kind='bar')\n",
    "#"
   ]
  },
  {
   "cell_type": "markdown",
   "metadata": {},
   "source": [
    "Make a density plot of the place name frequency distribution. Tip: search for 'density' at: http://pandas.pydata.org/pandas-docs/stable/visualization.html"
   ]
  },
  {
   "cell_type": "code",
   "execution_count": null,
   "metadata": {
    "collapsed": false
   },
   "outputs": [],
   "source": [
    "# insert you code here\n",
    "df.columns\n",
    "df.place_of_recording.value_counts().plot(kind='kde')"
   ]
  },
  {
   "cell_type": "markdown",
   "metadata": {},
   "source": [
    "---"
   ]
  },
  {
   "cell_type": "markdown",
   "metadata": {},
   "source": [
    "The method `.value_counts` returns an object which is called a `Series` in pandas. DataFrames consist of columns which are Series objects. `Series` have many methods available, such as the `.plot` method. Other methods are: `.sum`, `.mean`, `.median` etc:"
   ]
  },
  {
   "cell_type": "code",
   "execution_count": null,
   "metadata": {
    "collapsed": false
   },
   "outputs": [],
   "source": [
    "# columns are Series\n",
    "tune_counts = df.tunefamily.value_counts()\n",
    "print(type(tune_counts))\n",
    "print(tune_counts.sum())\n",
    "print(tune_counts.mean())\n",
    "print(tune_counts.median())\n",
    "tune_counts.t # nice"
   ]
  },
  {
   "cell_type": "markdown",
   "metadata": {},
   "source": [
    "To get a quick summary of a Series object, use the method `.describe`:"
   ]
  },
  {
   "cell_type": "code",
   "execution_count": null,
   "metadata": {
    "collapsed": false
   },
   "outputs": [],
   "source": [
    "tune_counts.describe()"
   ]
  },
  {
   "cell_type": "markdown",
   "metadata": {},
   "source": [
    "---"
   ]
  },
  {
   "cell_type": "markdown",
   "metadata": {},
   "source": [
    "#### Q3"
   ]
  },
  {
   "cell_type": "markdown",
   "metadata": {},
   "source": [
    "In the next cell, place your cursor behind the dot and hit TAB to retrieve an overview of the many methods available."
   ]
  },
  {
   "cell_type": "code",
   "execution_count": null,
   "metadata": {
    "collapsed": false
   },
   "outputs": [],
   "source": [
    "tune_counts."
   ]
  },
  {
   "cell_type": "markdown",
   "metadata": {},
   "source": [
    "Write a line of code which computes the cumulative sum of `tune_counts` and plots it as a line plot. A cumulative sum is a series of partial sums over a given sequence, rather than just the final number in that series (which would be the regular sum)."
   ]
  },
  {
   "cell_type": "code",
   "execution_count": null,
   "metadata": {
    "collapsed": false
   },
   "outputs": [],
   "source": [
    "# insert your code here\n",
    "tune_counts.cumsum().plot() # nice..."
   ]
  },
  {
   "cell_type": "markdown",
   "metadata": {},
   "source": [
    "## Data selection under conditions"
   ]
  },
  {
   "cell_type": "markdown",
   "metadata": {},
   "source": [
    "Often we are interested in particular rows of a dataframe that satisfy particular conditions. We might be interested in all recordings that were made in Groningen for example, or all recordings before 1980. In the previous chapters you have written a lot of code that involved looping over an iterable and depending on whether some condition held, append each item in that iterable to a new list. In Pandas people generally avoid looping and prefer to use so-called vectorized operations that take care of the looping internally.\n",
    "\n",
    "Say we are interested in all records of which the tune family is equal to `Die schuintamboers 1`. Normally we would write a loop, such as:\n",
    "\n",
    "    results = []\n",
    "    for row in df:\n",
    "        if row.tunefamily == 'Drie schuintamboers 1':\n",
    "            results.append(row)\n",
    "    print(results)\n",
    "\n",
    "(Note that the above code will not actually work, because of the way DataFrames are structured and looped over, but it shows a standard looping approach). In Pandas you can achieve the same thing (and better!) by using the following single line:"
   ]
  },
  {
   "cell_type": "code",
   "execution_count": null,
   "metadata": {
    "collapsed": true
   },
   "outputs": [],
   "source": [
    "df[df.tunefamily == 'Drie schuintamboers 1'] # select all rows where tunefamily is eq to 'title' -- returns a dataframe"
   ]
  },
  {
   "cell_type": "code",
   "execution_count": null,
   "metadata": {
    "collapsed": true
   },
   "outputs": [],
   "source": [
    "stuff"
   ]
  },
  {
   "cell_type": "markdown",
   "metadata": {},
   "source": [
    "Let's break that statement down. The inner statement `df.tunefamily == 'Drie schuintamboers 1'` tests for each item in the column `tunefamily` whether it is equal to `'Drie schuintamboers 1'`. When we execute that seperately, Python returns a Series object with boolean values that are either `True` (if it was a match) or `False` (if the item didn't match):"
   ]
  },
  {
   "cell_type": "code",
   "execution_count": null,
   "metadata": {
    "collapsed": false,
    "scrolled": true
   },
   "outputs": [],
   "source": [
    "df.tunefamily == 'Drie schuintamboers 1'"
   ]
  },
  {
   "cell_type": "markdown",
   "metadata": {},
   "source": [
    "When we *index* our `df` with this Series object, we get just the rows where the condition holds."
   ]
  },
  {
   "cell_type": "markdown",
   "metadata": {},
   "source": [
    "---"
   ]
  },
  {
   "cell_type": "markdown",
   "metadata": {},
   "source": [
    "#### Q4"
   ]
  },
  {
   "cell_type": "markdown",
   "metadata": {},
   "source": [
    "Write a line of code that returns a new dataframe in which all recordings are from Groningen."
   ]
  },
  {
   "cell_type": "code",
   "execution_count": null,
   "metadata": {
    "collapsed": false,
    "scrolled": false
   },
   "outputs": [],
   "source": [
    "# insert your code here\n",
    "df[df.place_of_recording == \"Groningen\"]"
   ]
  },
  {
   "cell_type": "markdown",
   "metadata": {},
   "source": [
    "What is the tunefamily that is most often attested in Amsterdam? (Tip: remember the value_counts method you can call on (filtered) DataFrames. Also, Series objects have a method called `argmax` that returns the argument corresponding to a maximum value.)"
   ]
  },
  {
   "cell_type": "code",
   "execution_count": null,
   "metadata": {
    "collapsed": false
   },
   "outputs": [],
   "source": [
    "# insert your code here\n",
    "df[df.place_of_recording == \"Amsterdam\"].tunefamily.value_counts().argmax() # without the parentheses this returns a \n",
    "                                                                            # dataframe"
   ]
  },
  {
   "cell_type": "markdown",
   "metadata": {},
   "source": [
    "---"
   ]
  },
  {
   "cell_type": "markdown",
   "metadata": {},
   "source": [
    "We can easily select data on the basis of multiple conditions. Here is an example:"
   ]
  },
  {
   "cell_type": "code",
   "execution_count": null,
   "metadata": {
    "collapsed": false
   },
   "outputs": [],
   "source": [
    "in_Assen = df.place_of_recording == 'Assen'\n",
    "is_Suze = df.tunefamily == 'Suze mien lam'\n",
    "#df[in_Assen & is_Suze]\n",
    "df[(df.place_of_recording == 'Assen') & (df.tunefamily == 'Suze mien lam')]"
   ]
  },
  {
   "cell_type": "markdown",
   "metadata": {},
   "source": [
    "Just to show you that the returned object is another DataFrame, we select two columns to construct a reduced DataFrame:"
   ]
  },
  {
   "cell_type": "code",
   "execution_count": null,
   "metadata": {
    "collapsed": false
   },
   "outputs": [],
   "source": [
    "df[in_Assen & is_Suze][['filename', 'place_of_recording']]"
   ]
  },
  {
   "cell_type": "markdown",
   "metadata": {},
   "source": [
    "---"
   ]
  },
  {
   "cell_type": "markdown",
   "metadata": {},
   "source": [
    "#### Q5"
   ]
  },
  {
   "cell_type": "markdown",
   "metadata": {},
   "source": [
    "When we look at all values in `df.place_of_recording` we notice that many values are missing (NaN values). "
   ]
  },
  {
   "cell_type": "code",
   "execution_count": null,
   "metadata": {
    "collapsed": false
   },
   "outputs": [],
   "source": [
    "df.place_of_recording"
   ]
  },
  {
   "cell_type": "markdown",
   "metadata": {},
   "source": [
    "We can use the method `.isnull` (e.g. on a column) to select all items that are NaN. Similarly, the method `.notnull` is to select all items that are not NaN. Write a line of code that returns a new DataFrame in which for all records the place of recording is known."
   ]
  },
  {
   "cell_type": "code",
   "execution_count": null,
   "metadata": {
    "collapsed": false
   },
   "outputs": [],
   "source": [
    "# insert your code here\n",
    "placename_df = df[df.place_of_recording.notnull()] # use the square brackets to construct a dataframe\n",
    "placename_df"
   ]
  },
  {
   "cell_type": "markdown",
   "metadata": {},
   "source": [
    "---"
   ]
  },
  {
   "cell_type": "markdown",
   "metadata": {},
   "source": [
    "## TimeSeries"
   ]
  },
  {
   "cell_type": "markdown",
   "metadata": {},
   "source": [
    "Pandas is a library with tremendous functionality for tabular data. Another key feature of the library is the way it can work with time series. The MTC contains a column `date_of_recording` which provides for most but not all items the date at which the recording was made. In the following analyses, we would like to work with data for which the date of recording is known. We create the corresponding DataFrame as follows:"
   ]
  },
  {
   "cell_type": "code",
   "execution_count": 15,
   "metadata": {
    "collapsed": false
   },
   "outputs": [],
   "source": [
    "df = df[df.date_of_recording.notnull()]"
   ]
  },
  {
   "cell_type": "markdown",
   "metadata": {},
   "source": [
    "To conveniently work with time series, we set the index of the dataframe (i.e. the labels of the rows) to hold the contents of the column `date_of_recording`. Note that after this operation, the column `date_of_recording` is no longer part of the dataframe but only as an index."
   ]
  },
  {
   "cell_type": "code",
   "execution_count": 16,
   "metadata": {
    "collapsed": false
   },
   "outputs": [],
   "source": [
    "df = df.set_index(\"date_of_recording\")"
   ]
  },
  {
   "cell_type": "code",
   "execution_count": null,
   "metadata": {
    "collapsed": false
   },
   "outputs": [],
   "source": [
    "df.head()"
   ]
  },
  {
   "cell_type": "markdown",
   "metadata": {},
   "source": [
    "The Index of our new `df` is now of the type `DatetimeIndex`. (If not, the CSV was not read in with the argument `parse_dates=['date_of_recording']`)"
   ]
  },
  {
   "cell_type": "code",
   "execution_count": null,
   "metadata": {
    "collapsed": false
   },
   "outputs": [],
   "source": [
    "type(df.index)"
   ]
  },
  {
   "cell_type": "markdown",
   "metadata": {},
   "source": [
    "This data structure provides a vast amount of methods and functions to manipulate and index the data. For example, we can retrieve the year of each recording as follows:"
   ]
  },
  {
   "cell_type": "code",
   "execution_count": null,
   "metadata": {
    "collapsed": false
   },
   "outputs": [],
   "source": [
    "df.index.year"
   ]
  },
  {
   "cell_type": "markdown",
   "metadata": {},
   "source": [
    "Or the day:"
   ]
  },
  {
   "cell_type": "code",
   "execution_count": null,
   "metadata": {
    "collapsed": false
   },
   "outputs": [],
   "source": [
    "df.index.day"
   ]
  },
  {
   "cell_type": "markdown",
   "metadata": {},
   "source": [
    "Or the week:"
   ]
  },
  {
   "cell_type": "code",
   "execution_count": null,
   "metadata": {
    "collapsed": false
   },
   "outputs": [],
   "source": [
    "type(df.index)"
   ]
  },
  {
   "cell_type": "markdown",
   "metadata": {},
   "source": [
    "---"
   ]
  },
  {
   "cell_type": "markdown",
   "metadata": {},
   "source": [
    "#### Q6"
   ]
  },
  {
   "cell_type": "markdown",
   "metadata": {},
   "source": [
    "Write a single line of code which returns a new DataFrame consisting of all recordings made at January first (independent of the year). Tip: type `df.index.` followed by TAB to scan through an overview of all the available methods."
   ]
  },
  {
   "cell_type": "code",
   "execution_count": 17,
   "metadata": {
    "collapsed": true
   },
   "outputs": [
    {
     "data": {
      "text/html": [
       "<div>\n",
       "<table border=\"1\" class=\"dataframe\">\n",
       "  <thead>\n",
       "    <tr style=\"text-align: right;\">\n",
       "      <th></th>\n",
       "      <th>filename</th>\n",
       "      <th>songid</th>\n",
       "      <th>source_id</th>\n",
       "      <th>serial_number</th>\n",
       "      <th>page</th>\n",
       "      <th>singer_id_s</th>\n",
       "      <th>place_of_recording</th>\n",
       "      <th>latitude</th>\n",
       "      <th>longitude</th>\n",
       "      <th>title</th>\n",
       "      <th>...</th>\n",
       "      <th>textfamily_id</th>\n",
       "      <th>tunefamily_id</th>\n",
       "      <th>tunefamily</th>\n",
       "      <th>type</th>\n",
       "      <th>voice_strophe_number</th>\n",
       "      <th>voice_strophe</th>\n",
       "      <th>image_filename_s</th>\n",
       "      <th>audio_filename</th>\n",
       "      <th>variation</th>\n",
       "      <th>confidence</th>\n",
       "    </tr>\n",
       "    <tr>\n",
       "      <th>date_of_recording</th>\n",
       "      <th></th>\n",
       "      <th></th>\n",
       "      <th></th>\n",
       "      <th></th>\n",
       "      <th></th>\n",
       "      <th></th>\n",
       "      <th></th>\n",
       "      <th></th>\n",
       "      <th></th>\n",
       "      <th></th>\n",
       "      <th></th>\n",
       "      <th></th>\n",
       "      <th></th>\n",
       "      <th></th>\n",
       "      <th></th>\n",
       "      <th></th>\n",
       "      <th></th>\n",
       "      <th></th>\n",
       "      <th></th>\n",
       "      <th></th>\n",
       "      <th></th>\n",
       "    </tr>\n",
       "  </thead>\n",
       "  <tbody>\n",
       "    <tr>\n",
       "      <th>1959-01-01</th>\n",
       "      <td>NLB072273_01</td>\n",
       "      <td>72273</td>\n",
       "      <td>1011179</td>\n",
       "      <td>19307</td>\n",
       "      <td>NaN</td>\n",
       "      <td>0525</td>\n",
       "      <td>Leeuwarden</td>\n",
       "      <td>53.208801</td>\n",
       "      <td>5.815124</td>\n",
       "      <td>NaN</td>\n",
       "      <td>...</td>\n",
       "      <td>27706</td>\n",
       "      <td>4041_2</td>\n",
       "      <td>Ik heb de groene straten 2</td>\n",
       "      <td>folksong</td>\n",
       "      <td>1</td>\n",
       "      <td>stanza</td>\n",
       "      <td>NLB72273_01.jpg|NLB72273_02.jpg|NLB72273_03.jp...</td>\n",
       "      <td>NLB072273_all.mp3</td>\n",
       "      <td>NaN</td>\n",
       "      <td>neutral</td>\n",
       "    </tr>\n",
       "    <tr>\n",
       "      <th>1959-01-01</th>\n",
       "      <td>NLB072273_02</td>\n",
       "      <td>72273</td>\n",
       "      <td>1011179</td>\n",
       "      <td>19307</td>\n",
       "      <td>NaN</td>\n",
       "      <td>0525</td>\n",
       "      <td>Leeuwarden</td>\n",
       "      <td>53.208801</td>\n",
       "      <td>5.815124</td>\n",
       "      <td>NaN</td>\n",
       "      <td>...</td>\n",
       "      <td>27706</td>\n",
       "      <td>4041_2</td>\n",
       "      <td>Ik heb de groene straten 2</td>\n",
       "      <td>folksong</td>\n",
       "      <td>2</td>\n",
       "      <td>stanza</td>\n",
       "      <td>NLB72273_01.jpg|NLB72273_02.jpg|NLB72273_03.jp...</td>\n",
       "      <td>NLB072273_all.mp3</td>\n",
       "      <td>NaN</td>\n",
       "      <td>neutral</td>\n",
       "    </tr>\n",
       "    <tr>\n",
       "      <th>1958-01-01</th>\n",
       "      <td>NLB072307_01</td>\n",
       "      <td>72307</td>\n",
       "      <td>1011179</td>\n",
       "      <td>19604</td>\n",
       "      <td>NaN</td>\n",
       "      <td>0543</td>\n",
       "      <td>Noordwijk aan Zee</td>\n",
       "      <td>52.243155</td>\n",
       "      <td>4.434829</td>\n",
       "      <td>NaN</td>\n",
       "      <td>...</td>\n",
       "      <td>6801</td>\n",
       "      <td>1507_5</td>\n",
       "      <td>Daar zou er een maagdje vroeg opstaan 5</td>\n",
       "      <td>folksong</td>\n",
       "      <td>1</td>\n",
       "      <td>stanza</td>\n",
       "      <td>NLB72307_01.jpg|NLB72307_02.jpg</td>\n",
       "      <td>NLB072307_all.mp3</td>\n",
       "      <td>NaN</td>\n",
       "      <td>neutral</td>\n",
       "    </tr>\n",
       "    <tr>\n",
       "      <th>1959-01-01</th>\n",
       "      <td>NLB072308_01</td>\n",
       "      <td>72308</td>\n",
       "      <td>1011179</td>\n",
       "      <td>19605a en b</td>\n",
       "      <td>NaN</td>\n",
       "      <td>0605</td>\n",
       "      <td>Rockanje</td>\n",
       "      <td>51.880142</td>\n",
       "      <td>4.058703</td>\n",
       "      <td>NaN</td>\n",
       "      <td>...</td>\n",
       "      <td>6801</td>\n",
       "      <td>1507_5</td>\n",
       "      <td>Daar zou er een maagdje vroeg opstaan 5</td>\n",
       "      <td>folksong</td>\n",
       "      <td>1</td>\n",
       "      <td>stanza</td>\n",
       "      <td>NLB72308_01.jpg|NLB72308_02.jpg</td>\n",
       "      <td>NLB072308_all.mp3</td>\n",
       "      <td>NaN</td>\n",
       "      <td>neutral</td>\n",
       "    </tr>\n",
       "    <tr>\n",
       "      <th>1959-01-01</th>\n",
       "      <td>NLB072308_02</td>\n",
       "      <td>72308</td>\n",
       "      <td>1011179</td>\n",
       "      <td>19605a en b</td>\n",
       "      <td>NaN</td>\n",
       "      <td>0605</td>\n",
       "      <td>Rockanje</td>\n",
       "      <td>51.880142</td>\n",
       "      <td>4.058703</td>\n",
       "      <td>NaN</td>\n",
       "      <td>...</td>\n",
       "      <td>6801</td>\n",
       "      <td>1507_5</td>\n",
       "      <td>Daar zou er een maagdje vroeg opstaan 5</td>\n",
       "      <td>folksong</td>\n",
       "      <td>2</td>\n",
       "      <td>stanza</td>\n",
       "      <td>NLB72308_01.jpg|NLB72308_02.jpg</td>\n",
       "      <td>NLB072308_all.mp3</td>\n",
       "      <td>NaN</td>\n",
       "      <td>neutral</td>\n",
       "    </tr>\n",
       "    <tr>\n",
       "      <th>1958-01-01</th>\n",
       "      <td>NLB072482_01</td>\n",
       "      <td>72482</td>\n",
       "      <td>1011179</td>\n",
       "      <td>20612</td>\n",
       "      <td>NaN</td>\n",
       "      <td>0563</td>\n",
       "      <td>Westkapelle</td>\n",
       "      <td>51.525747</td>\n",
       "      <td>3.437807</td>\n",
       "      <td>NaN</td>\n",
       "      <td>...</td>\n",
       "      <td>21312</td>\n",
       "      <td>9779_0</td>\n",
       "      <td>Het was laatst op een zomerdag</td>\n",
       "      <td>folksong</td>\n",
       "      <td>1</td>\n",
       "      <td>stanza</td>\n",
       "      <td>NLB72482_01.jpg|NLB72482_02.jpg</td>\n",
       "      <td>NLB072482_all.mp3</td>\n",
       "      <td>NaN</td>\n",
       "      <td>neutral</td>\n",
       "    </tr>\n",
       "    <tr>\n",
       "      <th>1975-01-01</th>\n",
       "      <td>NLB076106_01</td>\n",
       "      <td>76106</td>\n",
       "      <td>1011179</td>\n",
       "      <td>45201</td>\n",
       "      <td>NaN</td>\n",
       "      <td>1893</td>\n",
       "      <td>Nieuwlande (Dalen)</td>\n",
       "      <td>52.720917</td>\n",
       "      <td>6.642440</td>\n",
       "      <td>NaN</td>\n",
       "      <td>...</td>\n",
       "      <td>20886</td>\n",
       "      <td>48_1</td>\n",
       "      <td>Aan de oever van een snelle vliet 1</td>\n",
       "      <td>folksong</td>\n",
       "      <td>1</td>\n",
       "      <td>stanza</td>\n",
       "      <td>NLB76106_01.jpg|NLB76106_02.jpg|NLB76106_03.jp...</td>\n",
       "      <td>NLB076106_all.mp3</td>\n",
       "      <td>NaN</td>\n",
       "      <td>neutral</td>\n",
       "    </tr>\n",
       "    <tr>\n",
       "      <th>1975-01-01</th>\n",
       "      <td>NLB076107_01</td>\n",
       "      <td>76107</td>\n",
       "      <td>1011179</td>\n",
       "      <td>45202</td>\n",
       "      <td>NaN</td>\n",
       "      <td>1893</td>\n",
       "      <td>Nieuwlande (Dalen)</td>\n",
       "      <td>52.720917</td>\n",
       "      <td>6.642440</td>\n",
       "      <td>NaN</td>\n",
       "      <td>...</td>\n",
       "      <td>1108</td>\n",
       "      <td>9912_0</td>\n",
       "      <td>De elf officieren</td>\n",
       "      <td>folksong</td>\n",
       "      <td>1</td>\n",
       "      <td>stanza</td>\n",
       "      <td>NLB76107_01.jpg|NLB76107_02.jpg|NLB76107_03.jp...</td>\n",
       "      <td>NLB076107_all.mp3</td>\n",
       "      <td>variation</td>\n",
       "      <td>weak</td>\n",
       "    </tr>\n",
       "    <tr>\n",
       "      <th>1975-01-01</th>\n",
       "      <td>NLB076108_01</td>\n",
       "      <td>76108</td>\n",
       "      <td>1011179</td>\n",
       "      <td>45203</td>\n",
       "      <td>NaN</td>\n",
       "      <td>1893</td>\n",
       "      <td>Nieuwlande (Dalen)</td>\n",
       "      <td>52.720917</td>\n",
       "      <td>6.642440</td>\n",
       "      <td>NaN</td>\n",
       "      <td>...</td>\n",
       "      <td>27706</td>\n",
       "      <td>9696_2</td>\n",
       "      <td>In Frankrijk buiten de poorten 2</td>\n",
       "      <td>folksong</td>\n",
       "      <td>1</td>\n",
       "      <td>stanza</td>\n",
       "      <td>NLB76108_01.jpg|NLB76108_02.jpg|NLB76108_03.jp...</td>\n",
       "      <td>NLB076108_all.mp3</td>\n",
       "      <td>NaN</td>\n",
       "      <td>neutral</td>\n",
       "    </tr>\n",
       "    <tr>\n",
       "      <th>1975-01-01</th>\n",
       "      <td>NLB076109_01</td>\n",
       "      <td>76109</td>\n",
       "      <td>1011179</td>\n",
       "      <td>45204</td>\n",
       "      <td>NaN</td>\n",
       "      <td>1894</td>\n",
       "      <td>Nieuwlande (Dalen)</td>\n",
       "      <td>52.720917</td>\n",
       "      <td>6.642440</td>\n",
       "      <td>NaN</td>\n",
       "      <td>...</td>\n",
       "      <td>8560</td>\n",
       "      <td>9925_0</td>\n",
       "      <td>Een meisje van achttien jaren</td>\n",
       "      <td>folksong</td>\n",
       "      <td>1</td>\n",
       "      <td>stanza</td>\n",
       "      <td>NLB76109_01.jpg|NLB76109_02.jpg|NLB76109_03.jp...</td>\n",
       "      <td>NLB076109_all.mp3</td>\n",
       "      <td>NaN</td>\n",
       "      <td>neutral</td>\n",
       "    </tr>\n",
       "    <tr>\n",
       "      <th>1975-01-01</th>\n",
       "      <td>NLB076110_01</td>\n",
       "      <td>76110</td>\n",
       "      <td>1011179</td>\n",
       "      <td>45205</td>\n",
       "      <td>NaN</td>\n",
       "      <td>1894</td>\n",
       "      <td>Nieuwlande (Dalen)</td>\n",
       "      <td>52.720917</td>\n",
       "      <td>6.642440</td>\n",
       "      <td>NaN</td>\n",
       "      <td>...</td>\n",
       "      <td>25058</td>\n",
       "      <td>9696_2</td>\n",
       "      <td>In Frankrijk buiten de poorten 2</td>\n",
       "      <td>folksong</td>\n",
       "      <td>1</td>\n",
       "      <td>stanza</td>\n",
       "      <td>NLB76110_01.jpg|NLB76110_02.jpg|NLB76110_03.jp...</td>\n",
       "      <td>NLB076110_all.mp3</td>\n",
       "      <td>NaN</td>\n",
       "      <td>neutral</td>\n",
       "    </tr>\n",
       "    <tr>\n",
       "      <th>1975-01-01</th>\n",
       "      <td>NLB076111_01</td>\n",
       "      <td>76111</td>\n",
       "      <td>1011179</td>\n",
       "      <td>45206</td>\n",
       "      <td>NaN</td>\n",
       "      <td>1894</td>\n",
       "      <td>Nieuwlande (Dalen)</td>\n",
       "      <td>52.720917</td>\n",
       "      <td>6.642440</td>\n",
       "      <td>NaN</td>\n",
       "      <td>...</td>\n",
       "      <td>25794</td>\n",
       "      <td>8365_0</td>\n",
       "      <td>Toen ik op Neerlands bergen stond</td>\n",
       "      <td>folksong</td>\n",
       "      <td>1</td>\n",
       "      <td>stanza</td>\n",
       "      <td>NLB76111_01.jpg|NLB76111_02.jpg|NLB76111_03.jp...</td>\n",
       "      <td>NLB076111_all.mp3</td>\n",
       "      <td>NaN</td>\n",
       "      <td>neutral</td>\n",
       "    </tr>\n",
       "    <tr>\n",
       "      <th>1975-01-01</th>\n",
       "      <td>NLB076111_02</td>\n",
       "      <td>76111</td>\n",
       "      <td>1011179</td>\n",
       "      <td>45206</td>\n",
       "      <td>NaN</td>\n",
       "      <td>1894</td>\n",
       "      <td>Nieuwlande (Dalen)</td>\n",
       "      <td>52.720917</td>\n",
       "      <td>6.642440</td>\n",
       "      <td>NaN</td>\n",
       "      <td>...</td>\n",
       "      <td>25794</td>\n",
       "      <td>8365_0</td>\n",
       "      <td>Toen ik op Neerlands bergen stond</td>\n",
       "      <td>folksong</td>\n",
       "      <td>2</td>\n",
       "      <td>stanza</td>\n",
       "      <td>NLB76111_01.jpg|NLB76111_02.jpg|NLB76111_03.jp...</td>\n",
       "      <td>NLB076111_all.mp3</td>\n",
       "      <td>NaN</td>\n",
       "      <td>neutral</td>\n",
       "    </tr>\n",
       "    <tr>\n",
       "      <th>1975-01-01</th>\n",
       "      <td>NLB076112_01</td>\n",
       "      <td>76112</td>\n",
       "      <td>1011179</td>\n",
       "      <td>45207</td>\n",
       "      <td>NaN</td>\n",
       "      <td>1894</td>\n",
       "      <td>Nieuwlande (Dalen)</td>\n",
       "      <td>52.720917</td>\n",
       "      <td>6.642440</td>\n",
       "      <td>NaN</td>\n",
       "      <td>...</td>\n",
       "      <td>26257</td>\n",
       "      <td>9713_1</td>\n",
       "      <td>Toen ik stond op hoge bergen 1</td>\n",
       "      <td>folksong</td>\n",
       "      <td>1</td>\n",
       "      <td>stanza</td>\n",
       "      <td>NLB76112_01.jpg|NLB76112_02.jpg|NLB76112_03.jp...</td>\n",
       "      <td>NLB076112_all.mp3</td>\n",
       "      <td>NaN</td>\n",
       "      <td>neutral</td>\n",
       "    </tr>\n",
       "    <tr>\n",
       "      <th>1965-01-01</th>\n",
       "      <td>NLB076224_01</td>\n",
       "      <td>76224</td>\n",
       "      <td>1011179</td>\n",
       "      <td>45812</td>\n",
       "      <td>NaN</td>\n",
       "      <td>1918</td>\n",
       "      <td>Midsland</td>\n",
       "      <td>53.394286</td>\n",
       "      <td>5.302439</td>\n",
       "      <td>NaN</td>\n",
       "      <td>...</td>\n",
       "      <td>33529</td>\n",
       "      <td>5301_6</td>\n",
       "      <td>Lieve schipper vaar me over 6</td>\n",
       "      <td>folksong</td>\n",
       "      <td>1</td>\n",
       "      <td>stanza</td>\n",
       "      <td>NLB76224_01.jpg|NLB76224_02.jpg|NLB76224_03.jp...</td>\n",
       "      <td>NLB076224_all.mp3</td>\n",
       "      <td>NaN</td>\n",
       "      <td>neutral</td>\n",
       "    </tr>\n",
       "  </tbody>\n",
       "</table>\n",
       "<p>15 rows × 21 columns</p>\n",
       "</div>"
      ],
      "text/plain": [
       "                       filename  songid  source_id serial_number page  \\\n",
       "date_of_recording                                                       \n",
       "1959-01-01         NLB072273_01   72273    1011179         19307  NaN   \n",
       "1959-01-01         NLB072273_02   72273    1011179         19307  NaN   \n",
       "1958-01-01         NLB072307_01   72307    1011179         19604  NaN   \n",
       "1959-01-01         NLB072308_01   72308    1011179   19605a en b  NaN   \n",
       "1959-01-01         NLB072308_02   72308    1011179   19605a en b  NaN   \n",
       "1958-01-01         NLB072482_01   72482    1011179         20612  NaN   \n",
       "1975-01-01         NLB076106_01   76106    1011179         45201  NaN   \n",
       "1975-01-01         NLB076107_01   76107    1011179         45202  NaN   \n",
       "1975-01-01         NLB076108_01   76108    1011179         45203  NaN   \n",
       "1975-01-01         NLB076109_01   76109    1011179         45204  NaN   \n",
       "1975-01-01         NLB076110_01   76110    1011179         45205  NaN   \n",
       "1975-01-01         NLB076111_01   76111    1011179         45206  NaN   \n",
       "1975-01-01         NLB076111_02   76111    1011179         45206  NaN   \n",
       "1975-01-01         NLB076112_01   76112    1011179         45207  NaN   \n",
       "1965-01-01         NLB076224_01   76224    1011179         45812  NaN   \n",
       "\n",
       "                  singer_id_s  place_of_recording   latitude  longitude title  \\\n",
       "date_of_recording                                                               \n",
       "1959-01-01               0525          Leeuwarden  53.208801   5.815124   NaN   \n",
       "1959-01-01               0525          Leeuwarden  53.208801   5.815124   NaN   \n",
       "1958-01-01               0543   Noordwijk aan Zee  52.243155   4.434829   NaN   \n",
       "1959-01-01               0605            Rockanje  51.880142   4.058703   NaN   \n",
       "1959-01-01               0605            Rockanje  51.880142   4.058703   NaN   \n",
       "1958-01-01               0563         Westkapelle  51.525747   3.437807   NaN   \n",
       "1975-01-01               1893  Nieuwlande (Dalen)  52.720917   6.642440   NaN   \n",
       "1975-01-01               1893  Nieuwlande (Dalen)  52.720917   6.642440   NaN   \n",
       "1975-01-01               1893  Nieuwlande (Dalen)  52.720917   6.642440   NaN   \n",
       "1975-01-01               1894  Nieuwlande (Dalen)  52.720917   6.642440   NaN   \n",
       "1975-01-01               1894  Nieuwlande (Dalen)  52.720917   6.642440   NaN   \n",
       "1975-01-01               1894  Nieuwlande (Dalen)  52.720917   6.642440   NaN   \n",
       "1975-01-01               1894  Nieuwlande (Dalen)  52.720917   6.642440   NaN   \n",
       "1975-01-01               1894  Nieuwlande (Dalen)  52.720917   6.642440   NaN   \n",
       "1965-01-01               1918            Midsland  53.394286   5.302439   NaN   \n",
       "\n",
       "                     ...     textfamily_id  tunefamily_id  \\\n",
       "date_of_recording    ...                                    \n",
       "1959-01-01           ...             27706         4041_2   \n",
       "1959-01-01           ...             27706         4041_2   \n",
       "1958-01-01           ...              6801         1507_5   \n",
       "1959-01-01           ...              6801         1507_5   \n",
       "1959-01-01           ...              6801         1507_5   \n",
       "1958-01-01           ...             21312         9779_0   \n",
       "1975-01-01           ...             20886           48_1   \n",
       "1975-01-01           ...              1108         9912_0   \n",
       "1975-01-01           ...             27706         9696_2   \n",
       "1975-01-01           ...              8560         9925_0   \n",
       "1975-01-01           ...             25058         9696_2   \n",
       "1975-01-01           ...             25794         8365_0   \n",
       "1975-01-01           ...             25794         8365_0   \n",
       "1975-01-01           ...             26257         9713_1   \n",
       "1965-01-01           ...             33529         5301_6   \n",
       "\n",
       "                                                tunefamily      type  \\\n",
       "date_of_recording                                                      \n",
       "1959-01-01                      Ik heb de groene straten 2  folksong   \n",
       "1959-01-01                      Ik heb de groene straten 2  folksong   \n",
       "1958-01-01         Daar zou er een maagdje vroeg opstaan 5  folksong   \n",
       "1959-01-01         Daar zou er een maagdje vroeg opstaan 5  folksong   \n",
       "1959-01-01         Daar zou er een maagdje vroeg opstaan 5  folksong   \n",
       "1958-01-01                  Het was laatst op een zomerdag  folksong   \n",
       "1975-01-01             Aan de oever van een snelle vliet 1  folksong   \n",
       "1975-01-01                               De elf officieren  folksong   \n",
       "1975-01-01                In Frankrijk buiten de poorten 2  folksong   \n",
       "1975-01-01                   Een meisje van achttien jaren  folksong   \n",
       "1975-01-01                In Frankrijk buiten de poorten 2  folksong   \n",
       "1975-01-01               Toen ik op Neerlands bergen stond  folksong   \n",
       "1975-01-01               Toen ik op Neerlands bergen stond  folksong   \n",
       "1975-01-01                  Toen ik stond op hoge bergen 1  folksong   \n",
       "1965-01-01                   Lieve schipper vaar me over 6  folksong   \n",
       "\n",
       "                  voice_strophe_number  voice_strophe  \\\n",
       "date_of_recording                                       \n",
       "1959-01-01                           1         stanza   \n",
       "1959-01-01                           2         stanza   \n",
       "1958-01-01                           1         stanza   \n",
       "1959-01-01                           1         stanza   \n",
       "1959-01-01                           2         stanza   \n",
       "1958-01-01                           1         stanza   \n",
       "1975-01-01                           1         stanza   \n",
       "1975-01-01                           1         stanza   \n",
       "1975-01-01                           1         stanza   \n",
       "1975-01-01                           1         stanza   \n",
       "1975-01-01                           1         stanza   \n",
       "1975-01-01                           1         stanza   \n",
       "1975-01-01                           2         stanza   \n",
       "1975-01-01                           1         stanza   \n",
       "1965-01-01                           1         stanza   \n",
       "\n",
       "                                                    image_filename_s  \\\n",
       "date_of_recording                                                      \n",
       "1959-01-01         NLB72273_01.jpg|NLB72273_02.jpg|NLB72273_03.jp...   \n",
       "1959-01-01         NLB72273_01.jpg|NLB72273_02.jpg|NLB72273_03.jp...   \n",
       "1958-01-01                           NLB72307_01.jpg|NLB72307_02.jpg   \n",
       "1959-01-01                           NLB72308_01.jpg|NLB72308_02.jpg   \n",
       "1959-01-01                           NLB72308_01.jpg|NLB72308_02.jpg   \n",
       "1958-01-01                           NLB72482_01.jpg|NLB72482_02.jpg   \n",
       "1975-01-01         NLB76106_01.jpg|NLB76106_02.jpg|NLB76106_03.jp...   \n",
       "1975-01-01         NLB76107_01.jpg|NLB76107_02.jpg|NLB76107_03.jp...   \n",
       "1975-01-01         NLB76108_01.jpg|NLB76108_02.jpg|NLB76108_03.jp...   \n",
       "1975-01-01         NLB76109_01.jpg|NLB76109_02.jpg|NLB76109_03.jp...   \n",
       "1975-01-01         NLB76110_01.jpg|NLB76110_02.jpg|NLB76110_03.jp...   \n",
       "1975-01-01         NLB76111_01.jpg|NLB76111_02.jpg|NLB76111_03.jp...   \n",
       "1975-01-01         NLB76111_01.jpg|NLB76111_02.jpg|NLB76111_03.jp...   \n",
       "1975-01-01         NLB76112_01.jpg|NLB76112_02.jpg|NLB76112_03.jp...   \n",
       "1965-01-01         NLB76224_01.jpg|NLB76224_02.jpg|NLB76224_03.jp...   \n",
       "\n",
       "                      audio_filename  variation confidence  \n",
       "date_of_recording                                           \n",
       "1959-01-01         NLB072273_all.mp3        NaN    neutral  \n",
       "1959-01-01         NLB072273_all.mp3        NaN    neutral  \n",
       "1958-01-01         NLB072307_all.mp3        NaN    neutral  \n",
       "1959-01-01         NLB072308_all.mp3        NaN    neutral  \n",
       "1959-01-01         NLB072308_all.mp3        NaN    neutral  \n",
       "1958-01-01         NLB072482_all.mp3        NaN    neutral  \n",
       "1975-01-01         NLB076106_all.mp3        NaN    neutral  \n",
       "1975-01-01         NLB076107_all.mp3  variation       weak  \n",
       "1975-01-01         NLB076108_all.mp3        NaN    neutral  \n",
       "1975-01-01         NLB076109_all.mp3        NaN    neutral  \n",
       "1975-01-01         NLB076110_all.mp3        NaN    neutral  \n",
       "1975-01-01         NLB076111_all.mp3        NaN    neutral  \n",
       "1975-01-01         NLB076111_all.mp3        NaN    neutral  \n",
       "1975-01-01         NLB076112_all.mp3        NaN    neutral  \n",
       "1965-01-01         NLB076224_all.mp3        NaN    neutral  \n",
       "\n",
       "[15 rows x 21 columns]"
      ]
     },
     "execution_count": 17,
     "metadata": {},
     "output_type": "execute_result"
    }
   ],
   "source": [
    "# insert your code here\n",
    "df[df.index.dayofyear == 1] # == df.index.is_year_start"
   ]
  },
  {
   "cell_type": "markdown",
   "metadata": {},
   "source": [
    "---"
   ]
  },
  {
   "cell_type": "markdown",
   "metadata": {},
   "source": [
    "## Add a column to a Dataframe"
   ]
  },
  {
   "cell_type": "markdown",
   "metadata": {},
   "source": [
    "Pandas makes it really easy to add new columns to a DataFrame. In the following cell we add a column containing the week number at which the recording was made."
   ]
  },
  {
   "cell_type": "code",
   "execution_count": null,
   "metadata": {
    "collapsed": true
   },
   "outputs": [],
   "source": [
    "df['week'] = df.index.week"
   ]
  },
  {
   "cell_type": "code",
   "execution_count": null,
   "metadata": {
    "collapsed": false
   },
   "outputs": [],
   "source": [
    "df.week[:10]"
   ]
  },
  {
   "cell_type": "markdown",
   "metadata": {},
   "source": [
    "---"
   ]
  },
  {
   "cell_type": "markdown",
   "metadata": {},
   "source": [
    "#### Q7"
   ]
  },
  {
   "cell_type": "markdown",
   "metadata": {},
   "source": [
    "Add a column `year` to the DataFrame which contains for each record the year of recording."
   ]
  },
  {
   "cell_type": "code",
   "execution_count": null,
   "metadata": {
    "collapsed": false
   },
   "outputs": [],
   "source": [
    "# insert your code here\n",
    "df[\"year_of_recording\"] = df.index.year\n",
    "df.year_of_recording[:10]"
   ]
  },
  {
   "cell_type": "markdown",
   "metadata": {},
   "source": [
    "---"
   ]
  },
  {
   "cell_type": "markdown",
   "metadata": {},
   "source": [
    "## Grouping data"
   ]
  },
  {
   "cell_type": "markdown",
   "metadata": {},
   "source": [
    "Often we would like to group our data on the basis of some criterium and perform operations on those groups. We could, for example, group all recordings on the basis of where they were recorded. Pandas provides the convenient (though sometimes challenging) method `.groupby`. It works as follows:"
   ]
  },
  {
   "cell_type": "code",
   "execution_count": 19,
   "metadata": {
    "collapsed": false
   },
   "outputs": [],
   "source": [
    "grouped = df.groupby('place_of_recording')"
   ]
  },
  {
   "cell_type": "code",
   "execution_count": 13,
   "metadata": {
    "collapsed": false
   },
   "outputs": [
    {
     "data": {
      "text/plain": [
       "place_of_recording                 date_of_recording\n",
       "Aalten                             1963-02-26            2\n",
       "Aarle-Rixtel                       1969-07-10            1\n",
       "Alkmaar                            1961-08-04            1\n",
       "                                   1967-06-13            1\n",
       "                                   1970-04-14            1\n",
       "Alphen (NB)                        1977-03-30            2\n",
       "Altweerterheide                    1970-06-06            5\n",
       "                                   1977-04-20            1\n",
       "Ambt Delden                        1963-07-01            5\n",
       "                                   1960-01-05            3\n",
       "Amersfoort                         1969-01-23            2\n",
       "Amsterdam                          1954-10-11           13\n",
       "                                   1954-12-14            6\n",
       "                                   1955-12-08            4\n",
       "                                   1960-04-26            3\n",
       "                                   1971-11-18            3\n",
       "                                   1954-11-30            2\n",
       "                                   1966-05-03            2\n",
       "                                   1968-09-12            2\n",
       "                                   1979-10-23            2\n",
       "                                   1952-07-02            1\n",
       "                                   1953-06-25            1\n",
       "                                   1953-10-30            1\n",
       "                                   1960-09-16            1\n",
       "                                   1966-12-19            1\n",
       "                                   1968-11-12            1\n",
       "                                   1971-11-25            1\n",
       "                                   1971-12-16            1\n",
       "Amsterdam                          1967-09-20            1\n",
       "Anna Paulowna                      1960-11-10            4\n",
       "                                                        ..\n",
       "Winsum                             1961-07-04            2\n",
       "Witveen                            1950-03-25            2\n",
       "Woensdrecht                        1968-07-06            1\n",
       "Woensel                            1969-02-05            1\n",
       "Woensel (Eindhoven)                1970-10-12            4\n",
       "Woltersum                          1962-01-31            3\n",
       "                                   1963-08-03            2\n",
       "Zaandam                            1965-01-06            1\n",
       "                                   1966-08-01            1\n",
       "Zandeweer                          1957-02-06            1\n",
       "Zeeland (NB)                       1976-02-06            2\n",
       "Zeilberg                           1976-01-06            1\n",
       "Zevenbergen                        1968-10-14            1\n",
       "                                   1970-06-02            1\n",
       "Zijldijk                           1966-10-31            2\n",
       "                                   1967-04-22            2\n",
       "Zijtaart                           1969-02-18            6\n",
       "Zuidwolde                          1971-05-03            4\n",
       "Zundert                            1977-03-22            2\n",
       "                                   1977-10-05            2\n",
       "                                   1978-04-21            2\n",
       "                                   1978-07-04            1\n",
       "Zutphen                            1960-01-05            1\n",
       "Zwaagwesteinde                     1959-10-11            5\n",
       "                                   1968-09-23            2\n",
       "                                   1959-01-10            1\n",
       "Zweeloo                            1971-01-15            2\n",
       "Zwinderen                          1963-07-05            3\n",
       "Zwolle                             1969-10-13            1\n",
       "’t Waar                            1964-07-04            1\n",
       "dtype: int64"
      ]
     },
     "execution_count": 13,
     "metadata": {},
     "output_type": "execute_result"
    }
   ],
   "source": [
    "grouped.date_of_recording.value_counts()"
   ]
  },
  {
   "cell_type": "markdown",
   "metadata": {},
   "source": [
    "A `DataFrameGroupBy` object consists of several smaller DataFrames per group. We grouped the original dataframe on the key `place_of_recording` and therefore the `grouped` object contains a DataFrame for each unique place of recording. \n",
    "\n",
    "We can use the method `.size` to assess the size (i.e. number of records) of each group:"
   ]
  },
  {
   "cell_type": "code",
   "execution_count": 20,
   "metadata": {
    "collapsed": false
   },
   "outputs": [
    {
     "data": {
      "text/plain": [
       "place_of_recording\n",
       "Aalten                                2\n",
       "Aarle-Rixtel                          1\n",
       "Alkmaar                               3\n",
       "Alphen (NB)                           2\n",
       "Altweerterheide                       6\n",
       "Ambt Delden                           8\n",
       "Amersfoort                            2\n",
       "Amsterdam                            45\n",
       "Amsterdam                             1\n",
       "Anna Paulowna                         4\n",
       "Annen                                 5\n",
       "Apeldoorn                             2\n",
       "Appingedam                            4\n",
       "Arcen                                 4\n",
       "Arnhem                                3\n",
       "Assen                                47\n",
       "Asten                                 1\n",
       "Baexem                                1\n",
       "Bakkum                               12\n",
       "Balkbrug                              6\n",
       "Ballum (Ameland)                      6\n",
       "Barneveld                             1\n",
       "Bedum                                 2\n",
       "Beerta                                4\n",
       "Beesel                                3\n",
       "Beets                                 1\n",
       "Beilen                                7\n",
       "Beilervaart                           1\n",
       "Belfeld                               2\n",
       "Bellingwolde                         19\n",
       "                                     ..\n",
       "Wieringerwerf                         9\n",
       "Wies                                  1\n",
       "Wijdenes                              4\n",
       "Wijnjeterp                            1\n",
       "Wijthmen                              1\n",
       "Willemsoord                           1\n",
       "Windesheim                            2\n",
       "Winkel (NH)                           1\n",
       "Winschoten                           34\n",
       "Winsum                                2\n",
       "Witveen                               2\n",
       "Woensdrecht                           1\n",
       "Woensel                               1\n",
       "Woensel (Eindhoven)                   4\n",
       "Woltersum                             5\n",
       "Zaandam                               2\n",
       "Zandeweer                             1\n",
       "Zeeland (NB)                          2\n",
       "Zeilberg                              1\n",
       "Zevenbergen                           2\n",
       "Zijldijk                              4\n",
       "Zijtaart                              6\n",
       "Zuidwolde                             4\n",
       "Zundert                               7\n",
       "Zutphen                               1\n",
       "Zwaagwesteinde                        8\n",
       "Zweeloo                               2\n",
       "Zwinderen                             3\n",
       "Zwolle                                1\n",
       "’t Waar                               1\n",
       "dtype: int64"
      ]
     },
     "execution_count": 20,
     "metadata": {},
     "output_type": "execute_result"
    }
   ],
   "source": [
    "grouped.size()"
   ]
  },
  {
   "cell_type": "markdown",
   "metadata": {},
   "source": [
    "When we add the method `.sort_values` and specify that we want the sorting to be done in descending order we obtain the following Series:"
   ]
  },
  {
   "cell_type": "code",
   "execution_count": 21,
   "metadata": {
    "collapsed": false
   },
   "outputs": [
    {
     "data": {
      "text/plain": [
       "place_of_recording\n",
       "Hoorn (Terschelling)                   54\n",
       "Assen                                  47\n",
       "Amsterdam                              45\n",
       "Volendam                               42\n",
       "Emmen                                  39\n",
       "Eindhoven                              37\n",
       "Groningen                              35\n",
       "Winschoten                             34\n",
       "Helden                                 34\n",
       "Buitenpost                             32\n",
       "Ter Apel                               31\n",
       "Muntendam                              30\n",
       "Hoogkerk                               28\n",
       "Milheeze                               26\n",
       "Hardegarijp                            24\n",
       "Braamberg (bij Slagharen)              24\n",
       "Wagenborgen                            24\n",
       "Tilburg                                24\n",
       "Oost-Souburg                           23\n",
       "Oldenzaal                              23\n",
       "Enkhuizen                              23\n",
       "Urk                                    22\n",
       "Stadskanaal                            22\n",
       "Koudekerke                             22\n",
       "Rockanje                               22\n",
       "Emmer-Compascuum                       20\n",
       "Valthe                                 20\n",
       "Leeuwarden                             20\n",
       "Vlissingen                             19\n",
       "Bellingwolde                           19\n",
       "                                       ..\n",
       "Hank (Dussen)                           1\n",
       "Gouda (Bloemendaal)                     1\n",
       "Giethoorn                               1\n",
       "Gieten                                  1\n",
       "Geleen                                  1\n",
       "Geldrop                                 1\n",
       "Froombosch                              1\n",
       "Leek                                    1\n",
       "Leiderdorp                              1\n",
       "Onderdendam                             1\n",
       "Neeroeteren                             1\n",
       "Oegstgeest                              1\n",
       "Obdam                                   1\n",
       "Noordwijk aan Zee                       1\n",
       "Noordbroek                              1\n",
       "Nieuw-Weerdinge                         1\n",
       "Nieuw-Amsterdam                         1\n",
       "Nieuw- en Sint Joosland (Nieuwland)     1\n",
       "Nieuw- en Sint Joosland                 1\n",
       "Monnikendam                             1\n",
       "Lies (Terschelling)                     1\n",
       "Zwolle                                  1\n",
       "Midsland                                1\n",
       "Midlum                                  1\n",
       "Middenmeer                              1\n",
       "Merselo                                 1\n",
       "Malden                                  1\n",
       "Loon op Zand                            1\n",
       "Lippenhuizen                            1\n",
       "Mildam                                  1\n",
       "dtype: int64"
      ]
     },
     "execution_count": 21,
     "metadata": {},
     "output_type": "execute_result"
    }
   ],
   "source": [
    "grouped.size().sort_values(ascending=False)"
   ]
  },
  {
   "cell_type": "markdown",
   "metadata": {},
   "source": [
    "---"
   ]
  },
  {
   "cell_type": "markdown",
   "metadata": {},
   "source": [
    "#### Q8"
   ]
  },
  {
   "cell_type": "markdown",
   "metadata": {},
   "source": [
    "Just to recap, compute the max, min, mean, and median number of items per group."
   ]
  },
  {
   "cell_type": "code",
   "execution_count": 34,
   "metadata": {
    "collapsed": false,
    "scrolled": true
   },
   "outputs": [
    {
     "data": {
      "text/plain": [
       "count    431.000000\n",
       "mean       5.786543\n",
       "std        7.622543\n",
       "min        1.000000\n",
       "25%        1.000000\n",
       "50%        3.000000\n",
       "75%        6.000000\n",
       "max       54.000000\n",
       "dtype: float64"
      ]
     },
     "execution_count": 34,
     "metadata": {},
     "output_type": "execute_result"
    }
   ],
   "source": [
    "# insert your code here\n",
    "grouped.size().max()\n",
    "grouped.size().min()\n",
    "grouped.size().mean()\n",
    "grouped.size().median()\n",
    "grouped.size().describe()"
   ]
  },
  {
   "cell_type": "markdown",
   "metadata": {},
   "source": [
    "---"
   ]
  },
  {
   "cell_type": "markdown",
   "metadata": {},
   "source": [
    "Grouped objects are extremely helpful when we want to compute a frequency distribution for each unique item of a particular column. Say we would like to investigate the frequency distribution of tune families per place of recording. Given that we have created a grouped object with `place_of_recording` as key, all we need to do is the following:"
   ]
  },
  {
   "cell_type": "code",
   "execution_count": null,
   "metadata": {
    "collapsed": false
   },
   "outputs": [],
   "source": [
    "grouped.tunefamily.value_counts()"
   ]
  },
  {
   "cell_type": "markdown",
   "metadata": {},
   "source": [
    "Let's make it slightly more complex. In the previous example we created a grouped object using a single key. We can also specify multiple keys, as in:"
   ]
  },
  {
   "cell_type": "code",
   "execution_count": null,
   "metadata": {
    "collapsed": true
   },
   "outputs": [],
   "source": [
    "grouped = df.groupby(['place_of_recording', 'singer_id_s'])"
   ]
  },
  {
   "cell_type": "markdown",
   "metadata": {},
   "source": [
    "This produces the following data structure:"
   ]
  },
  {
   "cell_type": "code",
   "execution_count": null,
   "metadata": {
    "collapsed": false
   },
   "outputs": [],
   "source": [
    "grouped.tunefamily.value_counts()"
   ]
  },
  {
   "cell_type": "markdown",
   "metadata": {},
   "source": [
    "---"
   ]
  },
  {
   "cell_type": "markdown",
   "metadata": {},
   "source": [
    "#### Q9"
   ]
  },
  {
   "cell_type": "markdown",
   "metadata": {},
   "source": [
    "Make a plot that visualizes for each year how many recordings were made. Tip: first create a grouped object."
   ]
  },
  {
   "cell_type": "code",
   "execution_count": null,
   "metadata": {
    "collapsed": false
   },
   "outputs": [],
   "source": [
    "# insert your code here"
   ]
  },
  {
   "cell_type": "markdown",
   "metadata": {},
   "source": [
    "---"
   ]
  },
  {
   "cell_type": "markdown",
   "metadata": {},
   "source": [
    "## String operations"
   ]
  },
  {
   "cell_type": "markdown",
   "metadata": {},
   "source": [
    "One of my favourite functionalities of Pandas is the way it allows you to do vectorized string operations. These operations can be useful if you want to select particular string cells in your dataframe or when you want to manipulate / correct the data. Let's have a look at some of the string data in the MTC:"
   ]
  },
  {
   "cell_type": "code",
   "execution_count": null,
   "metadata": {
    "collapsed": false
   },
   "outputs": [],
   "source": [
    "firstlines = df.firstline"
   ]
  },
  {
   "cell_type": "code",
   "execution_count": null,
   "metadata": {
    "collapsed": false
   },
   "outputs": [],
   "source": [
    "firstlines[:10]"
   ]
  },
  {
   "cell_type": "markdown",
   "metadata": {},
   "source": [
    "Now, `firstlines` is a Series corresponding to the firstline column, which contains strings. We can access the string methods of a column with `.str`. In the following cell, place your cursor after the last dot hit TAB:"
   ]
  },
  {
   "cell_type": "code",
   "execution_count": null,
   "metadata": {
    "collapsed": true
   },
   "outputs": [],
   "source": [
    "firstlines.str."
   ]
  },
  {
   "cell_type": "markdown",
   "metadata": {},
   "source": [
    "As you can see, almost all regular string operations are available. The neat thing is that if you call a method like `.upper`, the method will be automatically applied to all items in the series (this is referred to as vectorized operations). Let's see that in action:"
   ]
  },
  {
   "cell_type": "code",
   "execution_count": null,
   "metadata": {
    "collapsed": false
   },
   "outputs": [],
   "source": [
    "firstlines.str.upper().head()"
   ]
  },
  {
   "cell_type": "markdown",
   "metadata": {},
   "source": [
    "The method `.contains` is particularly useful if you want to extract all strings that contain a particular substring. We could, for example, search for the string `boom` to extract all records that mention a tree in the first lines:"
   ]
  },
  {
   "cell_type": "code",
   "execution_count": null,
   "metadata": {
    "collapsed": false
   },
   "outputs": [],
   "source": [
    "firstlines.str.contains('boom').head()"
   ]
  },
  {
   "cell_type": "markdown",
   "metadata": {},
   "source": [
    "The method `.contains` returns a boolean series which we can use to index the dataframe:"
   ]
  },
  {
   "cell_type": "code",
   "execution_count": null,
   "metadata": {
    "collapsed": false
   },
   "outputs": [],
   "source": [
    "df[firstlines.str.contains('boom')]"
   ]
  },
  {
   "cell_type": "markdown",
   "metadata": {},
   "source": [
    "---"
   ]
  },
  {
   "cell_type": "markdown",
   "metadata": {},
   "source": [
    "To give another example, let's search for all records of which the first line mentions the word `zomer` (summer):"
   ]
  },
  {
   "cell_type": "code",
   "execution_count": null,
   "metadata": {
    "collapsed": false
   },
   "outputs": [],
   "source": [
    "is_summer = firstlines.str.contains('zomer')"
   ]
  },
  {
   "cell_type": "code",
   "execution_count": null,
   "metadata": {
    "collapsed": false
   },
   "outputs": [],
   "source": [
    "is_summer.head()"
   ]
  },
  {
   "cell_type": "markdown",
   "metadata": {},
   "source": [
    "As you can see, this returns a boolean Series object. Note that the original `DatetimeIndex` is still in place. We can use that to conveniently plot all occurrences over the years:"
   ]
  },
  {
   "cell_type": "code",
   "execution_count": null,
   "metadata": {
    "collapsed": false
   },
   "outputs": [],
   "source": [
    "is_summer.plot()"
   ]
  },
  {
   "cell_type": "markdown",
   "metadata": {},
   "source": [
    "When we index `firstlines` with `is_summer` we retrieve a new Series object consisting of all records that mention the word `zomer` in their first line:"
   ]
  },
  {
   "cell_type": "code",
   "execution_count": null,
   "metadata": {
    "collapsed": false
   },
   "outputs": [],
   "source": [
    "summer_lines = firstlines[is_summer]\n",
    "summer_lines"
   ]
  },
  {
   "cell_type": "markdown",
   "metadata": {},
   "source": [
    "---"
   ]
  },
  {
   "cell_type": "markdown",
   "metadata": {},
   "source": [
    "#### Q10"
   ]
  },
  {
   "cell_type": "markdown",
   "metadata": {},
   "source": [
    "Write some code that computes in which quarter of the year most songs about summer are recorded. Tip: use the `.index` attribute and a `Counter` object from the `collections` library."
   ]
  },
  {
   "cell_type": "code",
   "execution_count": null,
   "metadata": {
    "collapsed": false
   },
   "outputs": [],
   "source": [
    "# insert your code here"
   ]
  },
  {
   "cell_type": "markdown",
   "metadata": {},
   "source": [
    "---"
   ]
  },
  {
   "cell_type": "markdown",
   "metadata": {},
   "source": [
    "## Exercises"
   ]
  },
  {
   "cell_type": "markdown",
   "metadata": {},
   "source": [
    "You now should have a basic understanding of some important concepts in the Pandas library. The library contains many more interesting functions and methods and it takes quite some time to master them all. The best way to become more confident in using the library is by working with your own data and try to do some basic analyses. \n",
    "\n",
    "The following exercises are to give some more practice. Some problems will be tough, and you cannot always rely on the information provided in this chapter. This is something you'll have to get used to. Don't worry, visit the documentation website (see http://pandas.pydata.org/pandas-docs/version/0.17.0/), Google for particular problems or ask questions on the Slack channel. Asking for help is all part of learning a new library. \n",
    "\n",
    "In the following exercises we begin with working on the Dative alternation dataset of Bresnan et al. (2007). In English, the recipient can be realized either as an Noun Phrase (NP), *John gave Mary the book*, or as a Prepositional Phrase (PP), *John gave the book to Mary*. Bresnan et al. (2007) studied several factors that influence the realization of the dative. The complete dataset of Bresnan et al. (2007) is included in the `data` directory under `data/dative.csv`."
   ]
  },
  {
   "cell_type": "markdown",
   "metadata": {},
   "source": [
    "Use Pandas to read the dataset as a DataFrame:"
   ]
  },
  {
   "cell_type": "code",
   "execution_count": null,
   "metadata": {
    "collapsed": true
   },
   "outputs": [],
   "source": [
    "dative = # insert your code here"
   ]
  },
  {
   "cell_type": "markdown",
   "metadata": {},
   "source": [
    "Inspect the first 10 lines of the dataframe:"
   ]
  },
  {
   "cell_type": "code",
   "execution_count": null,
   "metadata": {
    "collapsed": false
   },
   "outputs": [],
   "source": [
    "# insert your code here"
   ]
  },
  {
   "cell_type": "markdown",
   "metadata": {},
   "source": [
    "The dataset provides for each entry the verb that was used. Create a Series object that counts how often each verb is used:"
   ]
  },
  {
   "cell_type": "code",
   "execution_count": null,
   "metadata": {
    "collapsed": false
   },
   "outputs": [],
   "source": [
    "# insert your code here"
   ]
  },
  {
   "cell_type": "markdown",
   "metadata": {},
   "source": [
    "Plot the ten most frequent verbs as a pie chart:"
   ]
  },
  {
   "cell_type": "code",
   "execution_count": null,
   "metadata": {
    "collapsed": false
   },
   "outputs": [],
   "source": [
    "# insert your code here"
   ]
  },
  {
   "cell_type": "markdown",
   "metadata": {},
   "source": [
    "The realization of the recipient (NP or PP) is stored in the column `RealizationOfRecipient`. How many NP realizations are there and how many PP realizations?"
   ]
  },
  {
   "cell_type": "code",
   "execution_count": null,
   "metadata": {
    "collapsed": false
   },
   "outputs": [],
   "source": [
    "# insert your code here"
   ]
  },
  {
   "cell_type": "markdown",
   "metadata": {},
   "source": [
    "The recipients can be either animate or inanimate. How many PP realizations are inanimate? Tip: use `pd.crosstab`."
   ]
  },
  {
   "cell_type": "code",
   "execution_count": null,
   "metadata": {
    "collapsed": false
   },
   "outputs": [],
   "source": [
    "# insert your code here"
   ]
  },
  {
   "cell_type": "markdown",
   "metadata": {},
   "source": [
    "Make a single bar plot that visualizes for both PP and NP realizations of the recipient how often they are animate or inanimate. Tip: use the crosstab method of the previous exercise."
   ]
  },
  {
   "cell_type": "code",
   "execution_count": null,
   "metadata": {
    "collapsed": true
   },
   "outputs": [],
   "source": [
    "# insert your code here"
   ]
  },
  {
   "cell_type": "markdown",
   "metadata": {},
   "source": [
    "Sometimes it is convenient to sort a dataframe on a particular column. Write some code that sorts the `dative` dataframe on the realization of the recipient."
   ]
  },
  {
   "cell_type": "code",
   "execution_count": null,
   "metadata": {
    "collapsed": true
   },
   "outputs": [],
   "source": [
    "# insert your code here"
   ]
  },
  {
   "cell_type": "markdown",
   "metadata": {},
   "source": [
    "Now sort the data on the length of the recipient in **descending** order:"
   ]
  },
  {
   "cell_type": "code",
   "execution_count": null,
   "metadata": {
    "collapsed": true
   },
   "outputs": [],
   "source": [
    "# insert your code here"
   ]
  },
  {
   "cell_type": "markdown",
   "metadata": {},
   "source": [
    "Write some code that prints the mean length of the recipient for both animate and inanimate recipients."
   ]
  },
  {
   "cell_type": "code",
   "execution_count": null,
   "metadata": {
    "collapsed": false
   },
   "outputs": [],
   "source": [
    "# insert your code here"
   ]
  },
  {
   "cell_type": "markdown",
   "metadata": {},
   "source": [
    "Make a boxplot that visualizes for each realization of the recipient (i.e. NP or PP) the length of the theme. Tip: make use of the method `dative.boxplot`."
   ]
  },
  {
   "cell_type": "code",
   "execution_count": null,
   "metadata": {
    "collapsed": false
   },
   "outputs": [],
   "source": [
    "# insert your code here"
   ]
  }
 ],
 "metadata": {
  "kernelspec": {
   "display_name": "Python 3",
   "language": "python",
   "name": "python3"
  },
  "language_info": {
   "codemirror_mode": {
    "name": "ipython",
    "version": 3
   },
   "file_extension": ".py",
   "mimetype": "text/x-python",
   "name": "python",
   "nbconvert_exporter": "python",
   "pygments_lexer": "ipython3",
   "version": "3.5.0"
  }
 },
 "nbformat": 4,
 "nbformat_minor": 0
}
