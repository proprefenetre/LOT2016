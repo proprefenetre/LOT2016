{
 "cells": [
  {
   "cell_type": "markdown",
   "metadata": {},
   "source": [
    "# Data Analysis with Python (Pandas)"
   ]
  },
  {
   "cell_type": "markdown",
   "metadata": {},
   "source": [
    "---"
   ]
  },
  {
   "cell_type": "markdown",
   "metadata": {},
   "source": [
    "<img src=\"https://viezeliedjes.files.wordpress.com/2014/09/kbmarskramersceptisch.jpg?w=982&h=760\" align=\"right\" width=250/>In the Data Science community, Python is well known for its excellent data manipulation capabilities (e.g. matrix handling). In this chapter, we will review a number of vital external libraries in this respect (numpy, pandas), which allow scholars to load, manipulate and analyze tabular data. As example data, we will work with data from the [Meertens Tune Collection](http://www.liederenbank.nl/mtc/). We will work with the MTC-FS dataset which consists of 4120 digitally encoded vocal folk songs both from *Onder de groene linde* (2503) and from various related written sources (1617).\n",
    "\n",
    "In this chapter, we will show you some of the basic plotting functionality available in Python. The plots can be embedded in the notebooks by executing the following cell:"
   ]
  },
  {
   "cell_type": "code",
   "execution_count": null,
   "metadata": {
    "collapsed": true
   },
   "outputs": [],
   "source": []
  },
  {
   "cell_type": "code",
   "execution_count": 49,
   "metadata": {
    "collapsed": true
   },
   "outputs": [],
   "source": [
    "%matplotlib inline"
   ]
  },
  {
   "cell_type": "markdown",
   "metadata": {},
   "source": [
    "The default colors of matplotlib are not the most pretty ones. We can change that using:"
   ]
  },
  {
   "cell_type": "code",
   "execution_count": 50,
   "metadata": {
    "collapsed": true
   },
   "outputs": [],
   "source": [
    "import matplotlib\n",
    "matplotlib.style.use('ggplot')"
   ]
  },
  {
   "cell_type": "markdown",
   "metadata": {},
   "source": [
    "This chapter will introduce you to the basics of the Python Data Analysis Library **Pandas**. The library is very well documented and contains about all the fuctionality you need to work with tabular data and time-indexed data. We begin with importing the library into the Python workspace:"
   ]
  },
  {
   "cell_type": "code",
   "execution_count": 51,
   "metadata": {
    "collapsed": false
   },
   "outputs": [],
   "source": [
    "import pandas as pd"
   ]
  },
  {
   "cell_type": "markdown",
   "metadata": {},
   "source": [
    "## Reading Data from a csv / excel file "
   ]
  },
  {
   "cell_type": "markdown",
   "metadata": {},
   "source": [
    "Pandas provides a simple method to read CSV files. To read the metadata file of the Meertens Tune Collection, execute the following cell:"
   ]
  },
  {
   "cell_type": "code",
   "execution_count": 52,
   "metadata": {
    "collapsed": true
   },
   "outputs": [],
   "source": [
    "# df = pandas.read_csv(\"data/MTC-FS.csv\")  # returns an (R-like) A"
   ]
  },
  {
   "cell_type": "markdown",
   "metadata": {},
   "source": [
    "`pandas.read_csv` returns a `DataFrame` object, which is one of the most important data structures in Pandas. Let's have a look at this data structure:"
   ]
  },
  {
   "cell_type": "code",
   "execution_count": 53,
   "metadata": {
    "collapsed": true
   },
   "outputs": [
    {
     "data": {
      "text/html": [
       "<div>\n",
       "<table border=\"1\" class=\"dataframe\">\n",
       "  <thead>\n",
       "    <tr style=\"text-align: right;\">\n",
       "      <th></th>\n",
       "      <th>filename</th>\n",
       "      <th>songid</th>\n",
       "      <th>source_id</th>\n",
       "      <th>serial_number</th>\n",
       "      <th>page</th>\n",
       "      <th>singer_id_s</th>\n",
       "      <th>date_of_recording</th>\n",
       "      <th>place_of_recording</th>\n",
       "      <th>latitude</th>\n",
       "      <th>longitude</th>\n",
       "      <th>...</th>\n",
       "      <th>textfamily_id</th>\n",
       "      <th>tunefamily_id</th>\n",
       "      <th>tunefamily</th>\n",
       "      <th>type</th>\n",
       "      <th>voice_strophe_number</th>\n",
       "      <th>voice_strophe</th>\n",
       "      <th>image_filename_s</th>\n",
       "      <th>audio_filename</th>\n",
       "      <th>variation</th>\n",
       "      <th>confidence</th>\n",
       "    </tr>\n",
       "  </thead>\n",
       "  <tbody>\n",
       "    <tr>\n",
       "      <th>0</th>\n",
       "      <td>NLB076348_01</td>\n",
       "      <td>76348</td>\n",
       "      <td>1011179</td>\n",
       "      <td>46906</td>\n",
       "      <td>NaN</td>\n",
       "      <td>1933</td>\n",
       "      <td>1977-02-09</td>\n",
       "      <td>Melderslo</td>\n",
       "      <td>51.465101</td>\n",
       "      <td>6.090613</td>\n",
       "      <td>...</td>\n",
       "      <td>22467</td>\n",
       "      <td>NaN</td>\n",
       "      <td>NaN</td>\n",
       "      <td>folksong</td>\n",
       "      <td>1</td>\n",
       "      <td>stanza</td>\n",
       "      <td>NLB76348_01.jpg|NLB76348_02.jpg|NLB76348_03.jp...</td>\n",
       "      <td>NLB076348_all.mp3</td>\n",
       "      <td>NaN</td>\n",
       "      <td>NaN</td>\n",
       "    </tr>\n",
       "    <tr>\n",
       "      <th>1</th>\n",
       "      <td>NLB076349_01</td>\n",
       "      <td>76349</td>\n",
       "      <td>1011179</td>\n",
       "      <td>46907</td>\n",
       "      <td>NaN</td>\n",
       "      <td>1933</td>\n",
       "      <td>1977-02-09</td>\n",
       "      <td>Melderslo</td>\n",
       "      <td>51.465101</td>\n",
       "      <td>6.090613</td>\n",
       "      <td>...</td>\n",
       "      <td>20461</td>\n",
       "      <td>NaN</td>\n",
       "      <td>NaN</td>\n",
       "      <td>folksong</td>\n",
       "      <td>1</td>\n",
       "      <td>stanza</td>\n",
       "      <td>NLB76349_01.jpg|NLB76349_02.jpg|NLB76349_03.jp...</td>\n",
       "      <td>NLB076349_all.mp3</td>\n",
       "      <td>NaN</td>\n",
       "      <td>NaN</td>\n",
       "    </tr>\n",
       "    <tr>\n",
       "      <th>2</th>\n",
       "      <td>NLB076351_01</td>\n",
       "      <td>76351</td>\n",
       "      <td>1011179</td>\n",
       "      <td>46909</td>\n",
       "      <td>NaN</td>\n",
       "      <td>1933</td>\n",
       "      <td>1977-02-09</td>\n",
       "      <td>Melderslo</td>\n",
       "      <td>51.465101</td>\n",
       "      <td>6.090613</td>\n",
       "      <td>...</td>\n",
       "      <td>21299</td>\n",
       "      <td>3709_1</td>\n",
       "      <td>Het was op een avond laat 1</td>\n",
       "      <td>folksong</td>\n",
       "      <td>1</td>\n",
       "      <td>stanza</td>\n",
       "      <td>NLB76351_01.jpg|NLB76351_02.jpg|NLB76351_03.jp...</td>\n",
       "      <td>NLB076351_all.mp3</td>\n",
       "      <td>NaN</td>\n",
       "      <td>neutral</td>\n",
       "    </tr>\n",
       "    <tr>\n",
       "      <th>3</th>\n",
       "      <td>NLB076354_01</td>\n",
       "      <td>76354</td>\n",
       "      <td>1011179</td>\n",
       "      <td>46912</td>\n",
       "      <td>NaN</td>\n",
       "      <td>1933</td>\n",
       "      <td>1977-02-09</td>\n",
       "      <td>Melderslo</td>\n",
       "      <td>51.465101</td>\n",
       "      <td>6.090613</td>\n",
       "      <td>...</td>\n",
       "      <td>27040</td>\n",
       "      <td>9953_1</td>\n",
       "      <td>Het kluchtje van fortuin 1</td>\n",
       "      <td>folksong</td>\n",
       "      <td>1</td>\n",
       "      <td>stanza</td>\n",
       "      <td>NLB76354_01.jpg|NLB76354_02.jpg|NLB76354_03.jp...</td>\n",
       "      <td>NLB076354_all.mp3</td>\n",
       "      <td>NaN</td>\n",
       "      <td>neutral</td>\n",
       "    </tr>\n",
       "    <tr>\n",
       "      <th>4</th>\n",
       "      <td>NLB076356_01</td>\n",
       "      <td>76356</td>\n",
       "      <td>1011179</td>\n",
       "      <td>47002</td>\n",
       "      <td>NaN</td>\n",
       "      <td>1933</td>\n",
       "      <td>1977-02-09</td>\n",
       "      <td>Melderslo</td>\n",
       "      <td>51.465101</td>\n",
       "      <td>6.090613</td>\n",
       "      <td>...</td>\n",
       "      <td>59465</td>\n",
       "      <td>3936_0</td>\n",
       "      <td>Ich bin der Doktor Eisenbart</td>\n",
       "      <td>folksong</td>\n",
       "      <td>1</td>\n",
       "      <td>stanza</td>\n",
       "      <td>NLB76356_01.jpg|NLB76356_02.jpg|NLB76356_03.jp...</td>\n",
       "      <td>NLB076356_all.mp3</td>\n",
       "      <td>NaN</td>\n",
       "      <td>neutral</td>\n",
       "    </tr>\n",
       "    <tr>\n",
       "      <th>5</th>\n",
       "      <td>NLB076371_01</td>\n",
       "      <td>76371</td>\n",
       "      <td>1011179</td>\n",
       "      <td>47207</td>\n",
       "      <td>NaN</td>\n",
       "      <td>1934</td>\n",
       "      <td>1977-08-12</td>\n",
       "      <td>Westerbork</td>\n",
       "      <td>52.855177</td>\n",
       "      <td>6.617972</td>\n",
       "      <td>...</td>\n",
       "      <td>24833</td>\n",
       "      <td>9766_0</td>\n",
       "      <td>Ik ging er langs maden langs weiden</td>\n",
       "      <td>folksong</td>\n",
       "      <td>1</td>\n",
       "      <td>stanza</td>\n",
       "      <td>NLB76371_01.jpg|NLB76371_02.jpg|NLB76371_03.jp...</td>\n",
       "      <td>NLB076371_all.mp3</td>\n",
       "      <td>NaN</td>\n",
       "      <td>neutral</td>\n",
       "    </tr>\n",
       "    <tr>\n",
       "      <th>6</th>\n",
       "      <td>NLB076375_01</td>\n",
       "      <td>76375</td>\n",
       "      <td>1011179</td>\n",
       "      <td>47211</td>\n",
       "      <td>NaN</td>\n",
       "      <td>1935</td>\n",
       "      <td>1977-08-12</td>\n",
       "      <td>Noordwolde</td>\n",
       "      <td>52.892792</td>\n",
       "      <td>6.141828</td>\n",
       "      <td>...</td>\n",
       "      <td>52419</td>\n",
       "      <td>9880_1</td>\n",
       "      <td>Wat brengt de liefde menig paar 1</td>\n",
       "      <td>folksong</td>\n",
       "      <td>1</td>\n",
       "      <td>stanza</td>\n",
       "      <td>NLB76375_01.jpg|NLB76375_02.jpg|NLB76375_03.jp...</td>\n",
       "      <td>NLB076375_all.mp3</td>\n",
       "      <td>NaN</td>\n",
       "      <td>neutral</td>\n",
       "    </tr>\n",
       "    <tr>\n",
       "      <th>7</th>\n",
       "      <td>NLB076380_01</td>\n",
       "      <td>76380</td>\n",
       "      <td>1011179</td>\n",
       "      <td>47216</td>\n",
       "      <td>NaN</td>\n",
       "      <td>1936</td>\n",
       "      <td>1978-01-13</td>\n",
       "      <td>Eindhoven</td>\n",
       "      <td>51.446290</td>\n",
       "      <td>5.491184</td>\n",
       "      <td>...</td>\n",
       "      <td>2076</td>\n",
       "      <td>10059_1</td>\n",
       "      <td>Van Peer en Lijn 1</td>\n",
       "      <td>folksong</td>\n",
       "      <td>1</td>\n",
       "      <td>stanza</td>\n",
       "      <td>NLB76380_01.jpg|NLB76380_02.jpg|NLB76380_03.jp...</td>\n",
       "      <td>NLB076380_all.mp3</td>\n",
       "      <td>NaN</td>\n",
       "      <td>neutral</td>\n",
       "    </tr>\n",
       "    <tr>\n",
       "      <th>8</th>\n",
       "      <td>NLB076383_01</td>\n",
       "      <td>76383</td>\n",
       "      <td>1011179</td>\n",
       "      <td>47302</td>\n",
       "      <td>NaN</td>\n",
       "      <td>1937</td>\n",
       "      <td>1978-01-13</td>\n",
       "      <td>Eindhoven</td>\n",
       "      <td>51.446290</td>\n",
       "      <td>5.491184</td>\n",
       "      <td>...</td>\n",
       "      <td>1073</td>\n",
       "      <td>9666_4</td>\n",
       "      <td>Daar waren twee koningskinderen 4</td>\n",
       "      <td>folksong</td>\n",
       "      <td>1</td>\n",
       "      <td>stanza</td>\n",
       "      <td>NLB76383_01.jpg|NLB76383_02.jpg|NLB76383_03.jp...</td>\n",
       "      <td>NLB076383_all.mp3</td>\n",
       "      <td>NaN</td>\n",
       "      <td>neutral</td>\n",
       "    </tr>\n",
       "    <tr>\n",
       "      <th>9</th>\n",
       "      <td>NLB076386_01</td>\n",
       "      <td>76386</td>\n",
       "      <td>1011179</td>\n",
       "      <td>47304</td>\n",
       "      <td>NaN</td>\n",
       "      <td>1901|1902</td>\n",
       "      <td>1978-01-13</td>\n",
       "      <td>Cuijk</td>\n",
       "      <td>51.737665</td>\n",
       "      <td>5.876443</td>\n",
       "      <td>...</td>\n",
       "      <td>6801</td>\n",
       "      <td>1507_1</td>\n",
       "      <td>Daar zou er een maagdje vroeg opstaan 1</td>\n",
       "      <td>folksong</td>\n",
       "      <td>1</td>\n",
       "      <td>stanza</td>\n",
       "      <td>NLB76386_01.jpg|NLB76386_02.jpg|NLB76386_03.jp...</td>\n",
       "      <td>NLB076386_all.mp3</td>\n",
       "      <td>NaN</td>\n",
       "      <td>neutral</td>\n",
       "    </tr>\n",
       "    <tr>\n",
       "      <th>10</th>\n",
       "      <td>NLB076387_01</td>\n",
       "      <td>76387</td>\n",
       "      <td>1011179</td>\n",
       "      <td>47305</td>\n",
       "      <td>NaN</td>\n",
       "      <td>1901|1902</td>\n",
       "      <td>1978-01-13</td>\n",
       "      <td>Cuijk</td>\n",
       "      <td>51.737665</td>\n",
       "      <td>5.876443</td>\n",
       "      <td>...</td>\n",
       "      <td>21189</td>\n",
       "      <td>9666_4</td>\n",
       "      <td>Daar waren twee koningskinderen 4</td>\n",
       "      <td>folksong</td>\n",
       "      <td>1</td>\n",
       "      <td>stanza</td>\n",
       "      <td>NLB76387_01.jpg|NLB76387_02.jpg|NLB76387_03.jp...</td>\n",
       "      <td>NLB076387_all.mp3</td>\n",
       "      <td>NaN</td>\n",
       "      <td>neutral</td>\n",
       "    </tr>\n",
       "    <tr>\n",
       "      <th>11</th>\n",
       "      <td>NLB076391_01</td>\n",
       "      <td>76391</td>\n",
       "      <td>1011179</td>\n",
       "      <td>47309</td>\n",
       "      <td>NaN</td>\n",
       "      <td>1938</td>\n",
       "      <td>1978-03-02</td>\n",
       "      <td>Windesheim</td>\n",
       "      <td>52.448436</td>\n",
       "      <td>6.137813</td>\n",
       "      <td>...</td>\n",
       "      <td>20461</td>\n",
       "      <td>9767_1</td>\n",
       "      <td>Het is van een rijk en edel man zeer 1</td>\n",
       "      <td>folksong</td>\n",
       "      <td>1</td>\n",
       "      <td>stanza</td>\n",
       "      <td>NLB76391_01.jpg|NLB76391_02.jpg|NLB76391_03.jp...</td>\n",
       "      <td>NLB076391_all.mp3</td>\n",
       "      <td>NaN</td>\n",
       "      <td>neutral</td>\n",
       "    </tr>\n",
       "    <tr>\n",
       "      <th>12</th>\n",
       "      <td>NLB076402_01</td>\n",
       "      <td>76402</td>\n",
       "      <td>1011179</td>\n",
       "      <td>47320</td>\n",
       "      <td>NaN</td>\n",
       "      <td>1789</td>\n",
       "      <td>1978-03-02</td>\n",
       "      <td>Twello</td>\n",
       "      <td>52.244157</td>\n",
       "      <td>6.111516</td>\n",
       "      <td>...</td>\n",
       "      <td>59467</td>\n",
       "      <td>9705_1</td>\n",
       "      <td>Moeder ik kom u een woordje vragen 1</td>\n",
       "      <td>folksong</td>\n",
       "      <td>1</td>\n",
       "      <td>stanza</td>\n",
       "      <td>NLB76402_01.jpg|NLB76402_02.jpg|NLB76402_03.jp...</td>\n",
       "      <td>NLB076402_all.mp3</td>\n",
       "      <td>NaN</td>\n",
       "      <td>neutral</td>\n",
       "    </tr>\n",
       "    <tr>\n",
       "      <th>13</th>\n",
       "      <td>NLB076414_01</td>\n",
       "      <td>76414</td>\n",
       "      <td>1011179</td>\n",
       "      <td>47407</td>\n",
       "      <td>NaN</td>\n",
       "      <td>1942|1943</td>\n",
       "      <td>1978-01-27</td>\n",
       "      <td>Malden</td>\n",
       "      <td>51.786354</td>\n",
       "      <td>5.859881</td>\n",
       "      <td>...</td>\n",
       "      <td>6141</td>\n",
       "      <td>9843_5</td>\n",
       "      <td>Jan de Mulder 5</td>\n",
       "      <td>folksong</td>\n",
       "      <td>1</td>\n",
       "      <td>stanza</td>\n",
       "      <td>NLB76414_01.jpg|NLB76414_02.jpg</td>\n",
       "      <td>NLB076414_all.mp3</td>\n",
       "      <td>NaN</td>\n",
       "      <td>weak</td>\n",
       "    </tr>\n",
       "    <tr>\n",
       "      <th>14</th>\n",
       "      <td>NLB146186_01</td>\n",
       "      <td>146186</td>\n",
       "      <td>1002032</td>\n",
       "      <td>140</td>\n",
       "      <td>p51</td>\n",
       "      <td>NaN</td>\n",
       "      <td>NaT</td>\n",
       "      <td>NaN</td>\n",
       "      <td>NaN</td>\n",
       "      <td>NaN</td>\n",
       "      <td>...</td>\n",
       "      <td>28813</td>\n",
       "      <td>9993_0</td>\n",
       "      <td>Jan van het land die had een oud paard</td>\n",
       "      <td>folksong</td>\n",
       "      <td>1</td>\n",
       "      <td>stanza</td>\n",
       "      <td>NaN</td>\n",
       "      <td>NaN</td>\n",
       "      <td>NaN</td>\n",
       "      <td>neutral</td>\n",
       "    </tr>\n",
       "    <tr>\n",
       "      <th>15</th>\n",
       "      <td>NLB146189_01</td>\n",
       "      <td>146189</td>\n",
       "      <td>1002032</td>\n",
       "      <td>142</td>\n",
       "      <td>p52</td>\n",
       "      <td>NaN</td>\n",
       "      <td>NaT</td>\n",
       "      <td>NaN</td>\n",
       "      <td>NaN</td>\n",
       "      <td>NaN</td>\n",
       "      <td>...</td>\n",
       "      <td>28813</td>\n",
       "      <td>NaN</td>\n",
       "      <td>NaN</td>\n",
       "      <td>folksong</td>\n",
       "      <td>1</td>\n",
       "      <td>stanza</td>\n",
       "      <td>NaN</td>\n",
       "      <td>NaN</td>\n",
       "      <td>NaN</td>\n",
       "      <td>NaN</td>\n",
       "    </tr>\n",
       "    <tr>\n",
       "      <th>16</th>\n",
       "      <td>NLB146194_01</td>\n",
       "      <td>146194</td>\n",
       "      <td>1002032</td>\n",
       "      <td>146</td>\n",
       "      <td>p55</td>\n",
       "      <td>NaN</td>\n",
       "      <td>NaT</td>\n",
       "      <td>NaN</td>\n",
       "      <td>NaN</td>\n",
       "      <td>NaN</td>\n",
       "      <td>...</td>\n",
       "      <td>36431</td>\n",
       "      <td>5899_0</td>\n",
       "      <td>Mijn vader zei laatst tegen mij</td>\n",
       "      <td>folksong</td>\n",
       "      <td>1</td>\n",
       "      <td>stanza</td>\n",
       "      <td>NaN</td>\n",
       "      <td>NaN</td>\n",
       "      <td>NaN</td>\n",
       "      <td>neutral</td>\n",
       "    </tr>\n",
       "    <tr>\n",
       "      <th>17</th>\n",
       "      <td>NLB146515_01</td>\n",
       "      <td>146515</td>\n",
       "      <td>1002032</td>\n",
       "      <td>169</td>\n",
       "      <td>p66</td>\n",
       "      <td>NaN</td>\n",
       "      <td>NaT</td>\n",
       "      <td>NaN</td>\n",
       "      <td>NaN</td>\n",
       "      <td>NaN</td>\n",
       "      <td>...</td>\n",
       "      <td>36431</td>\n",
       "      <td>5899_0</td>\n",
       "      <td>Mijn vader zei laatst tegen mij</td>\n",
       "      <td>folksong</td>\n",
       "      <td>1</td>\n",
       "      <td>stanza</td>\n",
       "      <td>NaN</td>\n",
       "      <td>NaN</td>\n",
       "      <td>NaN</td>\n",
       "      <td>neutral</td>\n",
       "    </tr>\n",
       "    <tr>\n",
       "      <th>18</th>\n",
       "      <td>NLB146516_01</td>\n",
       "      <td>146516</td>\n",
       "      <td>1002032</td>\n",
       "      <td>170</td>\n",
       "      <td>p66</td>\n",
       "      <td>NaN</td>\n",
       "      <td>NaT</td>\n",
       "      <td>NaN</td>\n",
       "      <td>NaN</td>\n",
       "      <td>NaN</td>\n",
       "      <td>...</td>\n",
       "      <td>6141</td>\n",
       "      <td>NaN</td>\n",
       "      <td>NaN</td>\n",
       "      <td>folksong</td>\n",
       "      <td>1</td>\n",
       "      <td>stanza</td>\n",
       "      <td>NaN</td>\n",
       "      <td>NaN</td>\n",
       "      <td>NaN</td>\n",
       "      <td>NaN</td>\n",
       "    </tr>\n",
       "    <tr>\n",
       "      <th>19</th>\n",
       "      <td>NLB146526_01</td>\n",
       "      <td>146526</td>\n",
       "      <td>1002032</td>\n",
       "      <td>180</td>\n",
       "      <td>p74</td>\n",
       "      <td>NaN</td>\n",
       "      <td>NaT</td>\n",
       "      <td>NaN</td>\n",
       "      <td>NaN</td>\n",
       "      <td>NaN</td>\n",
       "      <td>...</td>\n",
       "      <td>59515</td>\n",
       "      <td>10048_1</td>\n",
       "      <td>Toen ik voor het eerst bij die molen kwam 1</td>\n",
       "      <td>folksong</td>\n",
       "      <td>1</td>\n",
       "      <td>stanza</td>\n",
       "      <td>NaN</td>\n",
       "      <td>NaN</td>\n",
       "      <td>NaN</td>\n",
       "      <td>neutral</td>\n",
       "    </tr>\n",
       "    <tr>\n",
       "      <th>20</th>\n",
       "      <td>NLB146608_01</td>\n",
       "      <td>146608</td>\n",
       "      <td>1002032</td>\n",
       "      <td>261</td>\n",
       "      <td>p118</td>\n",
       "      <td>NaN</td>\n",
       "      <td>NaT</td>\n",
       "      <td>NaN</td>\n",
       "      <td>NaN</td>\n",
       "      <td>NaN</td>\n",
       "      <td>...</td>\n",
       "      <td>14335</td>\n",
       "      <td>9744_1</td>\n",
       "      <td>Er reed er eens een ruiter 1</td>\n",
       "      <td>folksong</td>\n",
       "      <td>1</td>\n",
       "      <td>stanza</td>\n",
       "      <td>NaN</td>\n",
       "      <td>NaN</td>\n",
       "      <td>NaN</td>\n",
       "      <td>neutral</td>\n",
       "    </tr>\n",
       "    <tr>\n",
       "      <th>21</th>\n",
       "      <td>NLB146609_01</td>\n",
       "      <td>146609</td>\n",
       "      <td>1002032</td>\n",
       "      <td>262</td>\n",
       "      <td>p119</td>\n",
       "      <td>NaN</td>\n",
       "      <td>NaT</td>\n",
       "      <td>NaN</td>\n",
       "      <td>NaN</td>\n",
       "      <td>NaN</td>\n",
       "      <td>...</td>\n",
       "      <td>1819</td>\n",
       "      <td>9897_2</td>\n",
       "      <td>Al in die stad van Wenen 2</td>\n",
       "      <td>folksong</td>\n",
       "      <td>1</td>\n",
       "      <td>stanza</td>\n",
       "      <td>NaN</td>\n",
       "      <td>NaN</td>\n",
       "      <td>NaN</td>\n",
       "      <td>neutral</td>\n",
       "    </tr>\n",
       "    <tr>\n",
       "      <th>22</th>\n",
       "      <td>NLB146610_01</td>\n",
       "      <td>146610</td>\n",
       "      <td>1002032</td>\n",
       "      <td>263</td>\n",
       "      <td>p121</td>\n",
       "      <td>NaN</td>\n",
       "      <td>NaT</td>\n",
       "      <td>NaN</td>\n",
       "      <td>NaN</td>\n",
       "      <td>NaN</td>\n",
       "      <td>...</td>\n",
       "      <td>25058</td>\n",
       "      <td>NaN</td>\n",
       "      <td>NaN</td>\n",
       "      <td>folksong</td>\n",
       "      <td>1</td>\n",
       "      <td>stanza</td>\n",
       "      <td>NaN</td>\n",
       "      <td>NaN</td>\n",
       "      <td>NaN</td>\n",
       "      <td>NaN</td>\n",
       "    </tr>\n",
       "    <tr>\n",
       "      <th>23</th>\n",
       "      <td>NLB146611_01</td>\n",
       "      <td>146611</td>\n",
       "      <td>1002032</td>\n",
       "      <td>264</td>\n",
       "      <td>p121</td>\n",
       "      <td>NaN</td>\n",
       "      <td>NaT</td>\n",
       "      <td>NaN</td>\n",
       "      <td>NaN</td>\n",
       "      <td>NaN</td>\n",
       "      <td>...</td>\n",
       "      <td>18622</td>\n",
       "      <td>1419_4</td>\n",
       "      <td>Heer Halewijn 4</td>\n",
       "      <td>folksong</td>\n",
       "      <td>1</td>\n",
       "      <td>stanza</td>\n",
       "      <td>NaN</td>\n",
       "      <td>NaN</td>\n",
       "      <td>NaN</td>\n",
       "      <td>neutral</td>\n",
       "    </tr>\n",
       "    <tr>\n",
       "      <th>24</th>\n",
       "      <td>NLB146631_01</td>\n",
       "      <td>146631</td>\n",
       "      <td>1002032</td>\n",
       "      <td>265</td>\n",
       "      <td>p124</td>\n",
       "      <td>NaN</td>\n",
       "      <td>NaT</td>\n",
       "      <td>NaN</td>\n",
       "      <td>NaN</td>\n",
       "      <td>NaN</td>\n",
       "      <td>...</td>\n",
       "      <td>21189</td>\n",
       "      <td>NaN</td>\n",
       "      <td>NaN</td>\n",
       "      <td>folksong</td>\n",
       "      <td>1</td>\n",
       "      <td>stanza</td>\n",
       "      <td>NaN</td>\n",
       "      <td>NaN</td>\n",
       "      <td>NaN</td>\n",
       "      <td>NaN</td>\n",
       "    </tr>\n",
       "    <tr>\n",
       "      <th>25</th>\n",
       "      <td>NLB146633_01</td>\n",
       "      <td>146633</td>\n",
       "      <td>1002032</td>\n",
       "      <td>266</td>\n",
       "      <td>p124</td>\n",
       "      <td>NaN</td>\n",
       "      <td>NaT</td>\n",
       "      <td>NaN</td>\n",
       "      <td>NaN</td>\n",
       "      <td>NaN</td>\n",
       "      <td>...</td>\n",
       "      <td>26258</td>\n",
       "      <td>4138_1</td>\n",
       "      <td>Ik stond op hoge bergen 1</td>\n",
       "      <td>folksong</td>\n",
       "      <td>1</td>\n",
       "      <td>stanza</td>\n",
       "      <td>NaN</td>\n",
       "      <td>NaN</td>\n",
       "      <td>NaN</td>\n",
       "      <td>neutral</td>\n",
       "    </tr>\n",
       "    <tr>\n",
       "      <th>26</th>\n",
       "      <td>NLB146634_01</td>\n",
       "      <td>146634</td>\n",
       "      <td>1002032</td>\n",
       "      <td>267</td>\n",
       "      <td>p126</td>\n",
       "      <td>NaN</td>\n",
       "      <td>NaT</td>\n",
       "      <td>NaN</td>\n",
       "      <td>NaN</td>\n",
       "      <td>NaN</td>\n",
       "      <td>...</td>\n",
       "      <td>26258</td>\n",
       "      <td>4138_1</td>\n",
       "      <td>Ik stond op hoge bergen 1</td>\n",
       "      <td>folksong</td>\n",
       "      <td>1</td>\n",
       "      <td>stanza</td>\n",
       "      <td>NaN</td>\n",
       "      <td>NaN</td>\n",
       "      <td>NaN</td>\n",
       "      <td>neutral</td>\n",
       "    </tr>\n",
       "    <tr>\n",
       "      <th>27</th>\n",
       "      <td>NLB146637_01</td>\n",
       "      <td>146637</td>\n",
       "      <td>1002032</td>\n",
       "      <td>269</td>\n",
       "      <td>p129</td>\n",
       "      <td>NaN</td>\n",
       "      <td>NaT</td>\n",
       "      <td>NaN</td>\n",
       "      <td>NaN</td>\n",
       "      <td>NaN</td>\n",
       "      <td>...</td>\n",
       "      <td>12293</td>\n",
       "      <td>9816_1</td>\n",
       "      <td>Een jonge speelman 1</td>\n",
       "      <td>folksong</td>\n",
       "      <td>1</td>\n",
       "      <td>stanza</td>\n",
       "      <td>NaN</td>\n",
       "      <td>NaN</td>\n",
       "      <td>NaN</td>\n",
       "      <td>neutral</td>\n",
       "    </tr>\n",
       "    <tr>\n",
       "      <th>28</th>\n",
       "      <td>NLB146639_01</td>\n",
       "      <td>146639</td>\n",
       "      <td>1002032</td>\n",
       "      <td>270</td>\n",
       "      <td>p130</td>\n",
       "      <td>NaN</td>\n",
       "      <td>NaT</td>\n",
       "      <td>NaN</td>\n",
       "      <td>NaN</td>\n",
       "      <td>NaN</td>\n",
       "      <td>...</td>\n",
       "      <td>6801</td>\n",
       "      <td>3940_0</td>\n",
       "      <td>Ich hab ein kleines Hüttchen nur</td>\n",
       "      <td>folksong</td>\n",
       "      <td>1</td>\n",
       "      <td>stanza</td>\n",
       "      <td>NaN</td>\n",
       "      <td>NaN</td>\n",
       "      <td>NaN</td>\n",
       "      <td>neutral</td>\n",
       "    </tr>\n",
       "    <tr>\n",
       "      <th>29</th>\n",
       "      <td>NLB146649_01</td>\n",
       "      <td>146649</td>\n",
       "      <td>1002032</td>\n",
       "      <td>272</td>\n",
       "      <td>p133</td>\n",
       "      <td>NaN</td>\n",
       "      <td>NaT</td>\n",
       "      <td>NaN</td>\n",
       "      <td>NaN</td>\n",
       "      <td>NaN</td>\n",
       "      <td>...</td>\n",
       "      <td>43566</td>\n",
       "      <td>NaN</td>\n",
       "      <td>NaN</td>\n",
       "      <td>folksong</td>\n",
       "      <td>1</td>\n",
       "      <td>stanza</td>\n",
       "      <td>NaN</td>\n",
       "      <td>NaN</td>\n",
       "      <td>NaN</td>\n",
       "      <td>NaN</td>\n",
       "    </tr>\n",
       "    <tr>\n",
       "      <th>...</th>\n",
       "      <td>...</td>\n",
       "      <td>...</td>\n",
       "      <td>...</td>\n",
       "      <td>...</td>\n",
       "      <td>...</td>\n",
       "      <td>...</td>\n",
       "      <td>...</td>\n",
       "      <td>...</td>\n",
       "      <td>...</td>\n",
       "      <td>...</td>\n",
       "      <td>...</td>\n",
       "      <td>...</td>\n",
       "      <td>...</td>\n",
       "      <td>...</td>\n",
       "      <td>...</td>\n",
       "      <td>...</td>\n",
       "      <td>...</td>\n",
       "      <td>...</td>\n",
       "      <td>...</td>\n",
       "      <td>...</td>\n",
       "      <td>...</td>\n",
       "    </tr>\n",
       "    <tr>\n",
       "      <th>4090</th>\n",
       "      <td>NLB123704_01</td>\n",
       "      <td>123704</td>\n",
       "      <td>1002000</td>\n",
       "      <td>232</td>\n",
       "      <td>p473</td>\n",
       "      <td>NaN</td>\n",
       "      <td>NaT</td>\n",
       "      <td>NaN</td>\n",
       "      <td>NaN</td>\n",
       "      <td>NaN</td>\n",
       "      <td>...</td>\n",
       "      <td>33830</td>\n",
       "      <td>844_0</td>\n",
       "      <td>Benedicamus Domino alleluja</td>\n",
       "      <td>folksong</td>\n",
       "      <td>1</td>\n",
       "      <td>stanza</td>\n",
       "      <td>NaN</td>\n",
       "      <td>NaN</td>\n",
       "      <td>NaN</td>\n",
       "      <td>neutral</td>\n",
       "    </tr>\n",
       "    <tr>\n",
       "      <th>4091</th>\n",
       "      <td>NLB123708_01</td>\n",
       "      <td>123708</td>\n",
       "      <td>1002000</td>\n",
       "      <td>233</td>\n",
       "      <td>p474</td>\n",
       "      <td>NaN</td>\n",
       "      <td>NaT</td>\n",
       "      <td>NaN</td>\n",
       "      <td>NaN</td>\n",
       "      <td>NaN</td>\n",
       "      <td>...</td>\n",
       "      <td>17228</td>\n",
       "      <td>3662_0</td>\n",
       "      <td>Het voer een knaapje over Rijn</td>\n",
       "      <td>folksong</td>\n",
       "      <td>1</td>\n",
       "      <td>stanza</td>\n",
       "      <td>NaN</td>\n",
       "      <td>NaN</td>\n",
       "      <td>NaN</td>\n",
       "      <td>neutral</td>\n",
       "    </tr>\n",
       "    <tr>\n",
       "      <th>4092</th>\n",
       "      <td>NLB123715_01</td>\n",
       "      <td>123715</td>\n",
       "      <td>1002000</td>\n",
       "      <td>234</td>\n",
       "      <td>p475</td>\n",
       "      <td>NaN</td>\n",
       "      <td>NaT</td>\n",
       "      <td>NaN</td>\n",
       "      <td>NaN</td>\n",
       "      <td>NaN</td>\n",
       "      <td>...</td>\n",
       "      <td>54630</td>\n",
       "      <td>1916_0</td>\n",
       "      <td>De nachtegaal die zong een lied</td>\n",
       "      <td>folksong</td>\n",
       "      <td>1</td>\n",
       "      <td>stanza</td>\n",
       "      <td>NaN</td>\n",
       "      <td>NaN</td>\n",
       "      <td>NaN</td>\n",
       "      <td>neutral</td>\n",
       "    </tr>\n",
       "    <tr>\n",
       "      <th>4093</th>\n",
       "      <td>NLB123716_01</td>\n",
       "      <td>123716</td>\n",
       "      <td>1002000</td>\n",
       "      <td>235</td>\n",
       "      <td>p476</td>\n",
       "      <td>NaN</td>\n",
       "      <td>NaT</td>\n",
       "      <td>NaN</td>\n",
       "      <td>NaN</td>\n",
       "      <td>NaN</td>\n",
       "      <td>...</td>\n",
       "      <td>32515</td>\n",
       "      <td>7754_0</td>\n",
       "      <td>Rijke God wie zal ik klagen</td>\n",
       "      <td>folksong</td>\n",
       "      <td>1</td>\n",
       "      <td>stanza</td>\n",
       "      <td>NaN</td>\n",
       "      <td>NaN</td>\n",
       "      <td>NaN</td>\n",
       "      <td>neutral</td>\n",
       "    </tr>\n",
       "    <tr>\n",
       "      <th>4094</th>\n",
       "      <td>NLB123734_01</td>\n",
       "      <td>123734</td>\n",
       "      <td>1002000</td>\n",
       "      <td>239</td>\n",
       "      <td>p484</td>\n",
       "      <td>NaN</td>\n",
       "      <td>NaT</td>\n",
       "      <td>NaN</td>\n",
       "      <td>NaN</td>\n",
       "      <td>NaN</td>\n",
       "      <td>...</td>\n",
       "      <td>26915</td>\n",
       "      <td>1151_0</td>\n",
       "      <td>Cecilia</td>\n",
       "      <td>folksong</td>\n",
       "      <td>1</td>\n",
       "      <td>stanza</td>\n",
       "      <td>NaN</td>\n",
       "      <td>NaN</td>\n",
       "      <td>NaN</td>\n",
       "      <td>neutral</td>\n",
       "    </tr>\n",
       "    <tr>\n",
       "      <th>4095</th>\n",
       "      <td>NLB123738_01</td>\n",
       "      <td>123738</td>\n",
       "      <td>1002000</td>\n",
       "      <td>241</td>\n",
       "      <td>p486</td>\n",
       "      <td>NaN</td>\n",
       "      <td>NaT</td>\n",
       "      <td>NaN</td>\n",
       "      <td>NaN</td>\n",
       "      <td>NaN</td>\n",
       "      <td>...</td>\n",
       "      <td>28697</td>\n",
       "      <td>9698_0</td>\n",
       "      <td>Jan broeder vrijt een meisje zoet</td>\n",
       "      <td>folksong</td>\n",
       "      <td>1</td>\n",
       "      <td>stanza</td>\n",
       "      <td>NaN</td>\n",
       "      <td>NaN</td>\n",
       "      <td>NaN</td>\n",
       "      <td>neutral</td>\n",
       "    </tr>\n",
       "    <tr>\n",
       "      <th>4096</th>\n",
       "      <td>NLB123739_01</td>\n",
       "      <td>123739</td>\n",
       "      <td>1002000</td>\n",
       "      <td>242</td>\n",
       "      <td>p489</td>\n",
       "      <td>NaN</td>\n",
       "      <td>NaT</td>\n",
       "      <td>NaN</td>\n",
       "      <td>NaN</td>\n",
       "      <td>NaN</td>\n",
       "      <td>...</td>\n",
       "      <td>34775</td>\n",
       "      <td>9703_0</td>\n",
       "      <td>Meiske jong mijn maagdeke teer</td>\n",
       "      <td>folksong</td>\n",
       "      <td>1</td>\n",
       "      <td>stanza</td>\n",
       "      <td>NaN</td>\n",
       "      <td>NaN</td>\n",
       "      <td>NaN</td>\n",
       "      <td>neutral</td>\n",
       "    </tr>\n",
       "    <tr>\n",
       "      <th>4097</th>\n",
       "      <td>NLB123749_01</td>\n",
       "      <td>123749</td>\n",
       "      <td>1002000</td>\n",
       "      <td>245</td>\n",
       "      <td>p492</td>\n",
       "      <td>NaN</td>\n",
       "      <td>NaT</td>\n",
       "      <td>NaN</td>\n",
       "      <td>NaN</td>\n",
       "      <td>NaN</td>\n",
       "      <td>...</td>\n",
       "      <td>26546</td>\n",
       "      <td>1904_3</td>\n",
       "      <td>De molenarin 3</td>\n",
       "      <td>folksong</td>\n",
       "      <td>1</td>\n",
       "      <td>stanza</td>\n",
       "      <td>NaN</td>\n",
       "      <td>NaN</td>\n",
       "      <td>NaN</td>\n",
       "      <td>neutral</td>\n",
       "    </tr>\n",
       "    <tr>\n",
       "      <th>4098</th>\n",
       "      <td>NLB123753_01</td>\n",
       "      <td>123753</td>\n",
       "      <td>1002000</td>\n",
       "      <td>246</td>\n",
       "      <td>p493</td>\n",
       "      <td>NaN</td>\n",
       "      <td>NaT</td>\n",
       "      <td>NaN</td>\n",
       "      <td>NaN</td>\n",
       "      <td>NaN</td>\n",
       "      <td>...</td>\n",
       "      <td>9759</td>\n",
       "      <td>4042_0</td>\n",
       "      <td>Ik heb de wereld zeer bemind</td>\n",
       "      <td>folksong</td>\n",
       "      <td>1</td>\n",
       "      <td>stanza</td>\n",
       "      <td>NaN</td>\n",
       "      <td>NaN</td>\n",
       "      <td>NaN</td>\n",
       "      <td>neutral</td>\n",
       "    </tr>\n",
       "    <tr>\n",
       "      <th>4099</th>\n",
       "      <td>NLB123765_01</td>\n",
       "      <td>123765</td>\n",
       "      <td>1002000</td>\n",
       "      <td>250</td>\n",
       "      <td>p498</td>\n",
       "      <td>NaN</td>\n",
       "      <td>NaT</td>\n",
       "      <td>NaN</td>\n",
       "      <td>NaN</td>\n",
       "      <td>NaN</td>\n",
       "      <td>...</td>\n",
       "      <td>30410</td>\n",
       "      <td>9810_0</td>\n",
       "      <td>De theevrouwtjes</td>\n",
       "      <td>folksong</td>\n",
       "      <td>1</td>\n",
       "      <td>stanza</td>\n",
       "      <td>NaN</td>\n",
       "      <td>NaN</td>\n",
       "      <td>NaN</td>\n",
       "      <td>neutral</td>\n",
       "    </tr>\n",
       "    <tr>\n",
       "      <th>4100</th>\n",
       "      <td>NLB123766_01</td>\n",
       "      <td>123766</td>\n",
       "      <td>1002000</td>\n",
       "      <td>251</td>\n",
       "      <td>p502</td>\n",
       "      <td>NaN</td>\n",
       "      <td>NaT</td>\n",
       "      <td>NaN</td>\n",
       "      <td>NaN</td>\n",
       "      <td>NaN</td>\n",
       "      <td>...</td>\n",
       "      <td>55627</td>\n",
       "      <td>5100_0</td>\n",
       "      <td>Lanterlu</td>\n",
       "      <td>folksong</td>\n",
       "      <td>1</td>\n",
       "      <td>stanza</td>\n",
       "      <td>NaN</td>\n",
       "      <td>NaN</td>\n",
       "      <td>NaN</td>\n",
       "      <td>neutral</td>\n",
       "    </tr>\n",
       "    <tr>\n",
       "      <th>4101</th>\n",
       "      <td>NLB123781_01</td>\n",
       "      <td>123781</td>\n",
       "      <td>1002000</td>\n",
       "      <td>254</td>\n",
       "      <td>p507</td>\n",
       "      <td>NaN</td>\n",
       "      <td>NaT</td>\n",
       "      <td>NaN</td>\n",
       "      <td>NaN</td>\n",
       "      <td>NaN</td>\n",
       "      <td>...</td>\n",
       "      <td>1780</td>\n",
       "      <td>282_0</td>\n",
       "      <td>Al hebben de prinsen haar wens</td>\n",
       "      <td>folksong</td>\n",
       "      <td>1</td>\n",
       "      <td>stanza</td>\n",
       "      <td>NaN</td>\n",
       "      <td>NaN</td>\n",
       "      <td>NaN</td>\n",
       "      <td>neutral</td>\n",
       "    </tr>\n",
       "    <tr>\n",
       "      <th>4102</th>\n",
       "      <td>NLB123782_01</td>\n",
       "      <td>123782</td>\n",
       "      <td>1002000</td>\n",
       "      <td>255</td>\n",
       "      <td>p509</td>\n",
       "      <td>NaN</td>\n",
       "      <td>NaT</td>\n",
       "      <td>NaN</td>\n",
       "      <td>NaN</td>\n",
       "      <td>NaN</td>\n",
       "      <td>...</td>\n",
       "      <td>52778</td>\n",
       "      <td>9119_0</td>\n",
       "      <td>Wat is de wereld toch</td>\n",
       "      <td>folksong</td>\n",
       "      <td>1</td>\n",
       "      <td>stanza</td>\n",
       "      <td>NaN</td>\n",
       "      <td>NaN</td>\n",
       "      <td>NaN</td>\n",
       "      <td>neutral</td>\n",
       "    </tr>\n",
       "    <tr>\n",
       "      <th>4103</th>\n",
       "      <td>NLB123783_01</td>\n",
       "      <td>123783</td>\n",
       "      <td>1002000</td>\n",
       "      <td>256</td>\n",
       "      <td>p511</td>\n",
       "      <td>NaN</td>\n",
       "      <td>NaT</td>\n",
       "      <td>NaN</td>\n",
       "      <td>NaN</td>\n",
       "      <td>NaN</td>\n",
       "      <td>...</td>\n",
       "      <td>7487</td>\n",
       "      <td>1628_0</td>\n",
       "      <td>De boertjes maken vreugde</td>\n",
       "      <td>folksong</td>\n",
       "      <td>1</td>\n",
       "      <td>stanza</td>\n",
       "      <td>NaN</td>\n",
       "      <td>NaN</td>\n",
       "      <td>NaN</td>\n",
       "      <td>neutral</td>\n",
       "    </tr>\n",
       "    <tr>\n",
       "      <th>4104</th>\n",
       "      <td>NLB123786_01</td>\n",
       "      <td>123786</td>\n",
       "      <td>1002000</td>\n",
       "      <td>259</td>\n",
       "      <td>p520</td>\n",
       "      <td>NaN</td>\n",
       "      <td>NaT</td>\n",
       "      <td>NaN</td>\n",
       "      <td>NaN</td>\n",
       "      <td>NaN</td>\n",
       "      <td>...</td>\n",
       "      <td>37208</td>\n",
       "      <td>3329_0</td>\n",
       "      <td>Hebben ze dat gedaan doen ze</td>\n",
       "      <td>folksong</td>\n",
       "      <td>1</td>\n",
       "      <td>stanza</td>\n",
       "      <td>NaN</td>\n",
       "      <td>NaN</td>\n",
       "      <td>NaN</td>\n",
       "      <td>neutral</td>\n",
       "    </tr>\n",
       "    <tr>\n",
       "      <th>4105</th>\n",
       "      <td>NLB123787_01</td>\n",
       "      <td>123787</td>\n",
       "      <td>1002000</td>\n",
       "      <td>260</td>\n",
       "      <td>p522</td>\n",
       "      <td>NaN</td>\n",
       "      <td>NaT</td>\n",
       "      <td>NaN</td>\n",
       "      <td>NaN</td>\n",
       "      <td>NaN</td>\n",
       "      <td>...</td>\n",
       "      <td>7499</td>\n",
       "      <td>11126_2</td>\n",
       "      <td>De boom stond in de aarde 2</td>\n",
       "      <td>folksong</td>\n",
       "      <td>1</td>\n",
       "      <td>stanza</td>\n",
       "      <td>NaN</td>\n",
       "      <td>NaN</td>\n",
       "      <td>NaN</td>\n",
       "      <td>neutral</td>\n",
       "    </tr>\n",
       "    <tr>\n",
       "      <th>4106</th>\n",
       "      <td>NLB123789_01</td>\n",
       "      <td>123789</td>\n",
       "      <td>1002000</td>\n",
       "      <td>262</td>\n",
       "      <td>p524</td>\n",
       "      <td>NaN</td>\n",
       "      <td>NaT</td>\n",
       "      <td>NaN</td>\n",
       "      <td>NaN</td>\n",
       "      <td>NaN</td>\n",
       "      <td>...</td>\n",
       "      <td>9</td>\n",
       "      <td>9657_0</td>\n",
       "      <td>A a a valete studia</td>\n",
       "      <td>folksong</td>\n",
       "      <td>1</td>\n",
       "      <td>stanza</td>\n",
       "      <td>NaN</td>\n",
       "      <td>NaN</td>\n",
       "      <td>NaN</td>\n",
       "      <td>neutral</td>\n",
       "    </tr>\n",
       "    <tr>\n",
       "      <th>4107</th>\n",
       "      <td>NLB123790_01</td>\n",
       "      <td>123790</td>\n",
       "      <td>1002000</td>\n",
       "      <td>263</td>\n",
       "      <td>p526</td>\n",
       "      <td>NaN</td>\n",
       "      <td>NaT</td>\n",
       "      <td>NaN</td>\n",
       "      <td>NaN</td>\n",
       "      <td>NaN</td>\n",
       "      <td>...</td>\n",
       "      <td>30209</td>\n",
       "      <td>NaN</td>\n",
       "      <td>NaN</td>\n",
       "      <td>folksong</td>\n",
       "      <td>1</td>\n",
       "      <td>stanza</td>\n",
       "      <td>NaN</td>\n",
       "      <td>NaN</td>\n",
       "      <td>NaN</td>\n",
       "      <td>NaN</td>\n",
       "    </tr>\n",
       "    <tr>\n",
       "      <th>4108</th>\n",
       "      <td>NLB123791_01</td>\n",
       "      <td>123791</td>\n",
       "      <td>1002000</td>\n",
       "      <td>264</td>\n",
       "      <td>p527</td>\n",
       "      <td>NaN</td>\n",
       "      <td>NaT</td>\n",
       "      <td>NaN</td>\n",
       "      <td>NaN</td>\n",
       "      <td>NaN</td>\n",
       "      <td>...</td>\n",
       "      <td>6658</td>\n",
       "      <td>9930_1</td>\n",
       "      <td>En als ik wil gaan huishouden 1</td>\n",
       "      <td>folksong</td>\n",
       "      <td>1</td>\n",
       "      <td>stanza</td>\n",
       "      <td>NaN</td>\n",
       "      <td>NaN</td>\n",
       "      <td>NaN</td>\n",
       "      <td>neutral</td>\n",
       "    </tr>\n",
       "    <tr>\n",
       "      <th>4109</th>\n",
       "      <td>NLB123793_01</td>\n",
       "      <td>123793</td>\n",
       "      <td>1002000</td>\n",
       "      <td>266</td>\n",
       "      <td>p529</td>\n",
       "      <td>NaN</td>\n",
       "      <td>NaT</td>\n",
       "      <td>NaN</td>\n",
       "      <td>NaN</td>\n",
       "      <td>NaN</td>\n",
       "      <td>...</td>\n",
       "      <td>20477</td>\n",
       "      <td>9829_0</td>\n",
       "      <td>Het is vandaag Sint Annadag</td>\n",
       "      <td>folksong</td>\n",
       "      <td>1</td>\n",
       "      <td>stanza</td>\n",
       "      <td>NaN</td>\n",
       "      <td>NaN</td>\n",
       "      <td>NaN</td>\n",
       "      <td>neutral</td>\n",
       "    </tr>\n",
       "    <tr>\n",
       "      <th>4110</th>\n",
       "      <td>NLB123794_01</td>\n",
       "      <td>123794</td>\n",
       "      <td>1002000</td>\n",
       "      <td>267</td>\n",
       "      <td>p531</td>\n",
       "      <td>NaN</td>\n",
       "      <td>NaT</td>\n",
       "      <td>NaN</td>\n",
       "      <td>NaN</td>\n",
       "      <td>NaN</td>\n",
       "      <td>...</td>\n",
       "      <td>46308</td>\n",
       "      <td>9871_0</td>\n",
       "      <td>Sint Annadag is door</td>\n",
       "      <td>folksong</td>\n",
       "      <td>1</td>\n",
       "      <td>stanza</td>\n",
       "      <td>NaN</td>\n",
       "      <td>NaN</td>\n",
       "      <td>NaN</td>\n",
       "      <td>neutral</td>\n",
       "    </tr>\n",
       "    <tr>\n",
       "      <th>4111</th>\n",
       "      <td>NLB123795_01</td>\n",
       "      <td>123795</td>\n",
       "      <td>1002000</td>\n",
       "      <td>268</td>\n",
       "      <td>p532</td>\n",
       "      <td>NaN</td>\n",
       "      <td>NaT</td>\n",
       "      <td>NaN</td>\n",
       "      <td>NaN</td>\n",
       "      <td>NaN</td>\n",
       "      <td>...</td>\n",
       "      <td>8404</td>\n",
       "      <td>9669_0</td>\n",
       "      <td>De koekoek in de mei</td>\n",
       "      <td>folksong</td>\n",
       "      <td>1</td>\n",
       "      <td>stanza</td>\n",
       "      <td>NaN</td>\n",
       "      <td>NaN</td>\n",
       "      <td>NaN</td>\n",
       "      <td>neutral</td>\n",
       "    </tr>\n",
       "    <tr>\n",
       "      <th>4112</th>\n",
       "      <td>NLB136424_01</td>\n",
       "      <td>136424</td>\n",
       "      <td>1001867</td>\n",
       "      <td>079</td>\n",
       "      <td>p106</td>\n",
       "      <td>NaN</td>\n",
       "      <td>NaT</td>\n",
       "      <td>NaN</td>\n",
       "      <td>NaN</td>\n",
       "      <td>NaN</td>\n",
       "      <td>...</td>\n",
       "      <td>6380</td>\n",
       "      <td>1468_0</td>\n",
       "      <td>Daar kwam een boer van Zwitserland</td>\n",
       "      <td>folksong</td>\n",
       "      <td>1</td>\n",
       "      <td>stanza</td>\n",
       "      <td>NaN</td>\n",
       "      <td>NaN</td>\n",
       "      <td>NaN</td>\n",
       "      <td>neutral</td>\n",
       "    </tr>\n",
       "    <tr>\n",
       "      <th>4113</th>\n",
       "      <td>NLB136430_01</td>\n",
       "      <td>136430</td>\n",
       "      <td>1001867</td>\n",
       "      <td>085</td>\n",
       "      <td>p114</td>\n",
       "      <td>NaN</td>\n",
       "      <td>NaT</td>\n",
       "      <td>NaN</td>\n",
       "      <td>NaN</td>\n",
       "      <td>NaN</td>\n",
       "      <td>...</td>\n",
       "      <td>6613</td>\n",
       "      <td>9799_0</td>\n",
       "      <td>Daar was een kwezeltje</td>\n",
       "      <td>folksong</td>\n",
       "      <td>1</td>\n",
       "      <td>stanza</td>\n",
       "      <td>NaN</td>\n",
       "      <td>NaN</td>\n",
       "      <td>NaN</td>\n",
       "      <td>neutral</td>\n",
       "    </tr>\n",
       "    <tr>\n",
       "      <th>4114</th>\n",
       "      <td>NLB136438_01</td>\n",
       "      <td>136438</td>\n",
       "      <td>1001867</td>\n",
       "      <td>093</td>\n",
       "      <td>p125</td>\n",
       "      <td>NaN</td>\n",
       "      <td>NaT</td>\n",
       "      <td>NaN</td>\n",
       "      <td>NaN</td>\n",
       "      <td>NaN</td>\n",
       "      <td>...</td>\n",
       "      <td>28098</td>\n",
       "      <td>6056_2</td>\n",
       "      <td>Naar oostland wil ik varen 2</td>\n",
       "      <td>folksong</td>\n",
       "      <td>1</td>\n",
       "      <td>stanza</td>\n",
       "      <td>NaN</td>\n",
       "      <td>NaN</td>\n",
       "      <td>NaN</td>\n",
       "      <td>neutral</td>\n",
       "    </tr>\n",
       "    <tr>\n",
       "      <th>4115</th>\n",
       "      <td>NLB140828_01</td>\n",
       "      <td>140828</td>\n",
       "      <td>1004301</td>\n",
       "      <td>005</td>\n",
       "      <td>p49</td>\n",
       "      <td>NaN</td>\n",
       "      <td>NaT</td>\n",
       "      <td>NaN</td>\n",
       "      <td>NaN</td>\n",
       "      <td>NaN</td>\n",
       "      <td>...</td>\n",
       "      <td>6801</td>\n",
       "      <td>9743_1</td>\n",
       "      <td>Een lindeboom stond in het dal 1</td>\n",
       "      <td>folksong</td>\n",
       "      <td>1</td>\n",
       "      <td>stanza</td>\n",
       "      <td>NaN</td>\n",
       "      <td>NaN</td>\n",
       "      <td>NaN</td>\n",
       "      <td>neutral</td>\n",
       "    </tr>\n",
       "    <tr>\n",
       "      <th>4116</th>\n",
       "      <td>NLB135273_01</td>\n",
       "      <td>135273</td>\n",
       "      <td>1001928</td>\n",
       "      <td>010</td>\n",
       "      <td>p39</td>\n",
       "      <td>NaN</td>\n",
       "      <td>NaT</td>\n",
       "      <td>NaN</td>\n",
       "      <td>NaN</td>\n",
       "      <td>NaN</td>\n",
       "      <td>...</td>\n",
       "      <td>33529</td>\n",
       "      <td>5301_1</td>\n",
       "      <td>Lieve schipper vaar me over 1</td>\n",
       "      <td>folksong</td>\n",
       "      <td>1</td>\n",
       "      <td>stanza</td>\n",
       "      <td>NaN</td>\n",
       "      <td>NaN</td>\n",
       "      <td>NaN</td>\n",
       "      <td>neutral</td>\n",
       "    </tr>\n",
       "    <tr>\n",
       "      <th>4117</th>\n",
       "      <td>NLB122232_01</td>\n",
       "      <td>122232</td>\n",
       "      <td>1004300</td>\n",
       "      <td>024</td>\n",
       "      <td>p20</td>\n",
       "      <td>NaN</td>\n",
       "      <td>NaT</td>\n",
       "      <td>NaN</td>\n",
       "      <td>NaN</td>\n",
       "      <td>NaN</td>\n",
       "      <td>...</td>\n",
       "      <td>114</td>\n",
       "      <td>48_2</td>\n",
       "      <td>Aan de oever van een snelle vliet 2</td>\n",
       "      <td>folksong</td>\n",
       "      <td>1</td>\n",
       "      <td>stanza</td>\n",
       "      <td>NaN</td>\n",
       "      <td>NaN</td>\n",
       "      <td>NaN</td>\n",
       "      <td>neutral</td>\n",
       "    </tr>\n",
       "    <tr>\n",
       "      <th>4118</th>\n",
       "      <td>NLB125421_01</td>\n",
       "      <td>125421</td>\n",
       "      <td>1001115</td>\n",
       "      <td>015</td>\n",
       "      <td>p28</td>\n",
       "      <td>NaN</td>\n",
       "      <td>NaT</td>\n",
       "      <td>NaN</td>\n",
       "      <td>NaN</td>\n",
       "      <td>NaN</td>\n",
       "      <td>...</td>\n",
       "      <td>5908</td>\n",
       "      <td>2774_0</td>\n",
       "      <td>Femmes voulez-vous éprouver</td>\n",
       "      <td>folksong</td>\n",
       "      <td>1</td>\n",
       "      <td>stanza</td>\n",
       "      <td>NaN</td>\n",
       "      <td>NaN</td>\n",
       "      <td>NaN</td>\n",
       "      <td>neutral</td>\n",
       "    </tr>\n",
       "    <tr>\n",
       "      <th>4119</th>\n",
       "      <td>NLB125427_01</td>\n",
       "      <td>125427</td>\n",
       "      <td>1001115</td>\n",
       "      <td>017</td>\n",
       "      <td>p32</td>\n",
       "      <td>NaN</td>\n",
       "      <td>NaT</td>\n",
       "      <td>NaN</td>\n",
       "      <td>NaN</td>\n",
       "      <td>NaN</td>\n",
       "      <td>...</td>\n",
       "      <td>33529</td>\n",
       "      <td>5301_1</td>\n",
       "      <td>Lieve schipper vaar me over 1</td>\n",
       "      <td>folksong</td>\n",
       "      <td>1</td>\n",
       "      <td>stanza</td>\n",
       "      <td>NaN</td>\n",
       "      <td>NaN</td>\n",
       "      <td>NaN</td>\n",
       "      <td>neutral</td>\n",
       "    </tr>\n",
       "  </tbody>\n",
       "</table>\n",
       "<p>4120 rows × 22 columns</p>\n",
       "</div>"
      ],
      "text/plain": [
       "          filename  songid  source_id serial_number  page singer_id_s  \\\n",
       "0     NLB076348_01   76348    1011179         46906   NaN        1933   \n",
       "1     NLB076349_01   76349    1011179         46907   NaN        1933   \n",
       "2     NLB076351_01   76351    1011179         46909   NaN        1933   \n",
       "3     NLB076354_01   76354    1011179         46912   NaN        1933   \n",
       "4     NLB076356_01   76356    1011179         47002   NaN        1933   \n",
       "5     NLB076371_01   76371    1011179         47207   NaN        1934   \n",
       "6     NLB076375_01   76375    1011179         47211   NaN        1935   \n",
       "7     NLB076380_01   76380    1011179         47216   NaN        1936   \n",
       "8     NLB076383_01   76383    1011179         47302   NaN        1937   \n",
       "9     NLB076386_01   76386    1011179         47304   NaN   1901|1902   \n",
       "10    NLB076387_01   76387    1011179         47305   NaN   1901|1902   \n",
       "11    NLB076391_01   76391    1011179         47309   NaN        1938   \n",
       "12    NLB076402_01   76402    1011179         47320   NaN        1789   \n",
       "13    NLB076414_01   76414    1011179         47407   NaN   1942|1943   \n",
       "14    NLB146186_01  146186    1002032           140   p51         NaN   \n",
       "15    NLB146189_01  146189    1002032           142   p52         NaN   \n",
       "16    NLB146194_01  146194    1002032           146   p55         NaN   \n",
       "17    NLB146515_01  146515    1002032           169   p66         NaN   \n",
       "18    NLB146516_01  146516    1002032           170   p66         NaN   \n",
       "19    NLB146526_01  146526    1002032           180   p74         NaN   \n",
       "20    NLB146608_01  146608    1002032           261  p118         NaN   \n",
       "21    NLB146609_01  146609    1002032           262  p119         NaN   \n",
       "22    NLB146610_01  146610    1002032           263  p121         NaN   \n",
       "23    NLB146611_01  146611    1002032           264  p121         NaN   \n",
       "24    NLB146631_01  146631    1002032           265  p124         NaN   \n",
       "25    NLB146633_01  146633    1002032           266  p124         NaN   \n",
       "26    NLB146634_01  146634    1002032           267  p126         NaN   \n",
       "27    NLB146637_01  146637    1002032           269  p129         NaN   \n",
       "28    NLB146639_01  146639    1002032           270  p130         NaN   \n",
       "29    NLB146649_01  146649    1002032           272  p133         NaN   \n",
       "...            ...     ...        ...           ...   ...         ...   \n",
       "4090  NLB123704_01  123704    1002000           232  p473         NaN   \n",
       "4091  NLB123708_01  123708    1002000           233  p474         NaN   \n",
       "4092  NLB123715_01  123715    1002000           234  p475         NaN   \n",
       "4093  NLB123716_01  123716    1002000           235  p476         NaN   \n",
       "4094  NLB123734_01  123734    1002000           239  p484         NaN   \n",
       "4095  NLB123738_01  123738    1002000           241  p486         NaN   \n",
       "4096  NLB123739_01  123739    1002000           242  p489         NaN   \n",
       "4097  NLB123749_01  123749    1002000           245  p492         NaN   \n",
       "4098  NLB123753_01  123753    1002000           246  p493         NaN   \n",
       "4099  NLB123765_01  123765    1002000           250  p498         NaN   \n",
       "4100  NLB123766_01  123766    1002000           251  p502         NaN   \n",
       "4101  NLB123781_01  123781    1002000           254  p507         NaN   \n",
       "4102  NLB123782_01  123782    1002000           255  p509         NaN   \n",
       "4103  NLB123783_01  123783    1002000           256  p511         NaN   \n",
       "4104  NLB123786_01  123786    1002000           259  p520         NaN   \n",
       "4105  NLB123787_01  123787    1002000           260  p522         NaN   \n",
       "4106  NLB123789_01  123789    1002000           262  p524         NaN   \n",
       "4107  NLB123790_01  123790    1002000           263  p526         NaN   \n",
       "4108  NLB123791_01  123791    1002000           264  p527         NaN   \n",
       "4109  NLB123793_01  123793    1002000           266  p529         NaN   \n",
       "4110  NLB123794_01  123794    1002000           267  p531         NaN   \n",
       "4111  NLB123795_01  123795    1002000           268  p532         NaN   \n",
       "4112  NLB136424_01  136424    1001867           079  p106         NaN   \n",
       "4113  NLB136430_01  136430    1001867           085  p114         NaN   \n",
       "4114  NLB136438_01  136438    1001867           093  p125         NaN   \n",
       "4115  NLB140828_01  140828    1004301           005   p49         NaN   \n",
       "4116  NLB135273_01  135273    1001928           010   p39         NaN   \n",
       "4117  NLB122232_01  122232    1004300           024   p20         NaN   \n",
       "4118  NLB125421_01  125421    1001115           015   p28         NaN   \n",
       "4119  NLB125427_01  125427    1001115           017   p32         NaN   \n",
       "\n",
       "     date_of_recording place_of_recording   latitude  longitude    ...      \\\n",
       "0           1977-02-09          Melderslo  51.465101   6.090613    ...       \n",
       "1           1977-02-09          Melderslo  51.465101   6.090613    ...       \n",
       "2           1977-02-09          Melderslo  51.465101   6.090613    ...       \n",
       "3           1977-02-09          Melderslo  51.465101   6.090613    ...       \n",
       "4           1977-02-09          Melderslo  51.465101   6.090613    ...       \n",
       "5           1977-08-12         Westerbork  52.855177   6.617972    ...       \n",
       "6           1977-08-12         Noordwolde  52.892792   6.141828    ...       \n",
       "7           1978-01-13          Eindhoven  51.446290   5.491184    ...       \n",
       "8           1978-01-13          Eindhoven  51.446290   5.491184    ...       \n",
       "9           1978-01-13              Cuijk  51.737665   5.876443    ...       \n",
       "10          1978-01-13              Cuijk  51.737665   5.876443    ...       \n",
       "11          1978-03-02         Windesheim  52.448436   6.137813    ...       \n",
       "12          1978-03-02             Twello  52.244157   6.111516    ...       \n",
       "13          1978-01-27             Malden  51.786354   5.859881    ...       \n",
       "14                 NaT                NaN        NaN        NaN    ...       \n",
       "15                 NaT                NaN        NaN        NaN    ...       \n",
       "16                 NaT                NaN        NaN        NaN    ...       \n",
       "17                 NaT                NaN        NaN        NaN    ...       \n",
       "18                 NaT                NaN        NaN        NaN    ...       \n",
       "19                 NaT                NaN        NaN        NaN    ...       \n",
       "20                 NaT                NaN        NaN        NaN    ...       \n",
       "21                 NaT                NaN        NaN        NaN    ...       \n",
       "22                 NaT                NaN        NaN        NaN    ...       \n",
       "23                 NaT                NaN        NaN        NaN    ...       \n",
       "24                 NaT                NaN        NaN        NaN    ...       \n",
       "25                 NaT                NaN        NaN        NaN    ...       \n",
       "26                 NaT                NaN        NaN        NaN    ...       \n",
       "27                 NaT                NaN        NaN        NaN    ...       \n",
       "28                 NaT                NaN        NaN        NaN    ...       \n",
       "29                 NaT                NaN        NaN        NaN    ...       \n",
       "...                ...                ...        ...        ...    ...       \n",
       "4090               NaT                NaN        NaN        NaN    ...       \n",
       "4091               NaT                NaN        NaN        NaN    ...       \n",
       "4092               NaT                NaN        NaN        NaN    ...       \n",
       "4093               NaT                NaN        NaN        NaN    ...       \n",
       "4094               NaT                NaN        NaN        NaN    ...       \n",
       "4095               NaT                NaN        NaN        NaN    ...       \n",
       "4096               NaT                NaN        NaN        NaN    ...       \n",
       "4097               NaT                NaN        NaN        NaN    ...       \n",
       "4098               NaT                NaN        NaN        NaN    ...       \n",
       "4099               NaT                NaN        NaN        NaN    ...       \n",
       "4100               NaT                NaN        NaN        NaN    ...       \n",
       "4101               NaT                NaN        NaN        NaN    ...       \n",
       "4102               NaT                NaN        NaN        NaN    ...       \n",
       "4103               NaT                NaN        NaN        NaN    ...       \n",
       "4104               NaT                NaN        NaN        NaN    ...       \n",
       "4105               NaT                NaN        NaN        NaN    ...       \n",
       "4106               NaT                NaN        NaN        NaN    ...       \n",
       "4107               NaT                NaN        NaN        NaN    ...       \n",
       "4108               NaT                NaN        NaN        NaN    ...       \n",
       "4109               NaT                NaN        NaN        NaN    ...       \n",
       "4110               NaT                NaN        NaN        NaN    ...       \n",
       "4111               NaT                NaN        NaN        NaN    ...       \n",
       "4112               NaT                NaN        NaN        NaN    ...       \n",
       "4113               NaT                NaN        NaN        NaN    ...       \n",
       "4114               NaT                NaN        NaN        NaN    ...       \n",
       "4115               NaT                NaN        NaN        NaN    ...       \n",
       "4116               NaT                NaN        NaN        NaN    ...       \n",
       "4117               NaT                NaN        NaN        NaN    ...       \n",
       "4118               NaT                NaN        NaN        NaN    ...       \n",
       "4119               NaT                NaN        NaN        NaN    ...       \n",
       "\n",
       "     textfamily_id tunefamily_id                                   tunefamily  \\\n",
       "0            22467           NaN                                          NaN   \n",
       "1            20461           NaN                                          NaN   \n",
       "2            21299        3709_1                  Het was op een avond laat 1   \n",
       "3            27040        9953_1                   Het kluchtje van fortuin 1   \n",
       "4            59465        3936_0                 Ich bin der Doktor Eisenbart   \n",
       "5            24833        9766_0          Ik ging er langs maden langs weiden   \n",
       "6            52419        9880_1            Wat brengt de liefde menig paar 1   \n",
       "7             2076       10059_1                           Van Peer en Lijn 1   \n",
       "8             1073        9666_4            Daar waren twee koningskinderen 4   \n",
       "9             6801        1507_1      Daar zou er een maagdje vroeg opstaan 1   \n",
       "10           21189        9666_4            Daar waren twee koningskinderen 4   \n",
       "11           20461        9767_1       Het is van een rijk en edel man zeer 1   \n",
       "12           59467        9705_1         Moeder ik kom u een woordje vragen 1   \n",
       "13            6141        9843_5                              Jan de Mulder 5   \n",
       "14           28813        9993_0       Jan van het land die had een oud paard   \n",
       "15           28813           NaN                                          NaN   \n",
       "16           36431        5899_0              Mijn vader zei laatst tegen mij   \n",
       "17           36431        5899_0              Mijn vader zei laatst tegen mij   \n",
       "18            6141           NaN                                          NaN   \n",
       "19           59515       10048_1  Toen ik voor het eerst bij die molen kwam 1   \n",
       "20           14335        9744_1                 Er reed er eens een ruiter 1   \n",
       "21            1819        9897_2                   Al in die stad van Wenen 2   \n",
       "22           25058           NaN                                          NaN   \n",
       "23           18622        1419_4                              Heer Halewijn 4   \n",
       "24           21189           NaN                                          NaN   \n",
       "25           26258        4138_1                    Ik stond op hoge bergen 1   \n",
       "26           26258        4138_1                    Ik stond op hoge bergen 1   \n",
       "27           12293        9816_1                         Een jonge speelman 1   \n",
       "28            6801        3940_0             Ich hab ein kleines Hüttchen nur   \n",
       "29           43566           NaN                                          NaN   \n",
       "...            ...           ...                                          ...   \n",
       "4090         33830         844_0                  Benedicamus Domino alleluja   \n",
       "4091         17228        3662_0               Het voer een knaapje over Rijn   \n",
       "4092         54630        1916_0              De nachtegaal die zong een lied   \n",
       "4093         32515        7754_0                  Rijke God wie zal ik klagen   \n",
       "4094         26915        1151_0                                      Cecilia   \n",
       "4095         28697        9698_0            Jan broeder vrijt een meisje zoet   \n",
       "4096         34775        9703_0               Meiske jong mijn maagdeke teer   \n",
       "4097         26546        1904_3                               De molenarin 3   \n",
       "4098          9759        4042_0                 Ik heb de wereld zeer bemind   \n",
       "4099         30410        9810_0                             De theevrouwtjes   \n",
       "4100         55627        5100_0                                     Lanterlu   \n",
       "4101          1780         282_0               Al hebben de prinsen haar wens   \n",
       "4102         52778        9119_0                        Wat is de wereld toch   \n",
       "4103          7487        1628_0                    De boertjes maken vreugde   \n",
       "4104         37208        3329_0                 Hebben ze dat gedaan doen ze   \n",
       "4105          7499       11126_2                  De boom stond in de aarde 2   \n",
       "4106             9        9657_0                          A a a valete studia   \n",
       "4107         30209           NaN                                          NaN   \n",
       "4108          6658        9930_1              En als ik wil gaan huishouden 1   \n",
       "4109         20477        9829_0                  Het is vandaag Sint Annadag   \n",
       "4110         46308        9871_0                         Sint Annadag is door   \n",
       "4111          8404        9669_0                         De koekoek in de mei   \n",
       "4112          6380        1468_0           Daar kwam een boer van Zwitserland   \n",
       "4113          6613        9799_0                       Daar was een kwezeltje   \n",
       "4114         28098        6056_2                 Naar oostland wil ik varen 2   \n",
       "4115          6801        9743_1             Een lindeboom stond in het dal 1   \n",
       "4116         33529        5301_1                Lieve schipper vaar me over 1   \n",
       "4117           114          48_2          Aan de oever van een snelle vliet 2   \n",
       "4118          5908        2774_0                  Femmes voulez-vous éprouver   \n",
       "4119         33529        5301_1                Lieve schipper vaar me over 1   \n",
       "\n",
       "          type voice_strophe_number voice_strophe  \\\n",
       "0     folksong                    1        stanza   \n",
       "1     folksong                    1        stanza   \n",
       "2     folksong                    1        stanza   \n",
       "3     folksong                    1        stanza   \n",
       "4     folksong                    1        stanza   \n",
       "5     folksong                    1        stanza   \n",
       "6     folksong                    1        stanza   \n",
       "7     folksong                    1        stanza   \n",
       "8     folksong                    1        stanza   \n",
       "9     folksong                    1        stanza   \n",
       "10    folksong                    1        stanza   \n",
       "11    folksong                    1        stanza   \n",
       "12    folksong                    1        stanza   \n",
       "13    folksong                    1        stanza   \n",
       "14    folksong                    1        stanza   \n",
       "15    folksong                    1        stanza   \n",
       "16    folksong                    1        stanza   \n",
       "17    folksong                    1        stanza   \n",
       "18    folksong                    1        stanza   \n",
       "19    folksong                    1        stanza   \n",
       "20    folksong                    1        stanza   \n",
       "21    folksong                    1        stanza   \n",
       "22    folksong                    1        stanza   \n",
       "23    folksong                    1        stanza   \n",
       "24    folksong                    1        stanza   \n",
       "25    folksong                    1        stanza   \n",
       "26    folksong                    1        stanza   \n",
       "27    folksong                    1        stanza   \n",
       "28    folksong                    1        stanza   \n",
       "29    folksong                    1        stanza   \n",
       "...        ...                  ...           ...   \n",
       "4090  folksong                    1        stanza   \n",
       "4091  folksong                    1        stanza   \n",
       "4092  folksong                    1        stanza   \n",
       "4093  folksong                    1        stanza   \n",
       "4094  folksong                    1        stanza   \n",
       "4095  folksong                    1        stanza   \n",
       "4096  folksong                    1        stanza   \n",
       "4097  folksong                    1        stanza   \n",
       "4098  folksong                    1        stanza   \n",
       "4099  folksong                    1        stanza   \n",
       "4100  folksong                    1        stanza   \n",
       "4101  folksong                    1        stanza   \n",
       "4102  folksong                    1        stanza   \n",
       "4103  folksong                    1        stanza   \n",
       "4104  folksong                    1        stanza   \n",
       "4105  folksong                    1        stanza   \n",
       "4106  folksong                    1        stanza   \n",
       "4107  folksong                    1        stanza   \n",
       "4108  folksong                    1        stanza   \n",
       "4109  folksong                    1        stanza   \n",
       "4110  folksong                    1        stanza   \n",
       "4111  folksong                    1        stanza   \n",
       "4112  folksong                    1        stanza   \n",
       "4113  folksong                    1        stanza   \n",
       "4114  folksong                    1        stanza   \n",
       "4115  folksong                    1        stanza   \n",
       "4116  folksong                    1        stanza   \n",
       "4117  folksong                    1        stanza   \n",
       "4118  folksong                    1        stanza   \n",
       "4119  folksong                    1        stanza   \n",
       "\n",
       "                                       image_filename_s     audio_filename  \\\n",
       "0     NLB76348_01.jpg|NLB76348_02.jpg|NLB76348_03.jp...  NLB076348_all.mp3   \n",
       "1     NLB76349_01.jpg|NLB76349_02.jpg|NLB76349_03.jp...  NLB076349_all.mp3   \n",
       "2     NLB76351_01.jpg|NLB76351_02.jpg|NLB76351_03.jp...  NLB076351_all.mp3   \n",
       "3     NLB76354_01.jpg|NLB76354_02.jpg|NLB76354_03.jp...  NLB076354_all.mp3   \n",
       "4     NLB76356_01.jpg|NLB76356_02.jpg|NLB76356_03.jp...  NLB076356_all.mp3   \n",
       "5     NLB76371_01.jpg|NLB76371_02.jpg|NLB76371_03.jp...  NLB076371_all.mp3   \n",
       "6     NLB76375_01.jpg|NLB76375_02.jpg|NLB76375_03.jp...  NLB076375_all.mp3   \n",
       "7     NLB76380_01.jpg|NLB76380_02.jpg|NLB76380_03.jp...  NLB076380_all.mp3   \n",
       "8     NLB76383_01.jpg|NLB76383_02.jpg|NLB76383_03.jp...  NLB076383_all.mp3   \n",
       "9     NLB76386_01.jpg|NLB76386_02.jpg|NLB76386_03.jp...  NLB076386_all.mp3   \n",
       "10    NLB76387_01.jpg|NLB76387_02.jpg|NLB76387_03.jp...  NLB076387_all.mp3   \n",
       "11    NLB76391_01.jpg|NLB76391_02.jpg|NLB76391_03.jp...  NLB076391_all.mp3   \n",
       "12    NLB76402_01.jpg|NLB76402_02.jpg|NLB76402_03.jp...  NLB076402_all.mp3   \n",
       "13                      NLB76414_01.jpg|NLB76414_02.jpg  NLB076414_all.mp3   \n",
       "14                                                  NaN                NaN   \n",
       "15                                                  NaN                NaN   \n",
       "16                                                  NaN                NaN   \n",
       "17                                                  NaN                NaN   \n",
       "18                                                  NaN                NaN   \n",
       "19                                                  NaN                NaN   \n",
       "20                                                  NaN                NaN   \n",
       "21                                                  NaN                NaN   \n",
       "22                                                  NaN                NaN   \n",
       "23                                                  NaN                NaN   \n",
       "24                                                  NaN                NaN   \n",
       "25                                                  NaN                NaN   \n",
       "26                                                  NaN                NaN   \n",
       "27                                                  NaN                NaN   \n",
       "28                                                  NaN                NaN   \n",
       "29                                                  NaN                NaN   \n",
       "...                                                 ...                ...   \n",
       "4090                                                NaN                NaN   \n",
       "4091                                                NaN                NaN   \n",
       "4092                                                NaN                NaN   \n",
       "4093                                                NaN                NaN   \n",
       "4094                                                NaN                NaN   \n",
       "4095                                                NaN                NaN   \n",
       "4096                                                NaN                NaN   \n",
       "4097                                                NaN                NaN   \n",
       "4098                                                NaN                NaN   \n",
       "4099                                                NaN                NaN   \n",
       "4100                                                NaN                NaN   \n",
       "4101                                                NaN                NaN   \n",
       "4102                                                NaN                NaN   \n",
       "4103                                                NaN                NaN   \n",
       "4104                                                NaN                NaN   \n",
       "4105                                                NaN                NaN   \n",
       "4106                                                NaN                NaN   \n",
       "4107                                                NaN                NaN   \n",
       "4108                                                NaN                NaN   \n",
       "4109                                                NaN                NaN   \n",
       "4110                                                NaN                NaN   \n",
       "4111                                                NaN                NaN   \n",
       "4112                                                NaN                NaN   \n",
       "4113                                                NaN                NaN   \n",
       "4114                                                NaN                NaN   \n",
       "4115                                                NaN                NaN   \n",
       "4116                                                NaN                NaN   \n",
       "4117                                                NaN                NaN   \n",
       "4118                                                NaN                NaN   \n",
       "4119                                                NaN                NaN   \n",
       "\n",
       "     variation confidence  \n",
       "0          NaN        NaN  \n",
       "1          NaN        NaN  \n",
       "2          NaN    neutral  \n",
       "3          NaN    neutral  \n",
       "4          NaN    neutral  \n",
       "5          NaN    neutral  \n",
       "6          NaN    neutral  \n",
       "7          NaN    neutral  \n",
       "8          NaN    neutral  \n",
       "9          NaN    neutral  \n",
       "10         NaN    neutral  \n",
       "11         NaN    neutral  \n",
       "12         NaN    neutral  \n",
       "13         NaN       weak  \n",
       "14         NaN    neutral  \n",
       "15         NaN        NaN  \n",
       "16         NaN    neutral  \n",
       "17         NaN    neutral  \n",
       "18         NaN        NaN  \n",
       "19         NaN    neutral  \n",
       "20         NaN    neutral  \n",
       "21         NaN    neutral  \n",
       "22         NaN        NaN  \n",
       "23         NaN    neutral  \n",
       "24         NaN        NaN  \n",
       "25         NaN    neutral  \n",
       "26         NaN    neutral  \n",
       "27         NaN    neutral  \n",
       "28         NaN    neutral  \n",
       "29         NaN        NaN  \n",
       "...        ...        ...  \n",
       "4090       NaN    neutral  \n",
       "4091       NaN    neutral  \n",
       "4092       NaN    neutral  \n",
       "4093       NaN    neutral  \n",
       "4094       NaN    neutral  \n",
       "4095       NaN    neutral  \n",
       "4096       NaN    neutral  \n",
       "4097       NaN    neutral  \n",
       "4098       NaN    neutral  \n",
       "4099       NaN    neutral  \n",
       "4100       NaN    neutral  \n",
       "4101       NaN    neutral  \n",
       "4102       NaN    neutral  \n",
       "4103       NaN    neutral  \n",
       "4104       NaN    neutral  \n",
       "4105       NaN    neutral  \n",
       "4106       NaN    neutral  \n",
       "4107       NaN        NaN  \n",
       "4108       NaN    neutral  \n",
       "4109       NaN    neutral  \n",
       "4110       NaN    neutral  \n",
       "4111       NaN    neutral  \n",
       "4112       NaN    neutral  \n",
       "4113       NaN    neutral  \n",
       "4114       NaN    neutral  \n",
       "4115       NaN    neutral  \n",
       "4116       NaN    neutral  \n",
       "4117       NaN    neutral  \n",
       "4118       NaN    neutral  \n",
       "4119       NaN    neutral  \n",
       "\n",
       "[4120 rows x 22 columns]"
      ]
     },
     "execution_count": 53,
     "metadata": {},
     "output_type": "execute_result"
    }
   ],
   "source": [
    "df"
   ]
  },
  {
   "cell_type": "markdown",
   "metadata": {},
   "source": [
    "The IPython notebooks work seamlessly with Pandas and display a nicely formatted HTML table. We can access the first, say, 5 rows of this table using a slicing operation:"
   ]
  },
  {
   "cell_type": "code",
   "execution_count": 54,
   "metadata": {
    "collapsed": true
   },
   "outputs": [
    {
     "data": {
      "text/html": [
       "<div>\n",
       "<table border=\"1\" class=\"dataframe\">\n",
       "  <thead>\n",
       "    <tr style=\"text-align: right;\">\n",
       "      <th></th>\n",
       "      <th>filename</th>\n",
       "      <th>songid</th>\n",
       "      <th>source_id</th>\n",
       "      <th>serial_number</th>\n",
       "      <th>page</th>\n",
       "      <th>singer_id_s</th>\n",
       "      <th>date_of_recording</th>\n",
       "      <th>place_of_recording</th>\n",
       "      <th>latitude</th>\n",
       "      <th>longitude</th>\n",
       "      <th>...</th>\n",
       "      <th>textfamily_id</th>\n",
       "      <th>tunefamily_id</th>\n",
       "      <th>tunefamily</th>\n",
       "      <th>type</th>\n",
       "      <th>voice_strophe_number</th>\n",
       "      <th>voice_strophe</th>\n",
       "      <th>image_filename_s</th>\n",
       "      <th>audio_filename</th>\n",
       "      <th>variation</th>\n",
       "      <th>confidence</th>\n",
       "    </tr>\n",
       "  </thead>\n",
       "  <tbody>\n",
       "    <tr>\n",
       "      <th>0</th>\n",
       "      <td>NLB076348_01</td>\n",
       "      <td>76348</td>\n",
       "      <td>1011179</td>\n",
       "      <td>46906</td>\n",
       "      <td>NaN</td>\n",
       "      <td>1933</td>\n",
       "      <td>1977-02-09</td>\n",
       "      <td>Melderslo</td>\n",
       "      <td>51.465101</td>\n",
       "      <td>6.090613</td>\n",
       "      <td>...</td>\n",
       "      <td>22467</td>\n",
       "      <td>NaN</td>\n",
       "      <td>NaN</td>\n",
       "      <td>folksong</td>\n",
       "      <td>1</td>\n",
       "      <td>stanza</td>\n",
       "      <td>NLB76348_01.jpg|NLB76348_02.jpg|NLB76348_03.jp...</td>\n",
       "      <td>NLB076348_all.mp3</td>\n",
       "      <td>NaN</td>\n",
       "      <td>NaN</td>\n",
       "    </tr>\n",
       "    <tr>\n",
       "      <th>1</th>\n",
       "      <td>NLB076349_01</td>\n",
       "      <td>76349</td>\n",
       "      <td>1011179</td>\n",
       "      <td>46907</td>\n",
       "      <td>NaN</td>\n",
       "      <td>1933</td>\n",
       "      <td>1977-02-09</td>\n",
       "      <td>Melderslo</td>\n",
       "      <td>51.465101</td>\n",
       "      <td>6.090613</td>\n",
       "      <td>...</td>\n",
       "      <td>20461</td>\n",
       "      <td>NaN</td>\n",
       "      <td>NaN</td>\n",
       "      <td>folksong</td>\n",
       "      <td>1</td>\n",
       "      <td>stanza</td>\n",
       "      <td>NLB76349_01.jpg|NLB76349_02.jpg|NLB76349_03.jp...</td>\n",
       "      <td>NLB076349_all.mp3</td>\n",
       "      <td>NaN</td>\n",
       "      <td>NaN</td>\n",
       "    </tr>\n",
       "    <tr>\n",
       "      <th>2</th>\n",
       "      <td>NLB076351_01</td>\n",
       "      <td>76351</td>\n",
       "      <td>1011179</td>\n",
       "      <td>46909</td>\n",
       "      <td>NaN</td>\n",
       "      <td>1933</td>\n",
       "      <td>1977-02-09</td>\n",
       "      <td>Melderslo</td>\n",
       "      <td>51.465101</td>\n",
       "      <td>6.090613</td>\n",
       "      <td>...</td>\n",
       "      <td>21299</td>\n",
       "      <td>3709_1</td>\n",
       "      <td>Het was op een avond laat 1</td>\n",
       "      <td>folksong</td>\n",
       "      <td>1</td>\n",
       "      <td>stanza</td>\n",
       "      <td>NLB76351_01.jpg|NLB76351_02.jpg|NLB76351_03.jp...</td>\n",
       "      <td>NLB076351_all.mp3</td>\n",
       "      <td>NaN</td>\n",
       "      <td>neutral</td>\n",
       "    </tr>\n",
       "    <tr>\n",
       "      <th>3</th>\n",
       "      <td>NLB076354_01</td>\n",
       "      <td>76354</td>\n",
       "      <td>1011179</td>\n",
       "      <td>46912</td>\n",
       "      <td>NaN</td>\n",
       "      <td>1933</td>\n",
       "      <td>1977-02-09</td>\n",
       "      <td>Melderslo</td>\n",
       "      <td>51.465101</td>\n",
       "      <td>6.090613</td>\n",
       "      <td>...</td>\n",
       "      <td>27040</td>\n",
       "      <td>9953_1</td>\n",
       "      <td>Het kluchtje van fortuin 1</td>\n",
       "      <td>folksong</td>\n",
       "      <td>1</td>\n",
       "      <td>stanza</td>\n",
       "      <td>NLB76354_01.jpg|NLB76354_02.jpg|NLB76354_03.jp...</td>\n",
       "      <td>NLB076354_all.mp3</td>\n",
       "      <td>NaN</td>\n",
       "      <td>neutral</td>\n",
       "    </tr>\n",
       "    <tr>\n",
       "      <th>4</th>\n",
       "      <td>NLB076356_01</td>\n",
       "      <td>76356</td>\n",
       "      <td>1011179</td>\n",
       "      <td>47002</td>\n",
       "      <td>NaN</td>\n",
       "      <td>1933</td>\n",
       "      <td>1977-02-09</td>\n",
       "      <td>Melderslo</td>\n",
       "      <td>51.465101</td>\n",
       "      <td>6.090613</td>\n",
       "      <td>...</td>\n",
       "      <td>59465</td>\n",
       "      <td>3936_0</td>\n",
       "      <td>Ich bin der Doktor Eisenbart</td>\n",
       "      <td>folksong</td>\n",
       "      <td>1</td>\n",
       "      <td>stanza</td>\n",
       "      <td>NLB76356_01.jpg|NLB76356_02.jpg|NLB76356_03.jp...</td>\n",
       "      <td>NLB076356_all.mp3</td>\n",
       "      <td>NaN</td>\n",
       "      <td>neutral</td>\n",
       "    </tr>\n",
       "  </tbody>\n",
       "</table>\n",
       "<p>5 rows × 22 columns</p>\n",
       "</div>"
      ],
      "text/plain": [
       "       filename  songid  source_id serial_number page singer_id_s  \\\n",
       "0  NLB076348_01   76348    1011179         46906  NaN        1933   \n",
       "1  NLB076349_01   76349    1011179         46907  NaN        1933   \n",
       "2  NLB076351_01   76351    1011179         46909  NaN        1933   \n",
       "3  NLB076354_01   76354    1011179         46912  NaN        1933   \n",
       "4  NLB076356_01   76356    1011179         47002  NaN        1933   \n",
       "\n",
       "  date_of_recording place_of_recording   latitude  longitude    ...      \\\n",
       "0        1977-02-09          Melderslo  51.465101   6.090613    ...       \n",
       "1        1977-02-09          Melderslo  51.465101   6.090613    ...       \n",
       "2        1977-02-09          Melderslo  51.465101   6.090613    ...       \n",
       "3        1977-02-09          Melderslo  51.465101   6.090613    ...       \n",
       "4        1977-02-09          Melderslo  51.465101   6.090613    ...       \n",
       "\n",
       "  textfamily_id tunefamily_id                    tunefamily      type  \\\n",
       "0         22467           NaN                           NaN  folksong   \n",
       "1         20461           NaN                           NaN  folksong   \n",
       "2         21299        3709_1   Het was op een avond laat 1  folksong   \n",
       "3         27040        9953_1    Het kluchtje van fortuin 1  folksong   \n",
       "4         59465        3936_0  Ich bin der Doktor Eisenbart  folksong   \n",
       "\n",
       "  voice_strophe_number voice_strophe  \\\n",
       "0                    1        stanza   \n",
       "1                    1        stanza   \n",
       "2                    1        stanza   \n",
       "3                    1        stanza   \n",
       "4                    1        stanza   \n",
       "\n",
       "                                    image_filename_s     audio_filename  \\\n",
       "0  NLB76348_01.jpg|NLB76348_02.jpg|NLB76348_03.jp...  NLB076348_all.mp3   \n",
       "1  NLB76349_01.jpg|NLB76349_02.jpg|NLB76349_03.jp...  NLB076349_all.mp3   \n",
       "2  NLB76351_01.jpg|NLB76351_02.jpg|NLB76351_03.jp...  NLB076351_all.mp3   \n",
       "3  NLB76354_01.jpg|NLB76354_02.jpg|NLB76354_03.jp...  NLB076354_all.mp3   \n",
       "4  NLB76356_01.jpg|NLB76356_02.jpg|NLB76356_03.jp...  NLB076356_all.mp3   \n",
       "\n",
       "  variation confidence  \n",
       "0       NaN        NaN  \n",
       "1       NaN        NaN  \n",
       "2       NaN    neutral  \n",
       "3       NaN    neutral  \n",
       "4       NaN    neutral  \n",
       "\n",
       "[5 rows x 22 columns]"
      ]
     },
     "execution_count": 54,
     "metadata": {},
     "output_type": "execute_result"
    }
   ],
   "source": [
    "df[:5]"
   ]
  },
  {
   "cell_type": "markdown",
   "metadata": {},
   "source": [
    "An equivalent, yet slightly better understandable method is to use the `.head` method:"
   ]
  },
  {
   "cell_type": "code",
   "execution_count": 55,
   "metadata": {
    "collapsed": true
   },
   "outputs": [
    {
     "name": "stdout",
     "output_type": "stream",
     "text": [
      "['NLB076348_01' 76348 1011179 '46906' nan '1933'\n",
      " Timestamp('1977-02-09 00:00:00') 'Melderslo' 51.4651007186 6.09061265704\n",
      " nan 'Hoe menig kind wordt tot het kwaad geboren' 22467.0 nan nan\n",
      " 'folksong' 1 'stanza'\n",
      " 'NLB76348_01.jpg|NLB76348_02.jpg|NLB76348_03.jpg|NLB76348_04.jpg|NLB76348_05.jpg|NLB76348_06.jpg'\n",
      " 'NLB076348_all.mp3' nan nan]\n",
      "['NLB076348_01' 76348 1011179 '46906' nan '1933'\n",
      " Timestamp('1977-02-09 00:00:00') 'Melderslo' 51.4651007186 6.09061265704\n",
      " nan 'Hoe menig kind wordt tot het kwaad geboren' 22467.0 nan nan\n",
      " 'folksong' 1 'stanza'\n",
      " 'NLB76348_01.jpg|NLB76348_02.jpg|NLB76348_03.jpg|NLB76348_04.jpg|NLB76348_05.jpg|NLB76348_06.jpg'\n",
      " 'NLB076348_all.mp3' nan nan]\n",
      "['NLB076348_01' 76348 1011179 '46906' nan '1933'\n",
      " Timestamp('1977-02-09 00:00:00') 'Melderslo' 51.4651007186 6.09061265704\n",
      " nan 'Hoe menig kind wordt tot het kwaad geboren' 22467.0 nan nan\n",
      " 'folksong' 1 'stanza'\n",
      " 'NLB76348_01.jpg|NLB76348_02.jpg|NLB76348_03.jpg|NLB76348_04.jpg|NLB76348_05.jpg|NLB76348_06.jpg'\n",
      " 'NLB076348_all.mp3' nan nan]\n",
      "['NLB076348_01' 76348 1011179 '46906' nan '1933'\n",
      " Timestamp('1977-02-09 00:00:00') 'Melderslo' 51.4651007186 6.09061265704\n",
      " nan 'Hoe menig kind wordt tot het kwaad geboren' 22467.0 nan nan\n",
      " 'folksong' 1 'stanza'\n",
      " 'NLB76348_01.jpg|NLB76348_02.jpg|NLB76348_03.jpg|NLB76348_04.jpg|NLB76348_05.jpg|NLB76348_06.jpg'\n",
      " 'NLB076348_all.mp3' nan nan]\n",
      "['NLB076348_01' 76348 1011179 '46906' nan '1933'\n",
      " Timestamp('1977-02-09 00:00:00') 'Melderslo' 51.4651007186 6.09061265704\n",
      " nan 'Hoe menig kind wordt tot het kwaad geboren' 22467.0 nan nan\n",
      " 'folksong' 1 'stanza'\n",
      " 'NLB76348_01.jpg|NLB76348_02.jpg|NLB76348_03.jpg|NLB76348_04.jpg|NLB76348_05.jpg|NLB76348_06.jpg'\n",
      " 'NLB076348_all.mp3' nan nan]\n",
      "['NLB076348_01' 76348 1011179 '46906' nan '1933'\n",
      " Timestamp('1977-02-09 00:00:00') 'Melderslo' 51.4651007186 6.09061265704\n",
      " nan 'Hoe menig kind wordt tot het kwaad geboren' 22467.0 nan nan\n",
      " 'folksong' 1 'stanza'\n",
      " 'NLB76348_01.jpg|NLB76348_02.jpg|NLB76348_03.jpg|NLB76348_04.jpg|NLB76348_05.jpg|NLB76348_06.jpg'\n",
      " 'NLB076348_all.mp3' nan nan]\n",
      "['NLB076348_01' 76348 1011179 '46906' nan '1933'\n",
      " Timestamp('1977-02-09 00:00:00') 'Melderslo' 51.4651007186 6.09061265704\n",
      " nan 'Hoe menig kind wordt tot het kwaad geboren' 22467.0 nan nan\n",
      " 'folksong' 1 'stanza'\n",
      " 'NLB76348_01.jpg|NLB76348_02.jpg|NLB76348_03.jpg|NLB76348_04.jpg|NLB76348_05.jpg|NLB76348_06.jpg'\n",
      " 'NLB076348_all.mp3' nan nan]\n",
      "['NLB076348_01' 76348 1011179 '46906' nan '1933'\n",
      " Timestamp('1977-02-09 00:00:00') 'Melderslo' 51.4651007186 6.09061265704\n",
      " nan 'Hoe menig kind wordt tot het kwaad geboren' 22467.0 nan nan\n",
      " 'folksong' 1 'stanza'\n",
      " 'NLB76348_01.jpg|NLB76348_02.jpg|NLB76348_03.jpg|NLB76348_04.jpg|NLB76348_05.jpg|NLB76348_06.jpg'\n",
      " 'NLB076348_all.mp3' nan nan]\n",
      "['NLB076348_01' 76348 1011179 '46906' nan '1933'\n",
      " Timestamp('1977-02-09 00:00:00') 'Melderslo' 51.4651007186 6.09061265704\n",
      " nan 'Hoe menig kind wordt tot het kwaad geboren' 22467.0 nan nan\n",
      " 'folksong' 1 'stanza'\n",
      " 'NLB76348_01.jpg|NLB76348_02.jpg|NLB76348_03.jpg|NLB76348_04.jpg|NLB76348_05.jpg|NLB76348_06.jpg'\n",
      " 'NLB076348_all.mp3' nan nan]\n",
      "['NLB076348_01' 76348 1011179 '46906' nan '1933'\n",
      " Timestamp('1977-02-09 00:00:00') 'Melderslo' 51.4651007186 6.09061265704\n",
      " nan 'Hoe menig kind wordt tot het kwaad geboren' 22467.0 nan nan\n",
      " 'folksong' 1 'stanza'\n",
      " 'NLB76348_01.jpg|NLB76348_02.jpg|NLB76348_03.jpg|NLB76348_04.jpg|NLB76348_05.jpg|NLB76348_06.jpg'\n",
      " 'NLB076348_all.mp3' nan nan]\n"
     ]
    }
   ],
   "source": [
    "y = 0\n",
    "for x in df.values:\n",
    "    while y < 10:\n",
    "        print(x)\n",
    "        y+=1"
   ]
  },
  {
   "cell_type": "markdown",
   "metadata": {},
   "source": [
    "By default `.head` returns the first 5 rows of a DataFrame. The method takes one optional argument `n` with which you can specify how many rows to show:"
   ]
  },
  {
   "cell_type": "code",
   "execution_count": 56,
   "metadata": {
    "collapsed": true
   },
   "outputs": [
    {
     "data": {
      "text/html": [
       "<div>\n",
       "<table border=\"1\" class=\"dataframe\">\n",
       "  <thead>\n",
       "    <tr style=\"text-align: right;\">\n",
       "      <th></th>\n",
       "      <th>filename</th>\n",
       "      <th>songid</th>\n",
       "      <th>source_id</th>\n",
       "      <th>serial_number</th>\n",
       "      <th>page</th>\n",
       "      <th>singer_id_s</th>\n",
       "      <th>date_of_recording</th>\n",
       "      <th>place_of_recording</th>\n",
       "      <th>latitude</th>\n",
       "      <th>longitude</th>\n",
       "      <th>...</th>\n",
       "      <th>textfamily_id</th>\n",
       "      <th>tunefamily_id</th>\n",
       "      <th>tunefamily</th>\n",
       "      <th>type</th>\n",
       "      <th>voice_strophe_number</th>\n",
       "      <th>voice_strophe</th>\n",
       "      <th>image_filename_s</th>\n",
       "      <th>audio_filename</th>\n",
       "      <th>variation</th>\n",
       "      <th>confidence</th>\n",
       "    </tr>\n",
       "  </thead>\n",
       "  <tbody>\n",
       "    <tr>\n",
       "      <th>0</th>\n",
       "      <td>NLB076348_01</td>\n",
       "      <td>76348</td>\n",
       "      <td>1011179</td>\n",
       "      <td>46906</td>\n",
       "      <td>NaN</td>\n",
       "      <td>1933</td>\n",
       "      <td>1977-02-09</td>\n",
       "      <td>Melderslo</td>\n",
       "      <td>51.465101</td>\n",
       "      <td>6.090613</td>\n",
       "      <td>...</td>\n",
       "      <td>22467</td>\n",
       "      <td>NaN</td>\n",
       "      <td>NaN</td>\n",
       "      <td>folksong</td>\n",
       "      <td>1</td>\n",
       "      <td>stanza</td>\n",
       "      <td>NLB76348_01.jpg|NLB76348_02.jpg|NLB76348_03.jp...</td>\n",
       "      <td>NLB076348_all.mp3</td>\n",
       "      <td>NaN</td>\n",
       "      <td>NaN</td>\n",
       "    </tr>\n",
       "    <tr>\n",
       "      <th>1</th>\n",
       "      <td>NLB076349_01</td>\n",
       "      <td>76349</td>\n",
       "      <td>1011179</td>\n",
       "      <td>46907</td>\n",
       "      <td>NaN</td>\n",
       "      <td>1933</td>\n",
       "      <td>1977-02-09</td>\n",
       "      <td>Melderslo</td>\n",
       "      <td>51.465101</td>\n",
       "      <td>6.090613</td>\n",
       "      <td>...</td>\n",
       "      <td>20461</td>\n",
       "      <td>NaN</td>\n",
       "      <td>NaN</td>\n",
       "      <td>folksong</td>\n",
       "      <td>1</td>\n",
       "      <td>stanza</td>\n",
       "      <td>NLB76349_01.jpg|NLB76349_02.jpg|NLB76349_03.jp...</td>\n",
       "      <td>NLB076349_all.mp3</td>\n",
       "      <td>NaN</td>\n",
       "      <td>NaN</td>\n",
       "    </tr>\n",
       "    <tr>\n",
       "      <th>2</th>\n",
       "      <td>NLB076351_01</td>\n",
       "      <td>76351</td>\n",
       "      <td>1011179</td>\n",
       "      <td>46909</td>\n",
       "      <td>NaN</td>\n",
       "      <td>1933</td>\n",
       "      <td>1977-02-09</td>\n",
       "      <td>Melderslo</td>\n",
       "      <td>51.465101</td>\n",
       "      <td>6.090613</td>\n",
       "      <td>...</td>\n",
       "      <td>21299</td>\n",
       "      <td>3709_1</td>\n",
       "      <td>Het was op een avond laat 1</td>\n",
       "      <td>folksong</td>\n",
       "      <td>1</td>\n",
       "      <td>stanza</td>\n",
       "      <td>NLB76351_01.jpg|NLB76351_02.jpg|NLB76351_03.jp...</td>\n",
       "      <td>NLB076351_all.mp3</td>\n",
       "      <td>NaN</td>\n",
       "      <td>neutral</td>\n",
       "    </tr>\n",
       "    <tr>\n",
       "      <th>3</th>\n",
       "      <td>NLB076354_01</td>\n",
       "      <td>76354</td>\n",
       "      <td>1011179</td>\n",
       "      <td>46912</td>\n",
       "      <td>NaN</td>\n",
       "      <td>1933</td>\n",
       "      <td>1977-02-09</td>\n",
       "      <td>Melderslo</td>\n",
       "      <td>51.465101</td>\n",
       "      <td>6.090613</td>\n",
       "      <td>...</td>\n",
       "      <td>27040</td>\n",
       "      <td>9953_1</td>\n",
       "      <td>Het kluchtje van fortuin 1</td>\n",
       "      <td>folksong</td>\n",
       "      <td>1</td>\n",
       "      <td>stanza</td>\n",
       "      <td>NLB76354_01.jpg|NLB76354_02.jpg|NLB76354_03.jp...</td>\n",
       "      <td>NLB076354_all.mp3</td>\n",
       "      <td>NaN</td>\n",
       "      <td>neutral</td>\n",
       "    </tr>\n",
       "    <tr>\n",
       "      <th>4</th>\n",
       "      <td>NLB076356_01</td>\n",
       "      <td>76356</td>\n",
       "      <td>1011179</td>\n",
       "      <td>47002</td>\n",
       "      <td>NaN</td>\n",
       "      <td>1933</td>\n",
       "      <td>1977-02-09</td>\n",
       "      <td>Melderslo</td>\n",
       "      <td>51.465101</td>\n",
       "      <td>6.090613</td>\n",
       "      <td>...</td>\n",
       "      <td>59465</td>\n",
       "      <td>3936_0</td>\n",
       "      <td>Ich bin der Doktor Eisenbart</td>\n",
       "      <td>folksong</td>\n",
       "      <td>1</td>\n",
       "      <td>stanza</td>\n",
       "      <td>NLB76356_01.jpg|NLB76356_02.jpg|NLB76356_03.jp...</td>\n",
       "      <td>NLB076356_all.mp3</td>\n",
       "      <td>NaN</td>\n",
       "      <td>neutral</td>\n",
       "    </tr>\n",
       "    <tr>\n",
       "      <th>5</th>\n",
       "      <td>NLB076371_01</td>\n",
       "      <td>76371</td>\n",
       "      <td>1011179</td>\n",
       "      <td>47207</td>\n",
       "      <td>NaN</td>\n",
       "      <td>1934</td>\n",
       "      <td>1977-08-12</td>\n",
       "      <td>Westerbork</td>\n",
       "      <td>52.855177</td>\n",
       "      <td>6.617972</td>\n",
       "      <td>...</td>\n",
       "      <td>24833</td>\n",
       "      <td>9766_0</td>\n",
       "      <td>Ik ging er langs maden langs weiden</td>\n",
       "      <td>folksong</td>\n",
       "      <td>1</td>\n",
       "      <td>stanza</td>\n",
       "      <td>NLB76371_01.jpg|NLB76371_02.jpg|NLB76371_03.jp...</td>\n",
       "      <td>NLB076371_all.mp3</td>\n",
       "      <td>NaN</td>\n",
       "      <td>neutral</td>\n",
       "    </tr>\n",
       "    <tr>\n",
       "      <th>6</th>\n",
       "      <td>NLB076375_01</td>\n",
       "      <td>76375</td>\n",
       "      <td>1011179</td>\n",
       "      <td>47211</td>\n",
       "      <td>NaN</td>\n",
       "      <td>1935</td>\n",
       "      <td>1977-08-12</td>\n",
       "      <td>Noordwolde</td>\n",
       "      <td>52.892792</td>\n",
       "      <td>6.141828</td>\n",
       "      <td>...</td>\n",
       "      <td>52419</td>\n",
       "      <td>9880_1</td>\n",
       "      <td>Wat brengt de liefde menig paar 1</td>\n",
       "      <td>folksong</td>\n",
       "      <td>1</td>\n",
       "      <td>stanza</td>\n",
       "      <td>NLB76375_01.jpg|NLB76375_02.jpg|NLB76375_03.jp...</td>\n",
       "      <td>NLB076375_all.mp3</td>\n",
       "      <td>NaN</td>\n",
       "      <td>neutral</td>\n",
       "    </tr>\n",
       "    <tr>\n",
       "      <th>7</th>\n",
       "      <td>NLB076380_01</td>\n",
       "      <td>76380</td>\n",
       "      <td>1011179</td>\n",
       "      <td>47216</td>\n",
       "      <td>NaN</td>\n",
       "      <td>1936</td>\n",
       "      <td>1978-01-13</td>\n",
       "      <td>Eindhoven</td>\n",
       "      <td>51.446290</td>\n",
       "      <td>5.491184</td>\n",
       "      <td>...</td>\n",
       "      <td>2076</td>\n",
       "      <td>10059_1</td>\n",
       "      <td>Van Peer en Lijn 1</td>\n",
       "      <td>folksong</td>\n",
       "      <td>1</td>\n",
       "      <td>stanza</td>\n",
       "      <td>NLB76380_01.jpg|NLB76380_02.jpg|NLB76380_03.jp...</td>\n",
       "      <td>NLB076380_all.mp3</td>\n",
       "      <td>NaN</td>\n",
       "      <td>neutral</td>\n",
       "    </tr>\n",
       "    <tr>\n",
       "      <th>8</th>\n",
       "      <td>NLB076383_01</td>\n",
       "      <td>76383</td>\n",
       "      <td>1011179</td>\n",
       "      <td>47302</td>\n",
       "      <td>NaN</td>\n",
       "      <td>1937</td>\n",
       "      <td>1978-01-13</td>\n",
       "      <td>Eindhoven</td>\n",
       "      <td>51.446290</td>\n",
       "      <td>5.491184</td>\n",
       "      <td>...</td>\n",
       "      <td>1073</td>\n",
       "      <td>9666_4</td>\n",
       "      <td>Daar waren twee koningskinderen 4</td>\n",
       "      <td>folksong</td>\n",
       "      <td>1</td>\n",
       "      <td>stanza</td>\n",
       "      <td>NLB76383_01.jpg|NLB76383_02.jpg|NLB76383_03.jp...</td>\n",
       "      <td>NLB076383_all.mp3</td>\n",
       "      <td>NaN</td>\n",
       "      <td>neutral</td>\n",
       "    </tr>\n",
       "    <tr>\n",
       "      <th>9</th>\n",
       "      <td>NLB076386_01</td>\n",
       "      <td>76386</td>\n",
       "      <td>1011179</td>\n",
       "      <td>47304</td>\n",
       "      <td>NaN</td>\n",
       "      <td>1901|1902</td>\n",
       "      <td>1978-01-13</td>\n",
       "      <td>Cuijk</td>\n",
       "      <td>51.737665</td>\n",
       "      <td>5.876443</td>\n",
       "      <td>...</td>\n",
       "      <td>6801</td>\n",
       "      <td>1507_1</td>\n",
       "      <td>Daar zou er een maagdje vroeg opstaan 1</td>\n",
       "      <td>folksong</td>\n",
       "      <td>1</td>\n",
       "      <td>stanza</td>\n",
       "      <td>NLB76386_01.jpg|NLB76386_02.jpg|NLB76386_03.jp...</td>\n",
       "      <td>NLB076386_all.mp3</td>\n",
       "      <td>NaN</td>\n",
       "      <td>neutral</td>\n",
       "    </tr>\n",
       "  </tbody>\n",
       "</table>\n",
       "<p>10 rows × 22 columns</p>\n",
       "</div>"
      ],
      "text/plain": [
       "       filename  songid  source_id serial_number page singer_id_s  \\\n",
       "0  NLB076348_01   76348    1011179         46906  NaN        1933   \n",
       "1  NLB076349_01   76349    1011179         46907  NaN        1933   \n",
       "2  NLB076351_01   76351    1011179         46909  NaN        1933   \n",
       "3  NLB076354_01   76354    1011179         46912  NaN        1933   \n",
       "4  NLB076356_01   76356    1011179         47002  NaN        1933   \n",
       "5  NLB076371_01   76371    1011179         47207  NaN        1934   \n",
       "6  NLB076375_01   76375    1011179         47211  NaN        1935   \n",
       "7  NLB076380_01   76380    1011179         47216  NaN        1936   \n",
       "8  NLB076383_01   76383    1011179         47302  NaN        1937   \n",
       "9  NLB076386_01   76386    1011179         47304  NaN   1901|1902   \n",
       "\n",
       "  date_of_recording place_of_recording   latitude  longitude    ...      \\\n",
       "0        1977-02-09          Melderslo  51.465101   6.090613    ...       \n",
       "1        1977-02-09          Melderslo  51.465101   6.090613    ...       \n",
       "2        1977-02-09          Melderslo  51.465101   6.090613    ...       \n",
       "3        1977-02-09          Melderslo  51.465101   6.090613    ...       \n",
       "4        1977-02-09          Melderslo  51.465101   6.090613    ...       \n",
       "5        1977-08-12         Westerbork  52.855177   6.617972    ...       \n",
       "6        1977-08-12         Noordwolde  52.892792   6.141828    ...       \n",
       "7        1978-01-13          Eindhoven  51.446290   5.491184    ...       \n",
       "8        1978-01-13          Eindhoven  51.446290   5.491184    ...       \n",
       "9        1978-01-13              Cuijk  51.737665   5.876443    ...       \n",
       "\n",
       "  textfamily_id tunefamily_id                               tunefamily  \\\n",
       "0         22467           NaN                                      NaN   \n",
       "1         20461           NaN                                      NaN   \n",
       "2         21299        3709_1              Het was op een avond laat 1   \n",
       "3         27040        9953_1               Het kluchtje van fortuin 1   \n",
       "4         59465        3936_0             Ich bin der Doktor Eisenbart   \n",
       "5         24833        9766_0      Ik ging er langs maden langs weiden   \n",
       "6         52419        9880_1        Wat brengt de liefde menig paar 1   \n",
       "7          2076       10059_1                       Van Peer en Lijn 1   \n",
       "8          1073        9666_4        Daar waren twee koningskinderen 4   \n",
       "9          6801        1507_1  Daar zou er een maagdje vroeg opstaan 1   \n",
       "\n",
       "       type voice_strophe_number voice_strophe  \\\n",
       "0  folksong                    1        stanza   \n",
       "1  folksong                    1        stanza   \n",
       "2  folksong                    1        stanza   \n",
       "3  folksong                    1        stanza   \n",
       "4  folksong                    1        stanza   \n",
       "5  folksong                    1        stanza   \n",
       "6  folksong                    1        stanza   \n",
       "7  folksong                    1        stanza   \n",
       "8  folksong                    1        stanza   \n",
       "9  folksong                    1        stanza   \n",
       "\n",
       "                                    image_filename_s     audio_filename  \\\n",
       "0  NLB76348_01.jpg|NLB76348_02.jpg|NLB76348_03.jp...  NLB076348_all.mp3   \n",
       "1  NLB76349_01.jpg|NLB76349_02.jpg|NLB76349_03.jp...  NLB076349_all.mp3   \n",
       "2  NLB76351_01.jpg|NLB76351_02.jpg|NLB76351_03.jp...  NLB076351_all.mp3   \n",
       "3  NLB76354_01.jpg|NLB76354_02.jpg|NLB76354_03.jp...  NLB076354_all.mp3   \n",
       "4  NLB76356_01.jpg|NLB76356_02.jpg|NLB76356_03.jp...  NLB076356_all.mp3   \n",
       "5  NLB76371_01.jpg|NLB76371_02.jpg|NLB76371_03.jp...  NLB076371_all.mp3   \n",
       "6  NLB76375_01.jpg|NLB76375_02.jpg|NLB76375_03.jp...  NLB076375_all.mp3   \n",
       "7  NLB76380_01.jpg|NLB76380_02.jpg|NLB76380_03.jp...  NLB076380_all.mp3   \n",
       "8  NLB76383_01.jpg|NLB76383_02.jpg|NLB76383_03.jp...  NLB076383_all.mp3   \n",
       "9  NLB76386_01.jpg|NLB76386_02.jpg|NLB76386_03.jp...  NLB076386_all.mp3   \n",
       "\n",
       "  variation confidence  \n",
       "0       NaN        NaN  \n",
       "1       NaN        NaN  \n",
       "2       NaN    neutral  \n",
       "3       NaN    neutral  \n",
       "4       NaN    neutral  \n",
       "5       NaN    neutral  \n",
       "6       NaN    neutral  \n",
       "7       NaN    neutral  \n",
       "8       NaN    neutral  \n",
       "9       NaN    neutral  \n",
       "\n",
       "[10 rows x 22 columns]"
      ]
     },
     "execution_count": 56,
     "metadata": {},
     "output_type": "execute_result"
    }
   ],
   "source": [
    "df.head(n=10)"
   ]
  },
  {
   "cell_type": "markdown",
   "metadata": {},
   "source": [
    "The `pandas.read_csv` method takes many optional arguments that allow you to parse all kinds of CSV files (e.g. with different encodings, missing values, different separators etc.). One of the columns in our dataframe contains the date of the recordings. By default, Pandas will parse those columns as string objects. We can specify which columns should be parsed as dates using the following statement:"
   ]
  },
  {
   "cell_type": "code",
   "execution_count": 57,
   "metadata": {
    "collapsed": true
   },
   "outputs": [],
   "source": [
    "df = pd.read_csv(\"data/MTC-FS.csv\", parse_dates=['date_of_recording'])"
   ]
  },
  {
   "cell_type": "markdown",
   "metadata": {},
   "source": [
    "Remember, to quickly access the documentation of a method or function, you can use a question mark, as in:"
   ]
  },
  {
   "cell_type": "code",
   "execution_count": 58,
   "metadata": {
    "collapsed": true
   },
   "outputs": [
    {
     "name": "stdout",
     "output_type": "stream",
     "text": [
      "Object `pandas.read_csv` not found.\n"
     ]
    }
   ],
   "source": [
    "pandas.read_csv?"
   ]
  },
  {
   "cell_type": "markdown",
   "metadata": {},
   "source": [
    "Since we will be using many functions such as `.read_csv` it would be convenient not having to type `pandas` all the time. Python allows you to import libraries using an alias, as in:"
   ]
  },
  {
   "cell_type": "code",
   "execution_count": 59,
   "metadata": {
    "collapsed": false
   },
   "outputs": [],
   "source": [
    "import pandas as pd"
   ]
  },
  {
   "cell_type": "markdown",
   "metadata": {},
   "source": [
    "Now we can use `pd.read_csv` instead of `pandas.read_csv`:"
   ]
  },
  {
   "cell_type": "code",
   "execution_count": 60,
   "metadata": {
    "collapsed": false
   },
   "outputs": [],
   "source": [
    "df = pd.read_csv(\"data/MTC-FS.csv\", parse_dates=['date_of_recording'])"
   ]
  },
  {
   "cell_type": "markdown",
   "metadata": {},
   "source": [
    "## Accessing Rows & Columns"
   ]
  },
  {
   "cell_type": "markdown",
   "metadata": {},
   "source": [
    "Pandas DataFrames work much like regular Python dictionaries. You can retrieve the contents of a column as follows:"
   ]
  },
  {
   "cell_type": "code",
   "execution_count": 61,
   "metadata": {
    "collapsed": true
   },
   "outputs": [
    {
     "data": {
      "text/plain": [
       "pandas.core.series.Series"
      ]
     },
     "execution_count": 61,
     "metadata": {},
     "output_type": "execute_result"
    }
   ],
   "source": [
    "type(df['tunefamily']) # pandas.core.series.Series"
   ]
  },
  {
   "cell_type": "markdown",
   "metadata": {},
   "source": [
    "If the column name does not contain any spaces, Pandas will turn the column name into an attribute of the DataFrame which can be accessed as follows:"
   ]
  },
  {
   "cell_type": "code",
   "execution_count": 62,
   "metadata": {
    "collapsed": true
   },
   "outputs": [
    {
     "data": {
      "text/plain": [
       "pandas.core.series.Series"
      ]
     },
     "execution_count": 62,
     "metadata": {},
     "output_type": "execute_result"
    }
   ],
   "source": [
    "type(df.tunefamily) # same"
   ]
  },
  {
   "cell_type": "markdown",
   "metadata": {},
   "source": [
    "To access a particular row of a DataFrame, Pandas specifies to use the method `.ix`, as in:"
   ]
  },
  {
   "cell_type": "code",
   "execution_count": 63,
   "metadata": {
    "collapsed": true
   },
   "outputs": [
    {
     "data": {
      "text/plain": [
       "filename                                                     NLB076348_01\n",
       "songid                                                              76348\n",
       "source_id                                                         1011179\n",
       "serial_number                                                       46906\n",
       "page                                                                  NaN\n",
       "singer_id_s                                                          1933\n",
       "date_of_recording                                     1977-02-09 00:00:00\n",
       "place_of_recording                                              Melderslo\n",
       "latitude                                                          51.4651\n",
       "longitude                                                         6.09061\n",
       "title                                                                 NaN\n",
       "firstline                      Hoe menig kind wordt tot het kwaad geboren\n",
       "textfamily_id                                                       22467\n",
       "tunefamily_id                                                         NaN\n",
       "tunefamily                                                            NaN\n",
       "type                                                             folksong\n",
       "voice_strophe_number                                                    1\n",
       "voice_strophe                                                      stanza\n",
       "image_filename_s        NLB76348_01.jpg|NLB76348_02.jpg|NLB76348_03.jp...\n",
       "audio_filename                                          NLB076348_all.mp3\n",
       "variation                                                             NaN\n",
       "confidence                                                            NaN\n",
       "Name: 0, dtype: object"
      ]
     },
     "execution_count": 63,
     "metadata": {},
     "output_type": "execute_result"
    }
   ],
   "source": [
    "df.ix[0]"
   ]
  },
  {
   "cell_type": "markdown",
   "metadata": {},
   "source": [
    "---"
   ]
  },
  {
   "cell_type": "markdown",
   "metadata": {},
   "source": [
    "#### Q1"
   ]
  },
  {
   "cell_type": "markdown",
   "metadata": {},
   "source": [
    "Write some code that shows the contents of another column. Tip: you can use `df.columns` to see which column names are available. "
   ]
  },
  {
   "cell_type": "code",
   "execution_count": 64,
   "metadata": {
    "collapsed": true
   },
   "outputs": [
    {
     "data": {
      "text/plain": [
       "0        Melderslo\n",
       "1        Melderslo\n",
       "2        Melderslo\n",
       "3        Melderslo\n",
       "4        Melderslo\n",
       "5       Westerbork\n",
       "6       Noordwolde\n",
       "7        Eindhoven\n",
       "8        Eindhoven\n",
       "9            Cuijk\n",
       "10           Cuijk\n",
       "11      Windesheim\n",
       "12          Twello\n",
       "13          Malden\n",
       "14             NaN\n",
       "15             NaN\n",
       "16             NaN\n",
       "17             NaN\n",
       "18             NaN\n",
       "19             NaN\n",
       "20             NaN\n",
       "21             NaN\n",
       "22             NaN\n",
       "23             NaN\n",
       "24             NaN\n",
       "25             NaN\n",
       "26             NaN\n",
       "27             NaN\n",
       "28             NaN\n",
       "29             NaN\n",
       "           ...    \n",
       "4090           NaN\n",
       "4091           NaN\n",
       "4092           NaN\n",
       "4093           NaN\n",
       "4094           NaN\n",
       "4095           NaN\n",
       "4096           NaN\n",
       "4097           NaN\n",
       "4098           NaN\n",
       "4099           NaN\n",
       "4100           NaN\n",
       "4101           NaN\n",
       "4102           NaN\n",
       "4103           NaN\n",
       "4104           NaN\n",
       "4105           NaN\n",
       "4106           NaN\n",
       "4107           NaN\n",
       "4108           NaN\n",
       "4109           NaN\n",
       "4110           NaN\n",
       "4111           NaN\n",
       "4112           NaN\n",
       "4113           NaN\n",
       "4114           NaN\n",
       "4115           NaN\n",
       "4116           NaN\n",
       "4117           NaN\n",
       "4118           NaN\n",
       "4119           NaN\n",
       "Name: place_of_recording, dtype: object"
      ]
     },
     "execution_count": 64,
     "metadata": {},
     "output_type": "execute_result"
    }
   ],
   "source": [
    "# insert your code here\n",
    "df.columns\n",
    "#df['place_of_recording']\n",
    "df.place_of_recording\n",
    "#print('####')\n",
    "#df.ix[1] # row"
   ]
  },
  {
   "cell_type": "markdown",
   "metadata": {},
   "source": [
    "We have seen the method `.head`. What would be the equivalent method to show the *n* last rows of a DataFrame? Hint: think of a dog. Try printing the *n=20* last rows."
   ]
  },
  {
   "cell_type": "code",
   "execution_count": 65,
   "metadata": {
    "collapsed": true
   },
   "outputs": [
    {
     "data": {
      "text/html": [
       "<div>\n",
       "<table border=\"1\" class=\"dataframe\">\n",
       "  <thead>\n",
       "    <tr style=\"text-align: right;\">\n",
       "      <th></th>\n",
       "      <th>filename</th>\n",
       "      <th>songid</th>\n",
       "      <th>source_id</th>\n",
       "      <th>serial_number</th>\n",
       "      <th>page</th>\n",
       "      <th>singer_id_s</th>\n",
       "      <th>date_of_recording</th>\n",
       "      <th>place_of_recording</th>\n",
       "      <th>latitude</th>\n",
       "      <th>longitude</th>\n",
       "      <th>...</th>\n",
       "      <th>textfamily_id</th>\n",
       "      <th>tunefamily_id</th>\n",
       "      <th>tunefamily</th>\n",
       "      <th>type</th>\n",
       "      <th>voice_strophe_number</th>\n",
       "      <th>voice_strophe</th>\n",
       "      <th>image_filename_s</th>\n",
       "      <th>audio_filename</th>\n",
       "      <th>variation</th>\n",
       "      <th>confidence</th>\n",
       "    </tr>\n",
       "  </thead>\n",
       "  <tbody>\n",
       "    <tr>\n",
       "      <th>4115</th>\n",
       "      <td>NLB140828_01</td>\n",
       "      <td>140828</td>\n",
       "      <td>1004301</td>\n",
       "      <td>005</td>\n",
       "      <td>p49</td>\n",
       "      <td>NaN</td>\n",
       "      <td>NaT</td>\n",
       "      <td>NaN</td>\n",
       "      <td>NaN</td>\n",
       "      <td>NaN</td>\n",
       "      <td>...</td>\n",
       "      <td>6801</td>\n",
       "      <td>9743_1</td>\n",
       "      <td>Een lindeboom stond in het dal 1</td>\n",
       "      <td>folksong</td>\n",
       "      <td>1</td>\n",
       "      <td>stanza</td>\n",
       "      <td>NaN</td>\n",
       "      <td>NaN</td>\n",
       "      <td>NaN</td>\n",
       "      <td>neutral</td>\n",
       "    </tr>\n",
       "    <tr>\n",
       "      <th>4116</th>\n",
       "      <td>NLB135273_01</td>\n",
       "      <td>135273</td>\n",
       "      <td>1001928</td>\n",
       "      <td>010</td>\n",
       "      <td>p39</td>\n",
       "      <td>NaN</td>\n",
       "      <td>NaT</td>\n",
       "      <td>NaN</td>\n",
       "      <td>NaN</td>\n",
       "      <td>NaN</td>\n",
       "      <td>...</td>\n",
       "      <td>33529</td>\n",
       "      <td>5301_1</td>\n",
       "      <td>Lieve schipper vaar me over 1</td>\n",
       "      <td>folksong</td>\n",
       "      <td>1</td>\n",
       "      <td>stanza</td>\n",
       "      <td>NaN</td>\n",
       "      <td>NaN</td>\n",
       "      <td>NaN</td>\n",
       "      <td>neutral</td>\n",
       "    </tr>\n",
       "    <tr>\n",
       "      <th>4117</th>\n",
       "      <td>NLB122232_01</td>\n",
       "      <td>122232</td>\n",
       "      <td>1004300</td>\n",
       "      <td>024</td>\n",
       "      <td>p20</td>\n",
       "      <td>NaN</td>\n",
       "      <td>NaT</td>\n",
       "      <td>NaN</td>\n",
       "      <td>NaN</td>\n",
       "      <td>NaN</td>\n",
       "      <td>...</td>\n",
       "      <td>114</td>\n",
       "      <td>48_2</td>\n",
       "      <td>Aan de oever van een snelle vliet 2</td>\n",
       "      <td>folksong</td>\n",
       "      <td>1</td>\n",
       "      <td>stanza</td>\n",
       "      <td>NaN</td>\n",
       "      <td>NaN</td>\n",
       "      <td>NaN</td>\n",
       "      <td>neutral</td>\n",
       "    </tr>\n",
       "    <tr>\n",
       "      <th>4118</th>\n",
       "      <td>NLB125421_01</td>\n",
       "      <td>125421</td>\n",
       "      <td>1001115</td>\n",
       "      <td>015</td>\n",
       "      <td>p28</td>\n",
       "      <td>NaN</td>\n",
       "      <td>NaT</td>\n",
       "      <td>NaN</td>\n",
       "      <td>NaN</td>\n",
       "      <td>NaN</td>\n",
       "      <td>...</td>\n",
       "      <td>5908</td>\n",
       "      <td>2774_0</td>\n",
       "      <td>Femmes voulez-vous éprouver</td>\n",
       "      <td>folksong</td>\n",
       "      <td>1</td>\n",
       "      <td>stanza</td>\n",
       "      <td>NaN</td>\n",
       "      <td>NaN</td>\n",
       "      <td>NaN</td>\n",
       "      <td>neutral</td>\n",
       "    </tr>\n",
       "    <tr>\n",
       "      <th>4119</th>\n",
       "      <td>NLB125427_01</td>\n",
       "      <td>125427</td>\n",
       "      <td>1001115</td>\n",
       "      <td>017</td>\n",
       "      <td>p32</td>\n",
       "      <td>NaN</td>\n",
       "      <td>NaT</td>\n",
       "      <td>NaN</td>\n",
       "      <td>NaN</td>\n",
       "      <td>NaN</td>\n",
       "      <td>...</td>\n",
       "      <td>33529</td>\n",
       "      <td>5301_1</td>\n",
       "      <td>Lieve schipper vaar me over 1</td>\n",
       "      <td>folksong</td>\n",
       "      <td>1</td>\n",
       "      <td>stanza</td>\n",
       "      <td>NaN</td>\n",
       "      <td>NaN</td>\n",
       "      <td>NaN</td>\n",
       "      <td>neutral</td>\n",
       "    </tr>\n",
       "  </tbody>\n",
       "</table>\n",
       "<p>5 rows × 22 columns</p>\n",
       "</div>"
      ],
      "text/plain": [
       "          filename  songid  source_id serial_number page singer_id_s  \\\n",
       "4115  NLB140828_01  140828    1004301           005  p49         NaN   \n",
       "4116  NLB135273_01  135273    1001928           010  p39         NaN   \n",
       "4117  NLB122232_01  122232    1004300           024  p20         NaN   \n",
       "4118  NLB125421_01  125421    1001115           015  p28         NaN   \n",
       "4119  NLB125427_01  125427    1001115           017  p32         NaN   \n",
       "\n",
       "     date_of_recording place_of_recording  latitude  longitude    ...      \\\n",
       "4115               NaT                NaN       NaN        NaN    ...       \n",
       "4116               NaT                NaN       NaN        NaN    ...       \n",
       "4117               NaT                NaN       NaN        NaN    ...       \n",
       "4118               NaT                NaN       NaN        NaN    ...       \n",
       "4119               NaT                NaN       NaN        NaN    ...       \n",
       "\n",
       "     textfamily_id tunefamily_id                           tunefamily  \\\n",
       "4115          6801        9743_1     Een lindeboom stond in het dal 1   \n",
       "4116         33529        5301_1        Lieve schipper vaar me over 1   \n",
       "4117           114          48_2  Aan de oever van een snelle vliet 2   \n",
       "4118          5908        2774_0          Femmes voulez-vous éprouver   \n",
       "4119         33529        5301_1        Lieve schipper vaar me over 1   \n",
       "\n",
       "          type voice_strophe_number voice_strophe  image_filename_s  \\\n",
       "4115  folksong                    1        stanza               NaN   \n",
       "4116  folksong                    1        stanza               NaN   \n",
       "4117  folksong                    1        stanza               NaN   \n",
       "4118  folksong                    1        stanza               NaN   \n",
       "4119  folksong                    1        stanza               NaN   \n",
       "\n",
       "     audio_filename variation confidence  \n",
       "4115            NaN       NaN    neutral  \n",
       "4116            NaN       NaN    neutral  \n",
       "4117            NaN       NaN    neutral  \n",
       "4118            NaN       NaN    neutral  \n",
       "4119            NaN       NaN    neutral  \n",
       "\n",
       "[5 rows x 22 columns]"
      ]
     },
     "execution_count": 65,
     "metadata": {},
     "output_type": "execute_result"
    }
   ],
   "source": [
    "# insert your code here\n",
    "df.tail(n=5)"
   ]
  },
  {
   "cell_type": "markdown",
   "metadata": {},
   "source": [
    "---"
   ]
  },
  {
   "cell_type": "markdown",
   "metadata": {},
   "source": [
    "## Selecting Multiple Columns"
   ]
  },
  {
   "cell_type": "markdown",
   "metadata": {},
   "source": [
    "Pandas allows you to conveniently select multiple columns in a DataFrame. The syntax is the same as with a single column, but here we provide a list of the columns we want to retrieve:"
   ]
  },
  {
   "cell_type": "code",
   "execution_count": 66,
   "metadata": {
    "collapsed": true
   },
   "outputs": [
    {
     "data": {
      "text/html": [
       "<div>\n",
       "<table border=\"1\" class=\"dataframe\">\n",
       "  <thead>\n",
       "    <tr style=\"text-align: right;\">\n",
       "      <th></th>\n",
       "      <th>tunefamily</th>\n",
       "      <th>title</th>\n",
       "    </tr>\n",
       "  </thead>\n",
       "  <tbody>\n",
       "    <tr>\n",
       "      <th>0</th>\n",
       "      <td>NaN</td>\n",
       "      <td>NaN</td>\n",
       "    </tr>\n",
       "    <tr>\n",
       "      <th>1</th>\n",
       "      <td>NaN</td>\n",
       "      <td>NaN</td>\n",
       "    </tr>\n",
       "    <tr>\n",
       "      <th>2</th>\n",
       "      <td>Het was op een avond laat 1</td>\n",
       "      <td>NaN</td>\n",
       "    </tr>\n",
       "    <tr>\n",
       "      <th>3</th>\n",
       "      <td>Het kluchtje van fortuin 1</td>\n",
       "      <td>NaN</td>\n",
       "    </tr>\n",
       "    <tr>\n",
       "      <th>4</th>\n",
       "      <td>Ich bin der Doktor Eisenbart</td>\n",
       "      <td>NaN</td>\n",
       "    </tr>\n",
       "    <tr>\n",
       "      <th>5</th>\n",
       "      <td>Ik ging er langs maden langs weiden</td>\n",
       "      <td>NaN</td>\n",
       "    </tr>\n",
       "    <tr>\n",
       "      <th>6</th>\n",
       "      <td>Wat brengt de liefde menig paar 1</td>\n",
       "      <td>NaN</td>\n",
       "    </tr>\n",
       "    <tr>\n",
       "      <th>7</th>\n",
       "      <td>Van Peer en Lijn 1</td>\n",
       "      <td>NaN</td>\n",
       "    </tr>\n",
       "    <tr>\n",
       "      <th>8</th>\n",
       "      <td>Daar waren twee koningskinderen 4</td>\n",
       "      <td>NaN</td>\n",
       "    </tr>\n",
       "    <tr>\n",
       "      <th>9</th>\n",
       "      <td>Daar zou er een maagdje vroeg opstaan 1</td>\n",
       "      <td>NaN</td>\n",
       "    </tr>\n",
       "    <tr>\n",
       "      <th>10</th>\n",
       "      <td>Daar waren twee koningskinderen 4</td>\n",
       "      <td>NaN</td>\n",
       "    </tr>\n",
       "    <tr>\n",
       "      <th>11</th>\n",
       "      <td>Het is van een rijk en edel man zeer 1</td>\n",
       "      <td>NaN</td>\n",
       "    </tr>\n",
       "    <tr>\n",
       "      <th>12</th>\n",
       "      <td>Moeder ik kom u een woordje vragen 1</td>\n",
       "      <td>NaN</td>\n",
       "    </tr>\n",
       "    <tr>\n",
       "      <th>13</th>\n",
       "      <td>Jan de Mulder 5</td>\n",
       "      <td>NaN</td>\n",
       "    </tr>\n",
       "    <tr>\n",
       "      <th>14</th>\n",
       "      <td>Jan van het land die had een oud paard</td>\n",
       "      <td>JAN VAN ‘T LAAND, DEE HAR ‘N OALD PEERD</td>\n",
       "    </tr>\n",
       "    <tr>\n",
       "      <th>15</th>\n",
       "      <td>NaN</td>\n",
       "      <td>NaN</td>\n",
       "    </tr>\n",
       "    <tr>\n",
       "      <th>16</th>\n",
       "      <td>Mijn vader zei laatst tegen mij</td>\n",
       "      <td>MIEN VARE Zèè LES TEGGEN MI’J</td>\n",
       "    </tr>\n",
       "    <tr>\n",
       "      <th>17</th>\n",
       "      <td>Mijn vader zei laatst tegen mij</td>\n",
       "      <td>GOOI’N OAVEND, LEU</td>\n",
       "    </tr>\n",
       "    <tr>\n",
       "      <th>18</th>\n",
       "      <td>NaN</td>\n",
       "      <td>DOAR ACHTER IN HET VENSTERLAIN</td>\n",
       "    </tr>\n",
       "    <tr>\n",
       "      <th>19</th>\n",
       "      <td>Toen ik voor het eerst bij die molen kwam 1</td>\n",
       "      <td>EN TOEN IK VOOR ‘T EERST OP DIE MOLEN KWAM</td>\n",
       "    </tr>\n",
       "    <tr>\n",
       "      <th>20</th>\n",
       "      <td>Er reed er eens een ruiter 1</td>\n",
       "      <td>DE RUITER</td>\n",
       "    </tr>\n",
       "    <tr>\n",
       "      <th>21</th>\n",
       "      <td>Al in die stad van Wenen 2</td>\n",
       "      <td>AL IN DIE STAD VAN LEUVEN</td>\n",
       "    </tr>\n",
       "    <tr>\n",
       "      <th>22</th>\n",
       "      <td>NaN</td>\n",
       "      <td>IK BEN ER DE GROENLANDSE STRAATJES</td>\n",
       "    </tr>\n",
       "    <tr>\n",
       "      <th>23</th>\n",
       "      <td>Heer Halewijn 4</td>\n",
       "      <td>DAAR WAS EEN SCHOON JUFFER FIJN</td>\n",
       "    </tr>\n",
       "    <tr>\n",
       "      <th>24</th>\n",
       "      <td>NaN</td>\n",
       "      <td>DE TWEE KONINGSKINDEREN</td>\n",
       "    </tr>\n",
       "    <tr>\n",
       "      <th>25</th>\n",
       "      <td>Ik stond op hoge bergen 1</td>\n",
       "      <td>TOEN IK DER OP NEDERLANDS BERGEN STOND</td>\n",
       "    </tr>\n",
       "    <tr>\n",
       "      <th>26</th>\n",
       "      <td>Ik stond op hoge bergen 1</td>\n",
       "      <td>TOEN IK DER OP NEDERLANDS BERGEN STOND</td>\n",
       "    </tr>\n",
       "    <tr>\n",
       "      <th>27</th>\n",
       "      <td>Een jonge speelman 1</td>\n",
       "      <td>EEN JONGE SPEELMAN GING MET RASSE SCHREDEN</td>\n",
       "    </tr>\n",
       "    <tr>\n",
       "      <th>28</th>\n",
       "      <td>Ich hab ein kleines Hüttchen nur</td>\n",
       "      <td>EEN DENNEBOOM STOND IN HET DAL</td>\n",
       "    </tr>\n",
       "    <tr>\n",
       "      <th>29</th>\n",
       "      <td>NaN</td>\n",
       "      <td>AL IN DEN MORGENSTOND</td>\n",
       "    </tr>\n",
       "    <tr>\n",
       "      <th>...</th>\n",
       "      <td>...</td>\n",
       "      <td>...</td>\n",
       "    </tr>\n",
       "    <tr>\n",
       "      <th>4090</th>\n",
       "      <td>Benedicamus Domino alleluja</td>\n",
       "      <td>CCXXV. LOOFT GOD DEN HEER</td>\n",
       "    </tr>\n",
       "    <tr>\n",
       "      <th>4091</th>\n",
       "      <td>Het voer een knaapje over Rijn</td>\n",
       "      <td>CCXXVI. GOD IS ONZE TOEVLUGT IN DEN NOOD</td>\n",
       "    </tr>\n",
       "    <tr>\n",
       "      <th>4092</th>\n",
       "      <td>De nachtegaal die zong een lied</td>\n",
       "      <td>CCXXVII. ZALIGHEID DER GODVREZENDEN</td>\n",
       "    </tr>\n",
       "    <tr>\n",
       "      <th>4093</th>\n",
       "      <td>Rijke God wie zal ik klagen</td>\n",
       "      <td>CCXXVIII. PSOUTERLIED</td>\n",
       "    </tr>\n",
       "    <tr>\n",
       "      <th>4094</th>\n",
       "      <td>Cecilia</td>\n",
       "      <td>CCXXXII. CECILIA</td>\n",
       "    </tr>\n",
       "    <tr>\n",
       "      <th>4095</th>\n",
       "      <td>Jan broeder vrijt een meisje zoet</td>\n",
       "      <td>CCXXXIII. BROEDER JAN</td>\n",
       "    </tr>\n",
       "    <tr>\n",
       "      <th>4096</th>\n",
       "      <td>Meiske jong mijn maagdeke teer</td>\n",
       "      <td>CCXXXIV. HET LODDERIG MEISJE</td>\n",
       "    </tr>\n",
       "    <tr>\n",
       "      <th>4097</th>\n",
       "      <td>De molenarin 3</td>\n",
       "      <td>CCXXXVI. HET MOLENARINNEKEN</td>\n",
       "    </tr>\n",
       "    <tr>\n",
       "      <th>4098</th>\n",
       "      <td>Ik heb de wereld zeer bemind</td>\n",
       "      <td>CCXXXVII. HET BEDRUKTE WIJF</td>\n",
       "    </tr>\n",
       "    <tr>\n",
       "      <th>4099</th>\n",
       "      <td>De theevrouwtjes</td>\n",
       "      <td>CCXLI. DE THEEVROUWKENS</td>\n",
       "    </tr>\n",
       "    <tr>\n",
       "      <th>4100</th>\n",
       "      <td>Lanterlu</td>\n",
       "      <td>CCXLII. BOERENVREUGDE</td>\n",
       "    </tr>\n",
       "    <tr>\n",
       "      <th>4101</th>\n",
       "      <td>Al hebben de prinsen haar wens</td>\n",
       "      <td>CCXLV. HERDERSLIED</td>\n",
       "    </tr>\n",
       "    <tr>\n",
       "      <th>4102</th>\n",
       "      <td>Wat is de wereld toch</td>\n",
       "      <td>CCXLVI. DE WERELD</td>\n",
       "    </tr>\n",
       "    <tr>\n",
       "      <th>4103</th>\n",
       "      <td>De boertjes maken vreugde</td>\n",
       "      <td>CCXLVII. ‘S WERELDS HANDEL</td>\n",
       "    </tr>\n",
       "    <tr>\n",
       "      <th>4104</th>\n",
       "      <td>Hebben ze dat gedaan doen ze</td>\n",
       "      <td>CCL. DE GOEDE WEEK</td>\n",
       "    </tr>\n",
       "    <tr>\n",
       "      <th>4105</th>\n",
       "      <td>De boom stond in de aarde 2</td>\n",
       "      <td>CCLI. MEILIED</td>\n",
       "    </tr>\n",
       "    <tr>\n",
       "      <th>4106</th>\n",
       "      <td>A a a valete studia</td>\n",
       "      <td>CCLIII. VACANTIE-LIED</td>\n",
       "    </tr>\n",
       "    <tr>\n",
       "      <th>4107</th>\n",
       "      <td>NaN</td>\n",
       "      <td>CCLIV. KINDERLIED</td>\n",
       "    </tr>\n",
       "    <tr>\n",
       "      <th>4108</th>\n",
       "      <td>En als ik wil gaan huishouden 1</td>\n",
       "      <td>CCLV. HET HINNEKEN</td>\n",
       "    </tr>\n",
       "    <tr>\n",
       "      <th>4109</th>\n",
       "      <td>Het is vandaag Sint Annadag</td>\n",
       "      <td>CCLVI. STE.-ANNA-LIEDEKEN</td>\n",
       "    </tr>\n",
       "    <tr>\n",
       "      <th>4110</th>\n",
       "      <td>Sint Annadag is door</td>\n",
       "      <td>CCLVII. SINTE ANNA-LIED</td>\n",
       "    </tr>\n",
       "    <tr>\n",
       "      <th>4111</th>\n",
       "      <td>De koekoek in de mei</td>\n",
       "      <td>CCLVIII. DE KOEKOEK EN DE NACHTEGAEL</td>\n",
       "    </tr>\n",
       "    <tr>\n",
       "      <th>4112</th>\n",
       "      <td>Daar kwam een boer van Zwitserland</td>\n",
       "      <td>‘NEN BOER UIT ZWITSERLAND</td>\n",
       "    </tr>\n",
       "    <tr>\n",
       "      <th>4113</th>\n",
       "      <td>Daar was een kwezeltje</td>\n",
       "      <td>DAAR WAS EEN KWEZELTJE</td>\n",
       "    </tr>\n",
       "    <tr>\n",
       "      <th>4114</th>\n",
       "      <td>Naar oostland wil ik varen 2</td>\n",
       "      <td>NAAR OOSTLAND WIL IK VAREN</td>\n",
       "    </tr>\n",
       "    <tr>\n",
       "      <th>4115</th>\n",
       "      <td>Een lindeboom stond in het dal 1</td>\n",
       "      <td>TROUWE LIEFDE</td>\n",
       "    </tr>\n",
       "    <tr>\n",
       "      <th>4116</th>\n",
       "      <td>Lieve schipper vaar me over 1</td>\n",
       "      <td>DE LIEFDE VAN EEN SCHIPPER</td>\n",
       "    </tr>\n",
       "    <tr>\n",
       "      <th>4117</th>\n",
       "      <td>Aan de oever van een snelle vliet 2</td>\n",
       "      <td>1. Lofzang</td>\n",
       "    </tr>\n",
       "    <tr>\n",
       "      <th>4118</th>\n",
       "      <td>Femmes voulez-vous éprouver</td>\n",
       "      <td>De fiere schoone</td>\n",
       "    </tr>\n",
       "    <tr>\n",
       "      <th>4119</th>\n",
       "      <td>Lieve schipper vaar me over 1</td>\n",
       "      <td>De verliefde schipper</td>\n",
       "    </tr>\n",
       "  </tbody>\n",
       "</table>\n",
       "<p>4120 rows × 2 columns</p>\n",
       "</div>"
      ],
      "text/plain": [
       "                                       tunefamily  \\\n",
       "0                                             NaN   \n",
       "1                                             NaN   \n",
       "2                     Het was op een avond laat 1   \n",
       "3                      Het kluchtje van fortuin 1   \n",
       "4                    Ich bin der Doktor Eisenbart   \n",
       "5             Ik ging er langs maden langs weiden   \n",
       "6               Wat brengt de liefde menig paar 1   \n",
       "7                              Van Peer en Lijn 1   \n",
       "8               Daar waren twee koningskinderen 4   \n",
       "9         Daar zou er een maagdje vroeg opstaan 1   \n",
       "10              Daar waren twee koningskinderen 4   \n",
       "11         Het is van een rijk en edel man zeer 1   \n",
       "12           Moeder ik kom u een woordje vragen 1   \n",
       "13                                Jan de Mulder 5   \n",
       "14         Jan van het land die had een oud paard   \n",
       "15                                            NaN   \n",
       "16                Mijn vader zei laatst tegen mij   \n",
       "17                Mijn vader zei laatst tegen mij   \n",
       "18                                            NaN   \n",
       "19    Toen ik voor het eerst bij die molen kwam 1   \n",
       "20                   Er reed er eens een ruiter 1   \n",
       "21                     Al in die stad van Wenen 2   \n",
       "22                                            NaN   \n",
       "23                                Heer Halewijn 4   \n",
       "24                                            NaN   \n",
       "25                      Ik stond op hoge bergen 1   \n",
       "26                      Ik stond op hoge bergen 1   \n",
       "27                           Een jonge speelman 1   \n",
       "28               Ich hab ein kleines Hüttchen nur   \n",
       "29                                            NaN   \n",
       "...                                           ...   \n",
       "4090                  Benedicamus Domino alleluja   \n",
       "4091               Het voer een knaapje over Rijn   \n",
       "4092              De nachtegaal die zong een lied   \n",
       "4093                  Rijke God wie zal ik klagen   \n",
       "4094                                      Cecilia   \n",
       "4095            Jan broeder vrijt een meisje zoet   \n",
       "4096               Meiske jong mijn maagdeke teer   \n",
       "4097                               De molenarin 3   \n",
       "4098                 Ik heb de wereld zeer bemind   \n",
       "4099                             De theevrouwtjes   \n",
       "4100                                     Lanterlu   \n",
       "4101               Al hebben de prinsen haar wens   \n",
       "4102                        Wat is de wereld toch   \n",
       "4103                    De boertjes maken vreugde   \n",
       "4104                 Hebben ze dat gedaan doen ze   \n",
       "4105                  De boom stond in de aarde 2   \n",
       "4106                          A a a valete studia   \n",
       "4107                                          NaN   \n",
       "4108              En als ik wil gaan huishouden 1   \n",
       "4109                  Het is vandaag Sint Annadag   \n",
       "4110                         Sint Annadag is door   \n",
       "4111                         De koekoek in de mei   \n",
       "4112           Daar kwam een boer van Zwitserland   \n",
       "4113                       Daar was een kwezeltje   \n",
       "4114                 Naar oostland wil ik varen 2   \n",
       "4115             Een lindeboom stond in het dal 1   \n",
       "4116                Lieve schipper vaar me over 1   \n",
       "4117          Aan de oever van een snelle vliet 2   \n",
       "4118                  Femmes voulez-vous éprouver   \n",
       "4119                Lieve schipper vaar me over 1   \n",
       "\n",
       "                                           title  \n",
       "0                                            NaN  \n",
       "1                                            NaN  \n",
       "2                                            NaN  \n",
       "3                                            NaN  \n",
       "4                                            NaN  \n",
       "5                                            NaN  \n",
       "6                                            NaN  \n",
       "7                                            NaN  \n",
       "8                                            NaN  \n",
       "9                                            NaN  \n",
       "10                                           NaN  \n",
       "11                                           NaN  \n",
       "12                                           NaN  \n",
       "13                                           NaN  \n",
       "14       JAN VAN ‘T LAAND, DEE HAR ‘N OALD PEERD  \n",
       "15                                           NaN  \n",
       "16                 MIEN VARE Zèè LES TEGGEN MI’J  \n",
       "17                            GOOI’N OAVEND, LEU  \n",
       "18                DOAR ACHTER IN HET VENSTERLAIN  \n",
       "19    EN TOEN IK VOOR ‘T EERST OP DIE MOLEN KWAM  \n",
       "20                                     DE RUITER  \n",
       "21                     AL IN DIE STAD VAN LEUVEN  \n",
       "22            IK BEN ER DE GROENLANDSE STRAATJES  \n",
       "23               DAAR WAS EEN SCHOON JUFFER FIJN  \n",
       "24                       DE TWEE KONINGSKINDEREN  \n",
       "25        TOEN IK DER OP NEDERLANDS BERGEN STOND  \n",
       "26        TOEN IK DER OP NEDERLANDS BERGEN STOND  \n",
       "27    EEN JONGE SPEELMAN GING MET RASSE SCHREDEN  \n",
       "28                EEN DENNEBOOM STOND IN HET DAL  \n",
       "29                         AL IN DEN MORGENSTOND  \n",
       "...                                          ...  \n",
       "4090                   CCXXV. LOOFT GOD DEN HEER  \n",
       "4091    CCXXVI. GOD IS ONZE TOEVLUGT IN DEN NOOD  \n",
       "4092         CCXXVII. ZALIGHEID DER GODVREZENDEN  \n",
       "4093                       CCXXVIII. PSOUTERLIED  \n",
       "4094                            CCXXXII. CECILIA  \n",
       "4095                       CCXXXIII. BROEDER JAN  \n",
       "4096                CCXXXIV. HET LODDERIG MEISJE  \n",
       "4097                 CCXXXVI. HET MOLENARINNEKEN  \n",
       "4098                 CCXXXVII. HET BEDRUKTE WIJF  \n",
       "4099                     CCXLI. DE THEEVROUWKENS  \n",
       "4100                       CCXLII. BOERENVREUGDE  \n",
       "4101                          CCXLV. HERDERSLIED  \n",
       "4102                           CCXLVI. DE WERELD  \n",
       "4103                  CCXLVII. ‘S WERELDS HANDEL  \n",
       "4104                          CCL. DE GOEDE WEEK  \n",
       "4105                               CCLI. MEILIED  \n",
       "4106                       CCLIII. VACANTIE-LIED  \n",
       "4107                           CCLIV. KINDERLIED  \n",
       "4108                          CCLV. HET HINNEKEN  \n",
       "4109                   CCLVI. STE.-ANNA-LIEDEKEN  \n",
       "4110                     CCLVII. SINTE ANNA-LIED  \n",
       "4111        CCLVIII. DE KOEKOEK EN DE NACHTEGAEL  \n",
       "4112                   ‘NEN BOER UIT ZWITSERLAND  \n",
       "4113                      DAAR WAS EEN KWEZELTJE  \n",
       "4114                  NAAR OOSTLAND WIL IK VAREN  \n",
       "4115                               TROUWE LIEFDE  \n",
       "4116                  DE LIEFDE VAN EEN SCHIPPER  \n",
       "4117                                  1. Lofzang  \n",
       "4118                            De fiere schoone  \n",
       "4119                       De verliefde schipper  \n",
       "\n",
       "[4120 rows x 2 columns]"
      ]
     },
     "execution_count": 66,
     "metadata": {},
     "output_type": "execute_result"
    }
   ],
   "source": [
    "df[['tunefamily', 'title']] # new dataframe\n"
   ]
  },
  {
   "cell_type": "markdown",
   "metadata": {},
   "source": [
    "These objects are reduced DataFrames that behave exactly the same as the orginal DataFrame. We can slice them as follows:"
   ]
  },
  {
   "cell_type": "code",
   "execution_count": 67,
   "metadata": {
    "collapsed": true
   },
   "outputs": [
    {
     "data": {
      "text/html": [
       "<div>\n",
       "<table border=\"1\" class=\"dataframe\">\n",
       "  <thead>\n",
       "    <tr style=\"text-align: right;\">\n",
       "      <th></th>\n",
       "      <th>tunefamily</th>\n",
       "      <th>title</th>\n",
       "    </tr>\n",
       "  </thead>\n",
       "  <tbody>\n",
       "    <tr>\n",
       "      <th>0</th>\n",
       "      <td>NaN</td>\n",
       "      <td>NaN</td>\n",
       "    </tr>\n",
       "    <tr>\n",
       "      <th>1</th>\n",
       "      <td>NaN</td>\n",
       "      <td>NaN</td>\n",
       "    </tr>\n",
       "    <tr>\n",
       "      <th>2</th>\n",
       "      <td>Het was op een avond laat 1</td>\n",
       "      <td>NaN</td>\n",
       "    </tr>\n",
       "    <tr>\n",
       "      <th>3</th>\n",
       "      <td>Het kluchtje van fortuin 1</td>\n",
       "      <td>NaN</td>\n",
       "    </tr>\n",
       "    <tr>\n",
       "      <th>4</th>\n",
       "      <td>Ich bin der Doktor Eisenbart</td>\n",
       "      <td>NaN</td>\n",
       "    </tr>\n",
       "  </tbody>\n",
       "</table>\n",
       "</div>"
      ],
      "text/plain": [
       "                     tunefamily title\n",
       "0                           NaN   NaN\n",
       "1                           NaN   NaN\n",
       "2   Het was op een avond laat 1   NaN\n",
       "3    Het kluchtje van fortuin 1   NaN\n",
       "4  Ich bin der Doktor Eisenbart   NaN"
      ]
     },
     "execution_count": 67,
     "metadata": {},
     "output_type": "execute_result"
    }
   ],
   "source": [
    "df[['tunefamily', 'title']].head()"
   ]
  },
  {
   "cell_type": "markdown",
   "metadata": {},
   "source": [
    "Or we first slice the DataFrame and then select the columns we're interested in:"
   ]
  },
  {
   "cell_type": "code",
   "execution_count": 68,
   "metadata": {
    "collapsed": true
   },
   "outputs": [
    {
     "data": {
      "text/html": [
       "<div>\n",
       "<table border=\"1\" class=\"dataframe\">\n",
       "  <thead>\n",
       "    <tr style=\"text-align: right;\">\n",
       "      <th></th>\n",
       "      <th>tunefamily</th>\n",
       "      <th>title</th>\n",
       "    </tr>\n",
       "  </thead>\n",
       "  <tbody>\n",
       "    <tr>\n",
       "      <th>0</th>\n",
       "      <td>NaN</td>\n",
       "      <td>NaN</td>\n",
       "    </tr>\n",
       "    <tr>\n",
       "      <th>1</th>\n",
       "      <td>NaN</td>\n",
       "      <td>NaN</td>\n",
       "    </tr>\n",
       "    <tr>\n",
       "      <th>2</th>\n",
       "      <td>Het was op een avond laat 1</td>\n",
       "      <td>NaN</td>\n",
       "    </tr>\n",
       "    <tr>\n",
       "      <th>3</th>\n",
       "      <td>Het kluchtje van fortuin 1</td>\n",
       "      <td>NaN</td>\n",
       "    </tr>\n",
       "    <tr>\n",
       "      <th>4</th>\n",
       "      <td>Ich bin der Doktor Eisenbart</td>\n",
       "      <td>NaN</td>\n",
       "    </tr>\n",
       "  </tbody>\n",
       "</table>\n",
       "</div>"
      ],
      "text/plain": [
       "                     tunefamily title\n",
       "0                           NaN   NaN\n",
       "1                           NaN   NaN\n",
       "2   Het was op een avond laat 1   NaN\n",
       "3    Het kluchtje van fortuin 1   NaN\n",
       "4  Ich bin der Doktor Eisenbart   NaN"
      ]
     },
     "execution_count": 68,
     "metadata": {},
     "output_type": "execute_result"
    }
   ],
   "source": [
    "df[:5][['tunefamily', 'title']]"
   ]
  },
  {
   "cell_type": "markdown",
   "metadata": {},
   "source": [
    "## Counting discrete variables"
   ]
  },
  {
   "cell_type": "markdown",
   "metadata": {},
   "source": [
    "Most columns in the MTC dataset are categorical. Pandas provides the convenient method `.value_counts` which returns how often a particular value of a column occurs. Let's see that in action:"
   ]
  },
  {
   "cell_type": "code",
   "execution_count": 69,
   "metadata": {
    "collapsed": true
   },
   "outputs": [
    {
     "data": {
      "text/plain": [
       "0                             NaN\n",
       "1                             NaN\n",
       "2     Het was op een avond laat 1\n",
       "3      Het kluchtje van fortuin 1\n",
       "4    Ich bin der Doktor Eisenbart\n",
       "Name: tunefamily, dtype: object"
      ]
     },
     "execution_count": 69,
     "metadata": {},
     "output_type": "execute_result"
    }
   ],
   "source": [
    "df.tunefamily.head()"
   ]
  },
  {
   "cell_type": "markdown",
   "metadata": {},
   "source": [
    "As you can see, the column tunefamily contains many duplicates. We would like to obtain a frequency distribution of the tune families in the collection. This can be easily done using:"
   ]
  },
  {
   "cell_type": "code",
   "execution_count": 70,
   "metadata": {
    "collapsed": true
   },
   "outputs": [
    {
     "data": {
      "text/plain": [
       "Wat hoor ik hier in het midden van de nacht      48\n",
       "In Frankrijk buiten de poorten 2                 47\n",
       "Mijn vader zei laatst tegen mij                  46\n",
       "Toen ik stond op hoge bergen 1                   45\n",
       "Drie schuintamboers 1                            42\n",
       "Ik heb de groene straten 2                       41\n",
       "Vrienden kom hier en luister naar mijn lied 1    41\n",
       "Ik stond op hoge bergen 1                        37\n",
       "Daar zou er een maagdje vroeg opstaan 1          37\n",
       "Daar waren twee koningskinderen 4                35\n",
       "Daar ging een heer 1                             35\n",
       "Er zou eens een jager uit jagen gaan 1           33\n",
       "De ruiter met zijn blanke zwaard 1               32\n",
       "Daar was laatst een meisje loos 1                31\n",
       "Daar achter in die velden                        29\n",
       "Moeder ik kom u een woordje vragen 1             28\n",
       "De ruiter met zijn blanke zwaard 2               27\n",
       "Ik heb gespeeld al met mijnheer de Graaf         27\n",
       "Er reed er eens een ruiter 1                     27\n",
       "Aan de oever van een snelle vliet 1              25\n",
       "Ik kwam laatst eens in de stad                   24\n",
       "Ik ben er van deze morgen vroeg opgestaan        20\n",
       "Ik kwam laatstmaal over bergen en dalen 1        20\n",
       "Er was een koopman rijk en machtig               20\n",
       "Zolang de boom zal bloeien 1                     19\n",
       "Wat zag ik daar van verre 1                      18\n",
       "Credo                                            18\n",
       "Daar was een kwezeltje                           17\n",
       "Het was laatst op een zomerdag                   17\n",
       "Kom laat ons nu zo stil niet zijn 1              17\n",
       "                                                 ..\n",
       "Toen God de wereld heeft geschapen 1              1\n",
       "Het windje dat uit de oosten waait                1\n",
       "Er was een lief klein meisje teer                 1\n",
       "Daar ging eens een jager uit jagen 1              1\n",
       "Jan mijne man zou ruiter wezen 8                  1\n",
       "Drie koningen drie koningen zij komen van ver     1\n",
       "Waarvan gaan de boeren de boeren 3                1\n",
       "Wij zijn rijke marionse marionetten               1\n",
       "De lustelijke mei is nu in de tijd                1\n",
       "Toen ik nog jonger was van jaren 1                1\n",
       "De Miserere                                       1\n",
       "Schone Katrijn o beeld der beelden                1\n",
       "Op een morgenstond 2                              1\n",
       "Ceu sate viever no son                            1\n",
       "Hier ligt mijn Damon in het graf                  1\n",
       "Daar was laatst een boerenmeid                    1\n",
       "Bona nox bist a rechter Ochs                      1\n",
       "Lieve schipper vaar me over 4                     1\n",
       "Moriaantje zo zwart als roet                      1\n",
       "Corydon zucht nacht en dag                        1\n",
       "In Den Helder lag een steen                       1\n",
       "Wil ontspringen 1                                 1\n",
       "Nu laat ons allen God loven                       1\n",
       "Dat ruitertje in de schuur lag                    1\n",
       "Zevensprong 3                                     1\n",
       "Lieve schipper vaar me over 5                     1\n",
       "Een meisje had een ruiter lief 1                  1\n",
       "Prins Robberts mars                               1\n",
       "Ome Gerritje                                      1\n",
       "Oan Skillinge                                     1\n",
       "Name: tunefamily, dtype: int64"
      ]
     },
     "execution_count": 70,
     "metadata": {},
     "output_type": "execute_result"
    }
   ],
   "source": [
    "df.tunefamily.value_counts()"
   ]
  },
  {
   "cell_type": "markdown",
   "metadata": {},
   "source": [
    "To print only the *n* most frequent tune families, we can use:"
   ]
  },
  {
   "cell_type": "code",
   "execution_count": 71,
   "metadata": {
    "collapsed": true
   },
   "outputs": [
    {
     "data": {
      "text/plain": [
       "Wat hoor ik hier in het midden van de nacht      48\n",
       "In Frankrijk buiten de poorten 2                 47\n",
       "Mijn vader zei laatst tegen mij                  46\n",
       "Toen ik stond op hoge bergen 1                   45\n",
       "Drie schuintamboers 1                            42\n",
       "Ik heb de groene straten 2                       41\n",
       "Vrienden kom hier en luister naar mijn lied 1    41\n",
       "Ik stond op hoge bergen 1                        37\n",
       "Daar zou er een maagdje vroeg opstaan 1          37\n",
       "Daar waren twee koningskinderen 4                35\n",
       "Name: tunefamily, dtype: int64"
      ]
     },
     "execution_count": 71,
     "metadata": {},
     "output_type": "execute_result"
    }
   ],
   "source": [
    "df.tunefamily.value_counts()[:10]"
   ]
  },
  {
   "cell_type": "markdown",
   "metadata": {},
   "source": [
    "It gets even better. We can plot these frequency distributions by simply adding `.plot`!"
   ]
  },
  {
   "cell_type": "code",
   "execution_count": 72,
   "metadata": {
    "collapsed": true
   },
   "outputs": [
    {
     "data": {
      "text/plain": [
       "<matplotlib.axes._subplots.AxesSubplot at 0x7f0171707978>"
      ]
     },
     "execution_count": 72,
     "metadata": {},
     "output_type": "execute_result"
    },
    {
     "data": {
      "image/png": "[encoded data removed]",
      "text/plain": [
       "<matplotlib.figure.Figure at 0x7f01717076d8>"
      ]
     },
     "metadata": {},
     "output_type": "display_data"
    }
   ],
   "source": [
    "df.tunefamily.value_counts()[:10].plot(kind='bar')\n",
    "#df.tunefamily.value_counts()[:10].plot(kind='hist')\n"
   ]
  },
  {
   "cell_type": "code",
   "execution_count": 73,
   "metadata": {
    "collapsed": true
   },
   "outputs": [
    {
     "data": {
      "text/plain": [
       "<matplotlib.axes._subplots.AxesSubplot at 0x7f0170b51b70>"
      ]
     },
     "execution_count": 73,
     "metadata": {},
     "output_type": "execute_result"
    },
    {
     "data": {
      "image/png": "[encoded data removed]",
      "text/plain": [
       "<matplotlib.figure.Figure at 0x7f01716792b0>"
      ]
     },
     "metadata": {},
     "output_type": "display_data"
    }
   ],
   "source": [
    "df.tunefamily.value_counts()[:10].plot()"
   ]
  },
  {
   "cell_type": "markdown",
   "metadata": {},
   "source": [
    "---"
   ]
  },
  {
   "cell_type": "markdown",
   "metadata": {},
   "source": [
    "#### Q2"
   ]
  },
  {
   "cell_type": "markdown",
   "metadata": {},
   "source": [
    "Make a bar plot showing the 10 most frequent places where recordings have been made."
   ]
  },
  {
   "cell_type": "code",
   "execution_count": 74,
   "metadata": {
    "collapsed": true
   },
   "outputs": [
    {
     "data": {
      "text/plain": [
       "<matplotlib.axes._subplots.AxesSubplot at 0x7f0170b7ff98>"
      ]
     },
     "execution_count": 74,
     "metadata": {},
     "output_type": "execute_result"
    },
    {
     "data": {
      "image/png": "[encoded data removed]",
      "text/plain": [
       "<matplotlib.figure.Figure at 0x7f0170bf77b8>"
      ]
     },
     "metadata": {},
     "output_type": "display_data"
    }
   ],
   "source": [
    "# insert your code here\n",
    "df.columns\n",
    "df.place_of_recording.value_counts().head(n=10).plot(kind='bar')\n",
    "#"
   ]
  },
  {
   "cell_type": "markdown",
   "metadata": {},
   "source": [
    "Make a density plot of the place name frequency distribution. Tip: search for 'density' at: http://pandas.pydata.org/pandas-docs/stable/visualization.html"
   ]
  },
  {
   "cell_type": "code",
   "execution_count": 75,
   "metadata": {
    "collapsed": true
   },
   "outputs": [
    {
     "data": {
      "text/plain": [
       "<matplotlib.axes._subplots.AxesSubplot at 0x7f0170bd3c18>"
      ]
     },
     "execution_count": 75,
     "metadata": {},
     "output_type": "execute_result"
    },
    {
     "data": {
      "image/png": "[encoded data removed]",
      "text/plain": [
       "<matplotlib.figure.Figure at 0x7f017153e0f0>"
      ]
     },
     "metadata": {},
     "output_type": "display_data"
    }
   ],
   "source": [
    "# insert you code here\n",
    "df.columns\n",
    "df.place_of_recording.value_counts().plot(kind='kde')"
   ]
  },
  {
   "cell_type": "markdown",
   "metadata": {},
   "source": [
    "---"
   ]
  },
  {
   "cell_type": "markdown",
   "metadata": {},
   "source": [
    "The method `.value_counts` returns an object which is called a `Series` in pandas. DataFrames consist of columns which are Series objects. `Series` have many methods available, such as the `.plot` method. Other methods are: `.sum`, `.mean`, `.median` etc:"
   ]
  },
  {
   "cell_type": "code",
   "execution_count": 76,
   "metadata": {
    "collapsed": true
   },
   "outputs": [
    {
     "name": "stdout",
     "output_type": "stream",
     "text": [
      "<class 'pandas.core.series.Series'>\n",
      "3286\n",
      "3.70045045045\n",
      "2.0\n"
     ]
    },
    {
     "ename": "AttributeError",
     "evalue": "'Series' object has no attribute 't'",
     "output_type": "error",
     "traceback": [
      "\u001b[1;31m---------------------------------------------------------------------------\u001b[0m",
      "\u001b[1;31mAttributeError\u001b[0m                            Traceback (most recent call last)",
      "\u001b[1;32m<ipython-input-76-9185b0c24375>\u001b[0m in \u001b[0;36m<module>\u001b[1;34m()\u001b[0m\n\u001b[0;32m      5\u001b[0m \u001b[0mprint\u001b[0m\u001b[1;33m(\u001b[0m\u001b[0mtune_counts\u001b[0m\u001b[1;33m.\u001b[0m\u001b[0mmean\u001b[0m\u001b[1;33m(\u001b[0m\u001b[1;33m)\u001b[0m\u001b[1;33m)\u001b[0m\u001b[1;33m\u001b[0m\u001b[0m\n\u001b[0;32m      6\u001b[0m \u001b[0mprint\u001b[0m\u001b[1;33m(\u001b[0m\u001b[0mtune_counts\u001b[0m\u001b[1;33m.\u001b[0m\u001b[0mmedian\u001b[0m\u001b[1;33m(\u001b[0m\u001b[1;33m)\u001b[0m\u001b[1;33m)\u001b[0m\u001b[1;33m\u001b[0m\u001b[0m\n\u001b[1;32m----> 7\u001b[1;33m \u001b[0mtune_counts\u001b[0m\u001b[1;33m.\u001b[0m\u001b[0mt\u001b[0m \u001b[1;31m# nice\u001b[0m\u001b[1;33m\u001b[0m\u001b[0m\n\u001b[0m",
      "\u001b[1;32m/usr/lib64/python3.4/site-packages/pandas/core/generic.py\u001b[0m in \u001b[0;36m__getattr__\u001b[1;34m(self, name)\u001b[0m\n\u001b[0;32m   2358\u001b[0m                 \u001b[1;32mreturn\u001b[0m \u001b[0mself\u001b[0m\u001b[1;33m[\u001b[0m\u001b[0mname\u001b[0m\u001b[1;33m]\u001b[0m\u001b[1;33m\u001b[0m\u001b[0m\n\u001b[0;32m   2359\u001b[0m             raise AttributeError(\"'%s' object has no attribute '%s'\" %\n\u001b[1;32m-> 2360\u001b[1;33m                                  (type(self).__name__, name))\n\u001b[0m\u001b[0;32m   2361\u001b[0m \u001b[1;33m\u001b[0m\u001b[0m\n\u001b[0;32m   2362\u001b[0m     \u001b[1;32mdef\u001b[0m \u001b[0m__setattr__\u001b[0m\u001b[1;33m(\u001b[0m\u001b[0mself\u001b[0m\u001b[1;33m,\u001b[0m \u001b[0mname\u001b[0m\u001b[1;33m,\u001b[0m \u001b[0mvalue\u001b[0m\u001b[1;33m)\u001b[0m\u001b[1;33m:\u001b[0m\u001b[1;33m\u001b[0m\u001b[0m\n",
      "\u001b[1;31mAttributeError\u001b[0m: 'Series' object has no attribute 't'"
     ]
    }
   ],
   "source": [
    "# columns are Series\n",
    "tune_counts = df.tunefamily.value_counts()\n",
    "print(type(tune_counts))\n",
    "print(tune_counts.sum())\n",
    "print(tune_counts.mean())\n",
    "print(tune_counts.median())\n",
    "tune_counts.t # nice"
   ]
  },
  {
   "cell_type": "markdown",
   "metadata": {},
   "source": [
    "To get a quick summary of a Series object, use the method `.describe`:"
   ]
  },
  {
   "cell_type": "code",
   "execution_count": null,
   "metadata": {
    "collapsed": true
   },
   "outputs": [],
   "source": [
    "tune_counts.describe()"
   ]
  },
  {
   "cell_type": "markdown",
   "metadata": {},
   "source": [
    "---"
   ]
  },
  {
   "cell_type": "markdown",
   "metadata": {},
   "source": [
    "#### Q3"
   ]
  },
  {
   "cell_type": "markdown",
   "metadata": {},
   "source": [
    "In the next cell, place your cursor behind the dot and hit TAB to retrieve an overview of the many methods available."
   ]
  },
  {
   "cell_type": "code",
   "execution_count": null,
   "metadata": {
    "collapsed": true
   },
   "outputs": [],
   "source": [
    "tune_counts."
   ]
  },
  {
   "cell_type": "markdown",
   "metadata": {},
   "source": [
    "Write a line of code which computes the cumulative sum of `tune_counts` and plots it as a line plot. A cumulative sum is a series of partial sums over a given sequence, rather than just the final number in that series (which would be the regular sum)."
   ]
  },
  {
   "cell_type": "code",
   "execution_count": null,
   "metadata": {
    "collapsed": true
   },
   "outputs": [],
   "source": [
    "# insert your code here\n",
    "tune_counts.cumsum().plot() # nice..."
   ]
  },
  {
   "cell_type": "markdown",
   "metadata": {},
   "source": [
    "## Data selection under conditions"
   ]
  },
  {
   "cell_type": "markdown",
   "metadata": {},
   "source": [
    "Often we are interested in particular rows of a dataframe that satisfy particular conditions. We might be interested in all recordings that were made in Groningen for example, or all recordings before 1980. In the previous chapters you have written a lot of code that involved looping over an iterable and depending on whether some condition held, append each item in that iterable to a new list. In Pandas people generally avoid looping and prefer to use so-called vectorized operations that take care of the looping internally.\n",
    "\n",
    "Say we are interested in all records of which the tune family is equal to `Die schuintamboers 1`. Normally we would write a loop, such as:\n",
    "\n",
    "    results = []\n",
    "    for row in df:\n",
    "        if row.tunefamily == 'Drie schuintamboers 1':\n",
    "            results.append(row)\n",
    "    print(results)\n",
    "\n",
    "(Note that the above code will not actually work, because of the way DataFrames are structured and looped over, but it shows a standard looping approach). In Pandas you can achieve the same thing (and better!) by using the following single line:"
   ]
  },
  {
   "cell_type": "code",
   "execution_count": null,
   "metadata": {
    "collapsed": false
   },
   "outputs": [],
   "source": [
    "df[df.tunefamily == 'Drie schuintamboers 1'] # select all rows where tunefamily is eq to 'title' -- returns a dataframe"
   ]
  },
  {
   "cell_type": "code",
   "execution_count": null,
   "metadata": {
    "collapsed": false
   },
   "outputs": [],
   "source": [
    "stuff"
   ]
  },
  {
   "cell_type": "markdown",
   "metadata": {},
   "source": [
    "Let's break that statement down. The inner statement `df.tunefamily == 'Drie schuintamboers 1'` tests for each item in the column `tunefamily` whether it is equal to `'Drie schuintamboers 1'`. When we execute that seperately, Python returns a Series object with boolean values that are either `True` (if it was a match) or `False` (if the item didn't match):"
   ]
  },
  {
   "cell_type": "code",
   "execution_count": null,
   "metadata": {
    "collapsed": true
   },
   "outputs": [],
   "source": [
    "df.tunefamily == 'Drie schuintamboers 1'"
   ]
  },
  {
   "cell_type": "markdown",
   "metadata": {},
   "source": [
    "When we *index* our `df` with this Series object, we get just the rows where the condition holds."
   ]
  },
  {
   "cell_type": "markdown",
   "metadata": {},
   "source": [
    "---"
   ]
  },
  {
   "cell_type": "markdown",
   "metadata": {},
   "source": [
    "#### Q4"
   ]
  },
  {
   "cell_type": "markdown",
   "metadata": {},
   "source": [
    "Write a line of code that returns a new dataframe in which all recordings are from Groningen."
   ]
  },
  {
   "cell_type": "code",
   "execution_count": null,
   "metadata": {
    "collapsed": true
   },
   "outputs": [],
   "source": [
    "# insert your code here\n",
    "df[df.place_of_recording == \"Groningen\"]"
   ]
  },
  {
   "cell_type": "markdown",
   "metadata": {},
   "source": [
    "What is the tunefamily that is most often attested in Amsterdam? (Tip: remember the value_counts method you can call on (filtered) DataFrames. Also, Series objects have a method called `argmax` that returns the argument corresponding to a maximum value.)"
   ]
  },
  {
   "cell_type": "code",
   "execution_count": null,
   "metadata": {
    "collapsed": true
   },
   "outputs": [],
   "source": [
    "# insert your code here\n",
    "df[df.place_of_recording == \"Amsterdam\"].tunefamily.value_counts().argmax() # without the parentheses this returns a \n",
    "                                                                            # dataframe"
   ]
  },
  {
   "cell_type": "markdown",
   "metadata": {},
   "source": [
    "---"
   ]
  },
  {
   "cell_type": "markdown",
   "metadata": {},
   "source": [
    "We can easily select data on the basis of multiple conditions. Here is an example:"
   ]
  },
  {
   "cell_type": "code",
   "execution_count": null,
   "metadata": {
    "collapsed": true
   },
   "outputs": [],
   "source": [
    "in_Assen = df.place_of_recording == 'Assen'\n",
    "is_Suze = df.tunefamily == 'Suze mien lam'\n",
    "#df[in_Assen & is_Suze]\n",
    "df[(df.place_of_recording == 'Assen') & (df.tunefamily == 'Suze mien lam')]"
   ]
  },
  {
   "cell_type": "markdown",
   "metadata": {},
   "source": [
    "Just to show you that the returned object is another DataFrame, we select two columns to construct a reduced DataFrame:"
   ]
  },
  {
   "cell_type": "code",
   "execution_count": null,
   "metadata": {
    "collapsed": true
   },
   "outputs": [],
   "source": [
    "df[in_Assen & is_Suze][['filename', 'place_of_recording']]"
   ]
  },
  {
   "cell_type": "markdown",
   "metadata": {},
   "source": [
    "---"
   ]
  },
  {
   "cell_type": "markdown",
   "metadata": {},
   "source": [
    "#### Q5"
   ]
  },
  {
   "cell_type": "markdown",
   "metadata": {},
   "source": [
    "When we look at all values in `df.place_of_recording` we notice that many values are missing (NaN values). "
   ]
  },
  {
   "cell_type": "code",
   "execution_count": null,
   "metadata": {
    "collapsed": true
   },
   "outputs": [],
   "source": [
    "df.place_of_recording"
   ]
  },
  {
   "cell_type": "markdown",
   "metadata": {},
   "source": [
    "We can use the method `.isnull` (e.g. on a column) to select all items that are NaN. Similarly, the method `.notnull` is to select all items that are not NaN. Write a line of code that returns a new DataFrame in which for all records the place of recording is known."
   ]
  },
  {
   "cell_type": "code",
   "execution_count": null,
   "metadata": {
    "collapsed": true
   },
   "outputs": [],
   "source": [
    "# insert your code here\n",
    "placename_df = df[df.place_of_recording.notnull()] # use the square brackets to construct a dataframe\n",
    "placename_df"
   ]
  },
  {
   "cell_type": "markdown",
   "metadata": {},
   "source": [
    "---"
   ]
  },
  {
   "cell_type": "markdown",
   "metadata": {},
   "source": [
    "## TimeSeries"
   ]
  },
  {
   "cell_type": "markdown",
   "metadata": {},
   "source": [
    "Pandas is a library with tremendous functionality for tabular data. Another key feature of the library is the way it can work with time series. The MTC contains a column `date_of_recording` which provides for most but not all items the date at which the recording was made. In the following analyses, we would like to work with data for which the date of recording is known. We create the corresponding DataFrame as follows:"
   ]
  },
  {
   "cell_type": "code",
   "execution_count": null,
   "metadata": {
    "collapsed": true
   },
   "outputs": [],
   "source": [
    "df = df[df.date_of_recording.notnull()]"
   ]
  },
  {
   "cell_type": "markdown",
   "metadata": {},
   "source": [
    "To conveniently work with time series, we set the index of the dataframe (i.e. the labels of the rows) to hold the contents of the column `date_of_recording`. Note that after this operation, the column `date_of_recording` is no longer part of the dataframe but only as an index."
   ]
  },
  {
   "cell_type": "code",
   "execution_count": null,
   "metadata": {
    "collapsed": true
   },
   "outputs": [],
   "source": [
    "df = df.set_index(\"date_of_recording\")"
   ]
  },
  {
   "cell_type": "code",
   "execution_count": null,
   "metadata": {
    "collapsed": true
   },
   "outputs": [],
   "source": [
    "df.head()"
   ]
  },
  {
   "cell_type": "markdown",
   "metadata": {},
   "source": [
    "The Index of our new `df` is now of the type `DatetimeIndex`. (If not, the CSV was not read in with the argument `parse_dates=['date_of_recording']`)"
   ]
  },
  {
   "cell_type": "code",
   "execution_count": null,
   "metadata": {
    "collapsed": true
   },
   "outputs": [],
   "source": [
    "type(df.index)"
   ]
  },
  {
   "cell_type": "markdown",
   "metadata": {},
   "source": [
    "This data structure provides a vast amount of methods and functions to manipulate and index the data. For example, we can retrieve the year of each recording as follows:"
   ]
  },
  {
   "cell_type": "code",
   "execution_count": null,
   "metadata": {
    "collapsed": true
   },
   "outputs": [],
   "source": [
    "df.index.year"
   ]
  },
  {
   "cell_type": "markdown",
   "metadata": {},
   "source": [
    "Or the day:"
   ]
  },
  {
   "cell_type": "code",
   "execution_count": null,
   "metadata": {
    "collapsed": true
   },
   "outputs": [],
   "source": [
    "df.index.day"
   ]
  },
  {
   "cell_type": "markdown",
   "metadata": {},
   "source": [
    "Or the week:"
   ]
  },
  {
   "cell_type": "code",
   "execution_count": null,
   "metadata": {
    "collapsed": true
   },
   "outputs": [],
   "source": [
    "type(df.index)"
   ]
  },
  {
   "cell_type": "markdown",
   "metadata": {},
   "source": [
    "---"
   ]
  },
  {
   "cell_type": "markdown",
   "metadata": {},
   "source": [
    "#### Q6"
   ]
  },
  {
   "cell_type": "markdown",
   "metadata": {},
   "source": [
    "Write a single line of code which returns a new DataFrame consisting of all recordings made at January first (independent of the year). Tip: type `df.index.` followed by TAB to scan through an overview of all the available methods."
   ]
  },
  {
   "cell_type": "code",
   "execution_count": null,
   "metadata": {
    "collapsed": false
   },
   "outputs": [],
   "source": [
    "# insert your code here\n",
    "df[df.index.dayofyear == 1] # == df.index.is_year_start"
   ]
  },
  {
   "cell_type": "markdown",
   "metadata": {},
   "source": [
    "---"
   ]
  },
  {
   "cell_type": "markdown",
   "metadata": {},
   "source": [
    "## Add a column to a Dataframe"
   ]
  },
  {
   "cell_type": "markdown",
   "metadata": {},
   "source": [
    "Pandas makes it really easy to add new columns to a DataFrame. In the following cell we add a column containing the week number at which the recording was made."
   ]
  },
  {
   "cell_type": "code",
   "execution_count": null,
   "metadata": {
    "collapsed": false
   },
   "outputs": [],
   "source": [
    "df['week'] = df.index.week"
   ]
  },
  {
   "cell_type": "code",
   "execution_count": null,
   "metadata": {
    "collapsed": true
   },
   "outputs": [],
   "source": [
    "df.week[:10]"
   ]
  },
  {
   "cell_type": "markdown",
   "metadata": {},
   "source": [
    "---"
   ]
  },
  {
   "cell_type": "markdown",
   "metadata": {},
   "source": [
    "#### Q7"
   ]
  },
  {
   "cell_type": "markdown",
   "metadata": {},
   "source": [
    "Add a column `year` to the DataFrame which contains for each record the year of recording."
   ]
  },
  {
   "cell_type": "code",
   "execution_count": null,
   "metadata": {
    "collapsed": true
   },
   "outputs": [],
   "source": [
    "# insert your code here\n",
    "df[\"year_of_recording\"] = df.index.year\n",
    "df.year_of_recording[:10]"
   ]
  },
  {
   "cell_type": "markdown",
   "metadata": {},
   "source": [
    "---"
   ]
  },
  {
   "cell_type": "markdown",
   "metadata": {},
   "source": [
    "## Grouping data"
   ]
  },
  {
   "cell_type": "markdown",
   "metadata": {},
   "source": [
    "Often we would like to group our data on the basis of some criterium and perform operations on those groups. We could, for example, group all recordings on the basis of where they were recorded. Pandas provides the convenient (though sometimes challenging) method `.groupby`. It works as follows:"
   ]
  },
  {
   "cell_type": "code",
   "execution_count": null,
   "metadata": {
    "collapsed": true
   },
   "outputs": [],
   "source": [
    "grouped = df.groupby('place_of_recording')"
   ]
  },
  {
   "cell_type": "code",
   "execution_count": null,
   "metadata": {
    "collapsed": true
   },
   "outputs": [],
   "source": [
    "grouped.date_of_recording.value_counts()"
   ]
  },
  {
   "cell_type": "markdown",
   "metadata": {},
   "source": [
    "A `DataFrameGroupBy` object consists of several smaller DataFrames per group. We grouped the original dataframe on the key `place_of_recording` and therefore the `grouped` object contains a DataFrame for each unique place of recording. \n",
    "\n",
    "We can use the method `.size` to assess the size (i.e. number of records) of each group:"
   ]
  },
  {
   "cell_type": "code",
   "execution_count": null,
   "metadata": {
    "collapsed": true
   },
   "outputs": [],
   "source": [
    "grouped.size()"
   ]
  },
  {
   "cell_type": "markdown",
   "metadata": {},
   "source": [
    "When we add the method `.sort_values` and specify that we want the sorting to be done in descending order we obtain the following Series:"
   ]
  },
  {
   "cell_type": "code",
   "execution_count": null,
   "metadata": {
    "collapsed": true
   },
   "outputs": [],
   "source": [
    "grouped.size().sort_values(ascending=False)"
   ]
  },
  {
   "cell_type": "markdown",
   "metadata": {},
   "source": [
    "---"
   ]
  },
  {
   "cell_type": "markdown",
   "metadata": {},
   "source": [
    "#### Q8"
   ]
  },
  {
   "cell_type": "markdown",
   "metadata": {},
   "source": [
    "Just to recap, compute the max, min, mean, and median number of items per group."
   ]
  },
  {
   "cell_type": "code",
   "execution_count": null,
   "metadata": {
    "collapsed": true
   },
   "outputs": [],
   "source": [
    "# insert your code here\n",
    "grouped.size().max()\n",
    "grouped.size().min()\n",
    "grouped.size().mean()\n",
    "grouped.size().median()\n",
    "grouped.size().describe()"
   ]
  },
  {
   "cell_type": "markdown",
   "metadata": {},
   "source": [
    "---"
   ]
  },
  {
   "cell_type": "markdown",
   "metadata": {},
   "source": [
    "Grouped objects are extremely helpful when we want to compute a frequency distribution for each unique item of a particular column. Say we would like to investigate the frequency distribution of tune families per place of recording. Given that we have created a grouped object with `place_of_recording` as key, all we need to do is the following:"
   ]
  },
  {
   "cell_type": "code",
   "execution_count": null,
   "metadata": {
    "collapsed": true
   },
   "outputs": [],
   "source": [
    "grouped.tunefamily.value_counts()"
   ]
  },
  {
   "cell_type": "markdown",
   "metadata": {},
   "source": [
    "Let's make it slightly more complex. In the previous example we created a grouped object using a single key. We can also specify multiple keys, as in:"
   ]
  },
  {
   "cell_type": "code",
   "execution_count": null,
   "metadata": {
    "collapsed": false
   },
   "outputs": [],
   "source": [
    "grouped = df.groupby(['place_of_recording', 'singer_id_s'])"
   ]
  },
  {
   "cell_type": "markdown",
   "metadata": {},
   "source": [
    "This produces the following data structure:"
   ]
  },
  {
   "cell_type": "code",
   "execution_count": null,
   "metadata": {
    "collapsed": true
   },
   "outputs": [],
   "source": [
    "grouped.tunefamily.value_counts()"
   ]
  },
  {
   "cell_type": "markdown",
   "metadata": {},
   "source": [
    "---"
   ]
  },
  {
   "cell_type": "markdown",
   "metadata": {},
   "source": [
    "#### Q9"
   ]
  },
  {
   "cell_type": "markdown",
   "metadata": {},
   "source": [
    "Make a plot that visualizes for each year how many recordings were made. Tip: first create a grouped object."
   ]
  },
  {
   "cell_type": "code",
   "execution_count": null,
   "metadata": {
    "collapsed": true
   },
   "outputs": [],
   "source": [
    "# insert your code here\n",
    "grouped_year = df.groupby(df.index.year)\n",
    "grouped_year.tunefamily.count().plot(kind='bar')"
   ]
  },
  {
   "cell_type": "markdown",
   "metadata": {},
   "source": [
    "---"
   ]
  },
  {
   "cell_type": "markdown",
   "metadata": {},
   "source": [
    "## String operations"
   ]
  },
  {
   "cell_type": "markdown",
   "metadata": {},
   "source": [
    "One of my favourite functionalities of Pandas is the way it allows you to do vectorized string operations. These operations can be useful if you want to select particular string cells in your dataframe or when you want to manipulate / correct the data. Let's have a look at some of the string data in the MTC:"
   ]
  },
  {
   "cell_type": "code",
   "execution_count": null,
   "metadata": {
    "collapsed": true
   },
   "outputs": [],
   "source": [
    "firstlines = df.firstline"
   ]
  },
  {
   "cell_type": "code",
   "execution_count": null,
   "metadata": {
    "collapsed": true
   },
   "outputs": [],
   "source": [
    "firstlines[:10]"
   ]
  },
  {
   "cell_type": "markdown",
   "metadata": {},
   "source": [
    "Now, `firstlines` is a Series corresponding to the firstline column, which contains strings. We can access the string methods of a column with `.str`. In the following cell, place your cursor after the last dot hit TAB:"
   ]
  },
  {
   "cell_type": "code",
   "execution_count": null,
   "metadata": {
    "collapsed": true
   },
   "outputs": [],
   "source": [
    "firstlines.str."
   ]
  },
  {
   "cell_type": "markdown",
   "metadata": {},
   "source": [
    "As you can see, almost all regular string operations are available. The neat thing is that if you call a method like `.upper`, the method will be automatically applied to all items in the series (this is referred to as vectorized operations). Let's see that in action:"
   ]
  },
  {
   "cell_type": "code",
   "execution_count": null,
   "metadata": {
    "collapsed": true
   },
   "outputs": [],
   "source": [
    "firstlines.str.lower().head()"
   ]
  },
  {
   "cell_type": "markdown",
   "metadata": {},
   "source": [
    "The method `.contains` is particularly useful if you want to extract all strings that contain a particular substring. We could, for example, search for the string `boom` to extract all records that mention a tree in the first lines:"
   ]
  },
  {
   "cell_type": "code",
   "execution_count": null,
   "metadata": {
    "collapsed": true
   },
   "outputs": [],
   "source": [
    "firstlines.str.contains('boom')"
   ]
  },
  {
   "cell_type": "markdown",
   "metadata": {},
   "source": [
    "The method `.contains` returns a boolean series which we can use to index the dataframe:"
   ]
  },
  {
   "cell_type": "code",
   "execution_count": null,
   "metadata": {
    "collapsed": true
   },
   "outputs": [],
   "source": [
    "df[firstlines.str.contains('boom')]"
   ]
  },
  {
   "cell_type": "markdown",
   "metadata": {},
   "source": [
    "---"
   ]
  },
  {
   "cell_type": "markdown",
   "metadata": {},
   "source": [
    "To give another example, let's search for all records of which the first line mentions the word `zomer` (summer):"
   ]
  },
  {
   "cell_type": "code",
   "execution_count": null,
   "metadata": {
    "collapsed": true
   },
   "outputs": [],
   "source": [
    "is_summer = firstlines.str.contains('zomer')"
   ]
  },
  {
   "cell_type": "code",
   "execution_count": null,
   "metadata": {
    "collapsed": true
   },
   "outputs": [],
   "source": [
    "is_summer"
   ]
  },
  {
   "cell_type": "markdown",
   "metadata": {},
   "source": [
    "As you can see, this returns a boolean Series object. Note that the original `DatetimeIndex` is still in place. We can use that to conveniently plot all occurrences over the years:"
   ]
  },
  {
   "cell_type": "code",
   "execution_count": null,
   "metadata": {
    "collapsed": true
   },
   "outputs": [],
   "source": [
    "is_summer.plot()"
   ]
  },
  {
   "cell_type": "markdown",
   "metadata": {},
   "source": [
    "When we index `firstlines` with `is_summer` we retrieve a new Series object consisting of all records that mention the word `zomer` in their first line:"
   ]
  },
  {
   "cell_type": "code",
   "execution_count": null,
   "metadata": {
    "collapsed": true
   },
   "outputs": [],
   "source": [
    "summer_lines = firstlines[is_summer]\n",
    "summer_lines"
   ]
  },
  {
   "cell_type": "markdown",
   "metadata": {},
   "source": [
    "---"
   ]
  },
  {
   "cell_type": "markdown",
   "metadata": {},
   "source": [
    "#### Q10"
   ]
  },
  {
   "cell_type": "markdown",
   "metadata": {},
   "source": [
    "Write some code that computes in which quarter of the year most songs about summer are recorded. Tip: use the `.index` attribute and a `Counter` object from the `collections` library."
   ]
  },
  {
   "cell_type": "code",
   "execution_count": null,
   "metadata": {
    "collapsed": true
   },
   "outputs": [],
   "source": [
    "# insert your code here\n",
    "from collections import Counter\n",
    "\n",
    "Counter(df.index.month).most_common()\n"
   ]
  },
  {
   "cell_type": "markdown",
   "metadata": {},
   "source": [
    "---"
   ]
  },
  {
   "cell_type": "markdown",
   "metadata": {},
   "source": [
    "## Exercises"
   ]
  },
  {
   "cell_type": "markdown",
   "metadata": {},
   "source": [
    "You now should have a basic understanding of some important concepts in the Pandas library. The library contains many more interesting functions and methods and it takes quite some time to master them all. The best way to become more confident in using the library is by working with your own data and try to do some basic analyses. \n",
    "\n",
    "The following exercises are to give some more practice. Some problems will be tough, and you cannot always rely on the information provided in this chapter. This is something you'll have to get used to. Don't worry, visit the documentation website (see http://pandas.pydata.org/pandas-docs/version/0.17.0/), Google for particular problems or ask questions on the Slack channel. Asking for help is all part of learning a new library. \n",
    "\n",
    "In the following exercises we begin with working on the Dative alternation dataset of Bresnan et al. (2007). In English, the recipient can be realized either as an Noun Phrase (NP), *John gave Mary the book*, or as a Prepositional Phrase (PP), *John gave the book to Mary*. Bresnan et al. (2007) studied several factors that influence the realization of the dative. The complete dataset of Bresnan et al. (2007) is included in the `data` directory under `data/dative.csv`."
   ]
  },
  {
   "cell_type": "markdown",
   "metadata": {},
   "source": [
    "Use Pandas to read the dataset as a DataFrame:"
   ]
  },
  {
   "cell_type": "code",
   "execution_count": null,
   "metadata": {
    "collapsed": true
   },
   "outputs": [],
   "source": [
    "dtv = pd.read_csv('data/dative.csv')"
   ]
  },
  {
   "cell_type": "markdown",
   "metadata": {},
   "source": [
    "Inspect the first 10 lines of the dataframe:"
   ]
  },
  {
   "cell_type": "code",
   "execution_count": null,
   "metadata": {
    "collapsed": true
   },
   "outputs": [],
   "source": [
    "dtv.head()\n"
   ]
  },
  {
   "cell_type": "markdown",
   "metadata": {},
   "source": [
    "The dataset provides for each entry the verb that was used. Create a Series object that counts how often each verb is used:"
   ]
  },
  {
   "cell_type": "code",
   "execution_count": null,
   "metadata": {
    "collapsed": true
   },
   "outputs": [],
   "source": [
    "verb_fr = dtv.Verb.value_counts()"
   ]
  },
  {
   "cell_type": "markdown",
   "metadata": {},
   "source": [
    "Plot the ten most frequent verbs as a pie chart:"
   ]
  },
  {
   "cell_type": "code",
   "execution_count": null,
   "metadata": {
    "collapsed": true
   },
   "outputs": [],
   "source": [
    "verb_fr.nlargest(10).plot(kind='pie')"
   ]
  },
  {
   "cell_type": "markdown",
   "metadata": {},
   "source": [
    "The realization of the recipient (NP or PP) is stored in the column `RealizationOfRecipient`. How many NP realizations are there and how many PP realizations?"
   ]
  },
  {
   "cell_type": "code",
   "execution_count": null,
   "metadata": {
    "collapsed": true
   },
   "outputs": [],
   "source": [
    " dtv.RealizationOfRecipient.value_counts()\n"
   ]
  },
  {
   "cell_type": "markdown",
   "metadata": {},
   "source": [
    "The recipients can be either animate or inanimate. How many PP realizations are inanimate? Tip: use `pd.crosstab`."
   ]
  },
  {
   "cell_type": "code",
   "execution_count": null,
   "metadata": {
    "collapsed": true
   },
   "outputs": [],
   "source": [
    "\n",
    "animacy_ctab = pd.crosstab(dtv.RealizationOfRecipient, dtv.AnimacyOfRec)"
   ]
  },
  {
   "cell_type": "markdown",
   "metadata": {},
   "source": [
    "Make a single bar plot that visualizes for both PP and NP realizations of the recipient how often they are animate or inanimate. Tip: use the crosstab method of the previous exercise."
   ]
  },
  {
   "cell_type": "code",
   "execution_count": null,
   "metadata": {
    "collapsed": true
   },
   "outputs": [],
   "source": [
    "animacy_ctab.plot(kind='bar')"
   ]
  },
  {
   "cell_type": "markdown",
   "metadata": {},
   "source": [
    "Sometimes it is convenient to sort a dataframe on a particular column. Write some code that sorts the `dative` dataframe on the realization of the recipient."
   ]
  },
  {
   "cell_type": "code",
   "execution_count": null,
   "metadata": {
    "collapsed": true
   },
   "outputs": [],
   "source": [
    "dtv_realization = dtv.set_index('RealizationOfRecipient').sort_index()\n",
    "dtv_realization"
   ]
  },
  {
   "cell_type": "markdown",
   "metadata": {},
   "source": [
    "Now sort the data on the length of the recipient in **descending** order:"
   ]
  },
  {
   "cell_type": "code",
   "execution_count": null,
   "metadata": {
    "collapsed": true
   },
   "outputs": [],
   "source": [
    "len_rec = dtv.set_index(dtv.LengthOfRecipient).sort_index(ascending=False)"
   ]
  },
  {
   "cell_type": "markdown",
   "metadata": {},
   "source": [
    "Write some code that prints the mean length of the recipient for both animate and inanimate recipients."
   ]
  },
  {
   "cell_type": "code",
   "execution_count": null,
   "metadata": {
    "collapsed": true
   },
   "outputs": [],
   "source": [
    "(dtv[dtv.AnimacyOfRec == \"animate\"].LengthOfRecipient.mean(),\n",
    "dtv[dtv.AnimacyOfRec == \"inanimate\"].LengthOfRecipient.mean())\n"
   ]
  },
  {
   "cell_type": "markdown",
   "metadata": {},
   "source": [
    "Make a boxplot that visualizes for each realization of the recipient (i.e. NP or PP) the length of the theme. Tip: make use of the method `dative.boxplot`."
   ]
  },
  {
   "cell_type": "code",
   "execution_count": 168,
   "metadata": {
    "collapsed": false
   },
   "outputs": [
    {
     "data": {
      "text/plain": [
       "<matplotlib.axes._subplots.AxesSubplot at 0x7f015f97c550>"
      ]
     },
     "execution_count": 168,
     "metadata": {},
     "output_type": "execute_result"
    },
    {
     "data": {
      "image/png": "[encoded data removed]",
      "text/plain": [
       "<matplotlib.figure.Figure at 0x7f015f952748>"
      ]
     },
     "metadata": {},
     "output_type": "display_data"
    }
   ],
   "source": [
    "dtv.reset_index().boxplot('LengthOfTheme',by='RealizationOfRecipient', fontsize=20,figsize=(12,10))\n",
    "\n"
   ]
  }
 ],
 "metadata": {
  "kernelspec": {
   "display_name": "Python 3",
   "language": "python",
   "name": "python3"
  },
  "language_info": {
   "codemirror_mode": {
    "name": "ipython",
    "version": 3
   },
   "file_extension": ".py",
   "mimetype": "text/x-python",
   "name": "python",
   "nbconvert_exporter": "python",
   "pygments_lexer": "ipython3",
   "version": "3.5.1"
  }
 },
 "nbformat": 4,
 "nbformat_minor": 0
}
